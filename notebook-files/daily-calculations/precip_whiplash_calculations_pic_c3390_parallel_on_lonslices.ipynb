{
 "cells": [
  {
   "cell_type": "code",
   "execution_count": 208,
   "metadata": {
    "ExecuteTime": {
     "end_time": "2018-11-19T14:08:18.102766Z",
     "start_time": "2018-11-19T14:08:17.810872Z"
    }
   },
   "outputs": [],
   "source": [
    "import numpy\n",
    "import xarray\n",
    "import matplotlib.pyplot as mp\n",
    "import glob\n",
    "import pandas\n",
    "import cartopy\n",
    "import itertools\n",
    "#import tqdm\n",
    "import netCDF4\n",
    "\n",
    "%matplotlib inline"
   ]
  },
  {
   "cell_type": "code",
   "execution_count": 216,
   "metadata": {
    "ExecuteTime": {
     "end_time": "2018-11-19T14:53:49.557876Z",
     "start_time": "2018-11-19T14:53:49.024417Z"
    }
   },
   "outputs": [
    {
     "name": "stderr",
     "output_type": "stream",
     "text": [
      "/export/home/blangenb/miniconda3/lib/python3.6/site-packages/xarray/coding/times.py:132: SerializationWarning: Unable to decode time axis into full numpy.datetime64 objects, continuing using dummy cftime.datetime objects instead, reason: dates out of range\n",
      "  enable_cftimeindex)\n",
      "/export/home/blangenb/miniconda3/lib/python3.6/site-packages/xarray/coding/variables.py:69: SerializationWarning: Unable to decode time axis into full numpy.datetime64 objects, continuing using dummy cftime.datetime objects instead, reason: dates out of range\n",
      "  return self.func(self.array)\n"
     ]
    }
   ],
   "source": [
    "PRECT_orig = '/scratch/blangenb/NCAR_LENS/PRECT/b.e11.B1850C5CN.f09_g16.005.cam.h1.PRECT.04020101-04991231.nc'\n",
    "PRECT_orig_ds = xarray.open_dataset(PRECT_orig)\n",
    "lat_full = PRECT_orig_ds['lat'].values\n",
    "lon_full = PRECT_orig_ds['lon'].values"
   ]
  },
  {
   "cell_type": "code",
   "execution_count": 217,
   "metadata": {
    "ExecuteTime": {
     "end_time": "2018-11-19T14:53:49.562039Z",
     "start_time": "2018-11-19T14:53:49.559764Z"
    }
   },
   "outputs": [],
   "source": [
    "#PRECT_root = '/ninad/NCAR_LENS/PRECT/'\n",
    "PRECT_root = '/scratch/blangenb/NCAR_LENS/PRECT_lonslices/'\n",
    "#PRECT_root =  '/glade/p_old/cesmLE/CESM-CAM5-BGC-LE/atm/proc/tseries/daily/PRECT/'"
   ]
  },
  {
   "cell_type": "code",
   "execution_count": 225,
   "metadata": {
    "ExecuteTime": {
     "end_time": "2018-11-19T17:05:41.244320Z",
     "start_time": "2018-11-19T17:05:40.400893Z"
    }
   },
   "outputs": [],
   "source": [
    "file_list = sorted(glob.glob(PRECT_root+'/*.nc'))[:-1]"
   ]
  },
  {
   "cell_type": "code",
   "execution_count": 226,
   "metadata": {
    "ExecuteTime": {
     "end_time": "2018-11-19T17:05:41.832097Z",
     "start_time": "2018-11-19T17:05:41.264367Z"
    }
   },
   "outputs": [
    {
     "data": {
      "text/plain": [
       "'/scratch/blangenb/NCAR_LENS/PRECT_lonslices/b.e11.B1850C5CN.f09_g16.005.cam.h1.PRECT.04020101-22001231.longitude223.nc'"
      ]
     },
     "execution_count": 226,
     "metadata": {},
     "output_type": "execute_result"
    }
   ],
   "source": [
    "file_list[-1]"
   ]
  },
  {
   "cell_type": "code",
   "execution_count": 227,
   "metadata": {
    "ExecuteTime": {
     "end_time": "2018-11-19T17:05:46.460085Z",
     "start_time": "2018-11-19T17:05:46.395389Z"
    }
   },
   "outputs": [],
   "source": [
    "# lon_qtr = int(288/4)\n",
    "# lat_qtr = int(192/4)\n",
    "# lon_half = int(288/2)\n",
    "# lat_half = int(192/2)\n",
    "\n",
    "lon_size = 288\n",
    "lat_size = 192"
   ]
  },
  {
   "cell_type": "markdown",
   "metadata": {},
   "source": [
    "Steps?\n",
    "\n",
    "1. Open a single data set (one longitude slice)\n",
    "2. Calculate the important things:\n",
    "  * PIC daily 200 year return intervals\n",
    "  * 100 year return interval\n",
    "  * 50, 20 year return interval\n",
    "  * 30- and 10-day running sum return intervals\n",
    "  * Break into annual means for ONDJFM and AMJJAS, take mean, calculate 3-year droughts\n",
    "  * Also calculate length of time of droughts..."
   ]
  },
  {
   "cell_type": "code",
   "execution_count": 228,
   "metadata": {
    "ExecuteTime": {
     "end_time": "2018-11-19T17:07:44.083982Z",
     "start_time": "2018-11-19T17:05:49.988259Z"
    }
   },
   "outputs": [],
   "source": [
    "# do all this for the first lon box to get the time and lat/lon information\n",
    "lon_idx = 0\n",
    "prect_pic_ds = xarray.open_mfdataset(file_list[0], decode_times=False)\n",
    "\n",
    "prect_pic = prect_pic_ds['PRECT']*86400.*1000.\n",
    "lon = prect_pic_ds['lon']\n",
    "lat = prect_pic_ds['lat']\n",
    "time_var = prect_pic_ds['time']\n",
    "time = prect_pic_ds['time'].values\n",
    "\n",
    "time_datetime = netCDF4.num2date(time, time_var.units, time_var.calendar)\n",
    "\n",
    "# get dates corresponding to ONDJFM\n",
    "# time_datetime = numpy.copy(time) #pandas.to_datetime(time)\n",
    "time_seas_indices = [d.month in [10,11,12,1,2,3] for d in time_datetime]; SEAS_name = 'ONDJFM'\n",
    "#time_seas_indices = [d.month in [4,5,6,7,8,9] for d in time_datetime]; SEAS_name = 'AMJJAS'\n",
    "time_seas_datetime = time_datetime[time_seas_indices]"
   ]
  },
  {
   "cell_type": "code",
   "execution_count": 229,
   "metadata": {
    "ExecuteTime": {
     "end_time": "2018-11-19T17:08:14.123081Z",
     "start_time": "2018-11-19T17:07:44.108879Z"
    }
   },
   "outputs": [
    {
     "name": "stdout",
     "output_type": "stream",
     "text": [
      "99.99444444444444\n",
      "99.94444444444444\n",
      "99.83333333333333\n",
      "/scratch/blangenb/NCAR_LENS/PRECT_lonslices_processed/ONDJFM_pic_100yr_return_period_30daysum_longitude195.npy\n"
     ]
    }
   ],
   "source": [
    "return_period = 100 # in years\n",
    "\n",
    "for lon_idx in [194]:#range(195,file_list.__len__()):\n",
    "    #[0]:#enumerate(file_list):#range(file_enumerate(file_list):\n",
    "    \n",
    "    prect_pic_ds = xarray.open_dataset(file_list[lon_idx], decode_times=False)\n",
    "    prect_pic = prect_pic_ds['PRECT']*86400.*1000.\n",
    "    prect_pic_data = prect_pic.values\n",
    "\n",
    "    # set all <0.1 equal to zero (~15 seconds)\n",
    "\n",
    "    prect_pic_data[prect_pic_data<0.1] = 0\n",
    "\n",
    "    # take rolling mean (~3 minutes)\n",
    "\n",
    "    window_size = 10\n",
    "    prect_pic_data_rolling10 = numpy.zeros((prect_pic.shape))\n",
    "    for j in range(lat.size):\n",
    "        prect_pic_data_rolling10[:,j] = pandas.Series(prect_pic_data[:,j]).rolling(window=window_size).sum()\n",
    "\n",
    "    window_size = 30\n",
    "    prect_pic_data_rolling30 = numpy.zeros((prect_pic.shape))\n",
    "    for j in range(lat.size):\n",
    "        prect_pic_data_rolling30[:,j] = pandas.Series(prect_pic_data[:,j]).rolling(window=window_size).sum()\n",
    "\n",
    "    # subset seasonal information\n",
    "    prect_pic_seas_data = prect_pic_data[time_seas_indices,:]\n",
    "    prect_pic_seas_data_rolling10 = prect_pic_data_rolling10[time_seas_indices,:]\n",
    "    prect_pic_seas_data_rolling30 = prect_pic_data_rolling30[time_seas_indices,:]\n",
    "    \n",
    "    # now caculate return period information\n",
    "    events_per_year = 180\n",
    "    return_val_perc = 100*(1-1/(return_period*events_per_year))\n",
    "    print(return_val_perc)\n",
    "    percentile_values = numpy.zeros((lat.size))\n",
    "    for j in range(lat.size):\n",
    "        tmp_distro = prect_pic_seas_data[:,j]\n",
    "        percentile_values[j] = numpy.nanpercentile(tmp_distro, return_val_perc)\n",
    "    SAVE_name = '/scratch/blangenb/NCAR_LENS/PRECT_lonslices_processed/' + SEAS_name + \\\n",
    "    '_pic_'+str(return_period)+'yr_return_period_daily_longitude'+'{:03d}'.format(lon_idx+1)+'.npy'\n",
    "    numpy.save(SAVE_name, percentile_values)\n",
    "    \n",
    "    # for 10-day sums\n",
    "    events_per_year = 180/10\n",
    "    return_val_perc = 100*(1-1/(return_period*events_per_year))\n",
    "    print(return_val_perc)\n",
    "    percentile_values = numpy.zeros((lat.size))\n",
    "    for j in range(lat.size):\n",
    "        tmp_distro = prect_pic_data_rolling10[:,j]\n",
    "        percentile_values[j] = numpy.nanpercentile(tmp_distro, return_val_perc)\n",
    "    SAVE_name = '/scratch/blangenb/NCAR_LENS/PRECT_lonslices_processed/' + SEAS_name + \\\n",
    "    '_pic_'+str(return_period)+'yr_return_period_10daysum_longitude'+'{:03d}'.format(lon_idx+1)+'.npy'\n",
    "    numpy.save(SAVE_name, percentile_values)\n",
    "\n",
    "    # for 10-day sums\n",
    "    events_per_year = 180/30\n",
    "    return_val_perc = 100*(1-1/(return_period*events_per_year))\n",
    "    print(return_val_perc)\n",
    "    percentile_values = numpy.zeros((lat.size))\n",
    "    for j in range(lat.size):\n",
    "        tmp_distro = prect_pic_data_rolling30[:,j]\n",
    "        percentile_values[j] = numpy.nanpercentile(tmp_distro, return_val_perc)\n",
    "    SAVE_name = '/scratch/blangenb/NCAR_LENS/PRECT_lonslices_processed/' + SEAS_name + \\\n",
    "    '_pic_'+str(return_period)+'yr_return_period_30daysum_longitude'+'{:03d}'.format(lon_idx+1)+'.npy'\n",
    "    numpy.save(SAVE_name, percentile_values)\n",
    "    print(SAVE_name)"
   ]
  },
  {
   "cell_type": "markdown",
   "metadata": {},
   "source": [
    "also need code to calculate seasonal totals"
   ]
  },
  {
   "cell_type": "code",
   "execution_count": null,
   "metadata": {},
   "outputs": [],
   "source": []
  },
  {
   "cell_type": "code",
   "execution_count": null,
   "metadata": {},
   "outputs": [],
   "source": []
  },
  {
   "cell_type": "code",
   "execution_count": null,
   "metadata": {},
   "outputs": [],
   "source": []
  },
  {
   "cell_type": "code",
   "execution_count": null,
   "metadata": {},
   "outputs": [],
   "source": []
  },
  {
   "cell_type": "code",
   "execution_count": null,
   "metadata": {},
   "outputs": [],
   "source": []
  },
  {
   "cell_type": "code",
   "execution_count": 194,
   "metadata": {
    "ExecuteTime": {
     "end_time": "2018-11-19T06:46:03.745555Z",
     "start_time": "2018-11-19T06:46:03.741376Z"
    }
   },
   "outputs": [],
   "source": [
    "output_file_list = sorted(glob.glob('/scratch/blangenb/NCAR_LENS/PRECT_lonslices_processed/AMJJAS_pic_100yr_return_period_daily*'))"
   ]
  },
  {
   "cell_type": "code",
   "execution_count": 195,
   "metadata": {
    "ExecuteTime": {
     "end_time": "2018-11-19T06:46:04.400511Z",
     "start_time": "2018-11-19T06:46:04.396426Z"
    }
   },
   "outputs": [
    {
     "data": {
      "text/plain": [
       "['/scratch/blangenb/NCAR_LENS/PRECT_lonslices_processed/ONDJFM_pic_100yr_return_period_daily_longitude169.npy',\n",
       " '/scratch/blangenb/NCAR_LENS/PRECT_lonslices_processed/ONDJFM_pic_100yr_return_period_daily_longitude170.npy',\n",
       " '/scratch/blangenb/NCAR_LENS/PRECT_lonslices_processed/ONDJFM_pic_100yr_return_period_daily_longitude171.npy',\n",
       " '/scratch/blangenb/NCAR_LENS/PRECT_lonslices_processed/ONDJFM_pic_100yr_return_period_daily_longitude172.npy',\n",
       " '/scratch/blangenb/NCAR_LENS/PRECT_lonslices_processed/ONDJFM_pic_100yr_return_period_daily_longitude173.npy',\n",
       " '/scratch/blangenb/NCAR_LENS/PRECT_lonslices_processed/ONDJFM_pic_100yr_return_period_daily_longitude174.npy',\n",
       " '/scratch/blangenb/NCAR_LENS/PRECT_lonslices_processed/ONDJFM_pic_100yr_return_period_daily_longitude175.npy',\n",
       " '/scratch/blangenb/NCAR_LENS/PRECT_lonslices_processed/ONDJFM_pic_100yr_return_period_daily_longitude176.npy',\n",
       " '/scratch/blangenb/NCAR_LENS/PRECT_lonslices_processed/ONDJFM_pic_100yr_return_period_daily_longitude177.npy',\n",
       " '/scratch/blangenb/NCAR_LENS/PRECT_lonslices_processed/ONDJFM_pic_100yr_return_period_daily_longitude178.npy',\n",
       " '/scratch/blangenb/NCAR_LENS/PRECT_lonslices_processed/ONDJFM_pic_100yr_return_period_daily_longitude179.npy',\n",
       " '/scratch/blangenb/NCAR_LENS/PRECT_lonslices_processed/ONDJFM_pic_100yr_return_period_daily_longitude180.npy',\n",
       " '/scratch/blangenb/NCAR_LENS/PRECT_lonslices_processed/ONDJFM_pic_100yr_return_period_daily_longitude181.npy',\n",
       " '/scratch/blangenb/NCAR_LENS/PRECT_lonslices_processed/ONDJFM_pic_100yr_return_period_daily_longitude182.npy',\n",
       " '/scratch/blangenb/NCAR_LENS/PRECT_lonslices_processed/ONDJFM_pic_100yr_return_period_daily_longitude183.npy',\n",
       " '/scratch/blangenb/NCAR_LENS/PRECT_lonslices_processed/ONDJFM_pic_100yr_return_period_daily_longitude184.npy',\n",
       " '/scratch/blangenb/NCAR_LENS/PRECT_lonslices_processed/ONDJFM_pic_100yr_return_period_daily_longitude185.npy',\n",
       " '/scratch/blangenb/NCAR_LENS/PRECT_lonslices_processed/ONDJFM_pic_100yr_return_period_daily_longitude186.npy',\n",
       " '/scratch/blangenb/NCAR_LENS/PRECT_lonslices_processed/ONDJFM_pic_100yr_return_period_daily_longitude187.npy',\n",
       " '/scratch/blangenb/NCAR_LENS/PRECT_lonslices_processed/ONDJFM_pic_100yr_return_period_daily_longitude188.npy']"
      ]
     },
     "execution_count": 195,
     "metadata": {},
     "output_type": "execute_result"
    }
   ],
   "source": [
    "output_file_list[-20:]"
   ]
  },
  {
   "cell_type": "code",
   "execution_count": 196,
   "metadata": {
    "ExecuteTime": {
     "end_time": "2018-11-19T06:46:07.120950Z",
     "start_time": "2018-11-19T06:46:05.757860Z"
    }
   },
   "outputs": [],
   "source": [
    "file_tmp = numpy.load(output_file_list[0])\n",
    "daily_100yr_ri_pic = numpy.zeros((file_tmp.size,output_file_list.__len__()))\n",
    "for i,file in enumerate(output_file_list):\n",
    "    daily_100yr_ri_pic[:,i] = numpy.load(file)\n",
    "#for file in output_file_list:"
   ]
  },
  {
   "cell_type": "code",
   "execution_count": 197,
   "metadata": {
    "ExecuteTime": {
     "end_time": "2018-11-19T06:46:07.228187Z",
     "start_time": "2018-11-19T06:46:07.223658Z"
    }
   },
   "outputs": [
    {
     "data": {
      "text/plain": [
       "'/scratch/blangenb/NCAR_LENS/PRECT_lonslices_processed/ONDJFM_pic_100yr_return_period_daily_longitude188.npy'"
      ]
     },
     "execution_count": 197,
     "metadata": {},
     "output_type": "execute_result"
    }
   ],
   "source": [
    "output_file_list[-1]"
   ]
  },
  {
   "cell_type": "code",
   "execution_count": 198,
   "metadata": {
    "ExecuteTime": {
     "end_time": "2018-11-19T06:46:08.432926Z",
     "start_time": "2018-11-19T06:46:07.494443Z"
    }
   },
   "outputs": [
    {
     "data": {
      "text/plain": [
       "<matplotlib.colorbar.Colorbar at 0x2b45e5e449e8>"
      ]
     },
     "execution_count": 198,
     "metadata": {},
     "output_type": "execute_result"
    },
    {
     "data": {
      "image/png": "[encoded data removed]",
      "text/plain": [
       "<Figure size 432x288 with 2 Axes>"
      ]
     },
     "metadata": {},
     "output_type": "display_data"
    }
   ],
   "source": [
    "fig = mp.figure()\n",
    "ax = fig.add_subplot(111, projection=cartopy.crs.PlateCarree())\n",
    "plot = ax.contourf(lon_full[list(range(output_file_list.__len__()))],lat_full,daily_100yr_ri_pic)\n",
    "ax.coastlines()\n",
    "mp.colorbar(plot)"
   ]
  },
  {
   "cell_type": "code",
   "execution_count": 140,
   "metadata": {
    "ExecuteTime": {
     "end_time": "2018-11-18T22:36:55.269813Z",
     "start_time": "2018-11-18T22:36:55.048443Z"
    }
   },
   "outputs": [
    {
     "data": {
      "text/plain": [
       "<matplotlib.legend.Legend at 0x2b4603fe29e8>"
      ]
     },
     "execution_count": 140,
     "metadata": {},
     "output_type": "execute_result"
    },
    {
     "data": {
      "image/png": "[encoded data removed]",
      "text/plain": [
       "<Figure size 432x288 with 1 Axes>"
      ]
     },
     "metadata": {},
     "output_type": "display_data"
    }
   ],
   "source": [
    "mp.plot(a, label='10d')\n",
    "mp.plot(b, label='30d')\n",
    "mp.plot(c, label='daily')\n",
    "mp.legend()"
   ]
  },
  {
   "cell_type": "code",
   "execution_count": null,
   "metadata": {},
   "outputs": [],
   "source": []
  },
  {
   "cell_type": "code",
   "execution_count": null,
   "metadata": {},
   "outputs": [],
   "source": []
  },
  {
   "cell_type": "code",
   "execution_count": null,
   "metadata": {},
   "outputs": [],
   "source": []
  },
  {
   "cell_type": "code",
   "execution_count": 118,
   "metadata": {
    "ExecuteTime": {
     "end_time": "2018-11-18T22:26:55.712924Z",
     "start_time": "2018-11-18T22:26:55.705042Z"
    }
   },
   "outputs": [
    {
     "data": {
      "text/plain": [
       "'/scratch/blangenb/NCAR_LENS/PRECT_lonslices_processed/ONDJFM_pic_200yr_return_period_longitude001.nc'"
      ]
     },
     "execution_count": 118,
     "metadata": {},
     "output_type": "execute_result"
    }
   ],
   "source": [
    "'/scratch/blangenb/NCAR_LENS/PRECT_lonslices_processed/' + SEAS_name + \\\n",
    "    '_pic_'+str(return_period)+'yr_return_period_longitude'+'{:03d}'.format(lon_idx+1)+'.nc'"
   ]
  },
  {
   "cell_type": "markdown",
   "metadata": {},
   "source": [
    "for checking memory usage"
   ]
  },
  {
   "cell_type": "raw",
   "metadata": {
    "ExecuteTime": {
     "end_time": "2018-11-13T22:05:48.479661Z",
     "start_time": "2018-11-13T22:05:48.463671Z"
    }
   },
   "source": [
    "import sys\n",
    "\n",
    "# These are the usual ipython objects, including this one you are creating\n",
    "ipython_vars = ['In', 'Out', 'exit', 'quit', 'get_ipython', 'ipython_vars']\n",
    "\n",
    "# Get a sorted list of the objects and their sizes\n",
    "sorted([(x, sys.getsizeof(globals().get(x))) for x in dir() if not x.startswith('_') and x not in sys.modules and x not in ipython_vars], key=lambda x: x[1], reverse=True)"
   ]
  },
  {
   "cell_type": "code",
   "execution_count": null,
   "metadata": {},
   "outputs": [],
   "source": [
    "# get dates corresponding to ONDJFM\n",
    "\n",
    "# time_datetime = numpy.copy(time) #pandas.to_datetime(time)\n",
    "time_seas_indices = [d.month in [10,11,12,1,2,3] for d in time_datetime]; SEAS_name = 'ONDJFM'\n",
    "time_seas_datetime = time_datetime[time_seas_indices]\n",
    "\n",
    "# step below takes about 15 MINUTES\n",
    "\n",
    "prect_pic_data = prect_pic.values\n",
    "\n",
    "# set all <0.1 equal to zero (~15 seconds)\n",
    "\n",
    "prect_pic_data[prect_pic_data<0.1] = 0\n",
    "\n",
    "# take rolling mean (~3 minutes)\n",
    "\n",
    "window_size = 10\n",
    "prect_pic_data_rolling10 = numpy.zeros((prect_pic.shape))\n",
    "for j in range(lat.size):\n",
    "    prect_pic_data_rolling10[:,j] = pandas.Series(prect_pic_data[:,j]).rolling(window=window_size).sum()\n",
    "\n",
    "window_size = 30\n",
    "prect_pic_data_rolling30 = numpy.zeros((prect_pic.shape))\n",
    "for j in range(lat.size):\n",
    "    prect_pic_data_rolling30[:,j] = pandas.Series(prect_pic_data[:,j]).rolling(window=window_size).sum()\n",
    "\n",
    "prect_pic_seas_data = prect_pic_data[time_seas_indices,:]\n",
    "prect_pic_seas_data_rolling10 = prect_pic_data_rolling10[time_seas_indices,:]\n",
    "prect_pic_seas_data_rolling30 = prect_pic_data_rolling30[time_seas_indices,:]"
   ]
  },
  {
   "cell_type": "markdown",
   "metadata": {},
   "source": [
    "## do calculations for DRY periods\n",
    "\n",
    "1. loop through all years, calculate the mean of each year for the given season\n",
    "2. once you do that, string together means and calculate the 3-year running mean\n",
    "3. then do statistics on that distribution"
   ]
  },
  {
   "cell_type": "code",
   "execution_count": 75,
   "metadata": {
    "ExecuteTime": {
     "end_time": "2018-11-18T21:08:32.482610Z",
     "start_time": "2018-11-18T21:08:32.479432Z"
    }
   },
   "outputs": [],
   "source": [
    "nyears = time_seas_datetime[-1].year - time_seas_datetime[0].year + 1\n",
    "year_values = [y for y in range(time_seas_datetime[0].year, time_seas_datetime[-1].year+1, 1)]"
   ]
  },
  {
   "cell_type": "markdown",
   "metadata": {},
   "source": [
    "takes 42 minutes to do this..."
   ]
  },
  {
   "cell_type": "code",
   "execution_count": 86,
   "metadata": {
    "ExecuteTime": {
     "end_time": "2018-11-18T21:59:53.391448Z",
     "start_time": "2018-11-18T21:17:19.044219Z"
    }
   },
   "outputs": [
    {
     "name": "stdout",
     "output_type": "stream",
     "text": [
      "450\n",
      "500\n",
      "550\n",
      "600\n",
      "650\n",
      "700\n",
      "750\n",
      "800\n",
      "850\n",
      "900\n",
      "950\n",
      "1000\n",
      "1050\n",
      "1100\n",
      "1150\n",
      "1200\n",
      "1250\n",
      "1300\n",
      "1350\n",
      "1400\n",
      "1450\n",
      "1500\n",
      "1550\n",
      "1600\n",
      "1650\n",
      "1700\n",
      "1750\n",
      "1800\n",
      "1850\n",
      "1900\n",
      "1950\n",
      "2000\n",
      "2050\n",
      "2100\n",
      "2150\n",
      "2200\n"
     ]
    }
   ],
   "source": [
    "prect_pic_seas_data_annualmeans = numpy.zeros((nyears,lat.size))\n",
    "\n",
    "for y,year in enumerate(year_values):\n",
    "    if year%50==0:\n",
    "        print(year)\n",
    "    year_indices = [t.year==year for t in time_seas_datetime]\n",
    "    for j in range(lat.size):\n",
    "        prect_pic_seas_data_annualmeans[y,j] = numpy.nanmean(prect_pic_seas_data[year_indices,j])\n",
    "\n",
    "SAVE_name = '/scratch/blangenb/NCAR_LENS/PRECT_lonslices_processed/' + SEAS_name+'_pic_annual_mean_longitude'+'{:03d}'.format(lon_idx+1)+'.nc'\n",
    "numpy.save(SAVE_name, prect_pic_seas_data_annualmeans)"
   ]
  },
  {
   "cell_type": "code",
   "execution_count": null,
   "metadata": {},
   "outputs": [],
   "source": []
  },
  {
   "cell_type": "code",
   "execution_count": null,
   "metadata": {},
   "outputs": [],
   "source": []
  },
  {
   "cell_type": "code",
   "execution_count": null,
   "metadata": {},
   "outputs": [],
   "source": []
  },
  {
   "cell_type": "code",
   "execution_count": null,
   "metadata": {},
   "outputs": [],
   "source": []
  },
  {
   "cell_type": "code",
   "execution_count": null,
   "metadata": {},
   "outputs": [],
   "source": []
  },
  {
   "cell_type": "code",
   "execution_count": null,
   "metadata": {},
   "outputs": [],
   "source": [
    "window_size = 3\n",
    "prect_pic_data_rolling3yr = numpy.zeros((prect_pic_seas_data_annualmeans.shape))\n",
    "for j in range(lat.size):\n",
    "    prect_pic_data_rolling3yr[:,j] = pandas.Series(prect_pic_data[:,j]).rolling(window=window_size).sum()"
   ]
  },
  {
   "cell_type": "markdown",
   "metadata": {},
   "source": [
    "# extreme high precipitation calculations\n",
    "\n",
    "specify return period below"
   ]
  },
  {
   "cell_type": "code",
   "execution_count": 57,
   "metadata": {
    "ExecuteTime": {
     "end_time": "2018-11-18T20:59:40.778355Z",
     "start_time": "2018-11-18T20:59:40.776020Z"
    }
   },
   "outputs": [],
   "source": [
    "return_period = 200 # in years"
   ]
  },
  {
   "cell_type": "markdown",
   "metadata": {},
   "source": [
    "percentile values for daily precip"
   ]
  },
  {
   "cell_type": "code",
   "execution_count": 58,
   "metadata": {
    "ExecuteTime": {
     "end_time": "2018-11-18T21:00:06.356114Z",
     "start_time": "2018-11-18T21:00:04.753562Z"
    }
   },
   "outputs": [
    {
     "name": "stdout",
     "output_type": "stream",
     "text": [
      "99.99668874172185\n"
     ]
    }
   ],
   "source": [
    "events_per_year = 151\n",
    "return_val_perc = 100*(1-1/(return_period*events_per_year))\n",
    "print(return_val_perc)\n",
    "\n",
    "percentile_values = numpy.zeros((lat.size))\n",
    "for j in range(lat.size):\n",
    "    # get rid of nans\n",
    "    tmp_distro = prect_pic_seas_data[:,j]\n",
    "    #prect_djf[:,j,k][~numpy.isnan(prect_djf[:,j,k])]\n",
    "    percentile_values[j] = numpy.nanpercentile(tmp_distro, return_val_perc)"
   ]
  },
  {
   "cell_type": "markdown",
   "metadata": {},
   "source": [
    "percentile values for 10-day precip sums"
   ]
  },
  {
   "cell_type": "code",
   "execution_count": 59,
   "metadata": {
    "ExecuteTime": {
     "end_time": "2018-11-18T21:00:13.056283Z",
     "start_time": "2018-11-18T21:00:11.517888Z"
    }
   },
   "outputs": [
    {
     "name": "stdout",
     "output_type": "stream",
     "text": [
      "99.96688741721854\n"
     ]
    }
   ],
   "source": [
    "events_per_year = 151/10\n",
    "return_val_perc = 100*(1-1/(return_period*events_per_year))\n",
    "print(return_val_perc)\n",
    "\n",
    "percentile_values = numpy.zeros((lat.size))\n",
    "for j in range(lat.size):\n",
    "    # get rid of nans\n",
    "    tmp_distro = prect_pic_seas_data_rolling10[:,j]\n",
    "    percentile_values[j] = numpy.nanpercentile(tmp_distro, return_val_perc)"
   ]
  },
  {
   "cell_type": "markdown",
   "metadata": {},
   "source": [
    "percentile values for 30-day precip sums"
   ]
  },
  {
   "cell_type": "code",
   "execution_count": 60,
   "metadata": {
    "ExecuteTime": {
     "end_time": "2018-11-18T21:00:23.713044Z",
     "start_time": "2018-11-18T21:00:22.202355Z"
    }
   },
   "outputs": [
    {
     "name": "stdout",
     "output_type": "stream",
     "text": [
      "99.90066225165563\n"
     ]
    }
   ],
   "source": [
    "events_per_year = 151/30\n",
    "return_val_perc = 100*(1-1/(return_period*events_per_year))\n",
    "print(return_val_perc)\n",
    "\n",
    "percentile_values = numpy.zeros((lat.size))\n",
    "for j in range(lat.size):\n",
    "    # get rid of nans\n",
    "    tmp_distro = prect_pic_seas_data_rolling30[:,j]\n",
    "    #prect_djf[:,j,k][~numpy.isnan(prect_djf[:,j,k])]\n",
    "    percentile_values[j] = numpy.nanpercentile(tmp_distro, return_val_perc)"
   ]
  },
  {
   "cell_type": "code",
   "execution_count": null,
   "metadata": {},
   "outputs": [],
   "source": []
  },
  {
   "cell_type": "code",
   "execution_count": null,
   "metadata": {},
   "outputs": [],
   "source": []
  },
  {
   "cell_type": "code",
   "execution_count": null,
   "metadata": {
    "ExecuteTime": {
     "end_time": "2018-11-13T20:35:17.336313Z",
     "start_time": "2018-11-13T20:35:17.329073Z"
    }
   },
   "outputs": [],
   "source": [
    "# saveas info\n",
    "file_prefix = 'LL_pic_daily_200yr_wet'\n",
    "numpy.save('../intermediate-files/file_prefix' + '.npy', percentile_values)"
   ]
  },
  {
   "cell_type": "code",
   "execution_count": null,
   "metadata": {},
   "outputs": [],
   "source": []
  },
  {
   "cell_type": "code",
   "execution_count": null,
   "metadata": {},
   "outputs": [],
   "source": []
  },
  {
   "cell_type": "code",
   "execution_count": null,
   "metadata": {},
   "outputs": [],
   "source": []
  },
  {
   "cell_type": "code",
   "execution_count": null,
   "metadata": {},
   "outputs": [],
   "source": []
  },
  {
   "cell_type": "code",
   "execution_count": null,
   "metadata": {},
   "outputs": [],
   "source": []
  },
  {
   "cell_type": "code",
   "execution_count": null,
   "metadata": {
    "ExecuteTime": {
     "end_time": "2018-11-13T19:55:58.329356Z",
     "start_time": "2018-11-13T19:55:51.631211Z"
    }
   },
   "outputs": [],
   "source": [
    "proj_map = cartopy.crs.PlateCarree()\n",
    "\n",
    "fig = mp.figure(figsize=(10,10))\n",
    "\n",
    "ax = fig.add_subplot(111, projection=proj_map)\n",
    "ax.coastlines(resolution='50m')\n",
    "plot = ax.contourf(lon, lat, percentile_values)\n",
    "mp.colorbar(plot)\n",
    "ax.set_global()\n",
    "#ax.set_extent([-130,-100,20,55])\n",
    "#ax.set_extent([-150,-80,10,70])"
   ]
  }
 ],
 "metadata": {
  "kernelspec": {
   "display_name": "Python 3",
   "language": "python",
   "name": "python3"
  },
  "language_info": {
   "codemirror_mode": {
    "name": "ipython",
    "version": 3
   },
   "file_extension": ".py",
   "mimetype": "text/x-python",
   "name": "python",
   "nbconvert_exporter": "python",
   "pygments_lexer": "ipython3",
   "version": "3.6.5"
  }
 },
 "nbformat": 4,
 "nbformat_minor": 2
}
