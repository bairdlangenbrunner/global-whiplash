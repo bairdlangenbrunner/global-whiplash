{
 "cells": [
  {
   "cell_type": "raw",
   "metadata": {
    "ExecuteTime": {
     "end_time": "2019-02-01T22:34:19.103849Z",
     "start_time": "2019-02-01T22:34:17.796357Z"
    }
   },
   "source": [
    "!qselect -N dask-worker | xargs qdel"
   ]
  },
  {
   "cell_type": "code",
   "execution_count": 1,
   "metadata": {
    "ExecuteTime": {
     "end_time": "2019-02-01T22:50:03.183153Z",
     "start_time": "2019-02-01T22:50:03.179396Z"
    }
   },
   "outputs": [],
   "source": [
    "import numpy\n",
    "import xarray\n",
    "import matplotlib.pyplot as mp\n",
    "import glob\n",
    "import pandas\n",
    "import cartopy\n",
    "import itertools\n",
    "\n",
    "import time\n",
    "#import logging\n",
    "#logging.captureWarnings(True)\n",
    "#logging.getLogger('py.warnings').setLevel(logging.ERROR)\n",
    "\n",
    "import dask_jobqueue\n",
    "import dask.distributed\n",
    "import ipywidgets"
   ]
  },
  {
   "cell_type": "code",
   "execution_count": 7,
   "metadata": {
    "ExecuteTime": {
     "end_time": "2019-02-01T22:45:21.866734Z",
     "start_time": "2019-02-01T22:45:21.620618Z"
    }
   },
   "outputs": [
    {
     "name": "stderr",
     "output_type": "stream",
     "text": [
      "/glade/u/home/baird/anaconda3/envs/pangeo/lib/python3.6/site-packages/distributed/bokeh/core.py:57: UserWarning: \n",
      "Port 8787 is already in use. \n",
      "Perhaps you already have a cluster running?\n",
      "Hosting the diagnostics dashboard on a random port instead.\n",
      "  warnings.warn('\\n' + msg)\n"
     ]
    }
   ],
   "source": [
    "cluster = dask_jobqueue.PBSCluster(cores=36,\n",
    "                                   memory='100 GB',\n",
    "                                   #cores=1,\n",
    "                                   project='UCLA0022',\n",
    "                                   queue='regular',\n",
    "                                   resource_spec='select=1:ncpus=36:mem=100G',\n",
    "                                   walltime='00:30:00')"
   ]
  },
  {
   "cell_type": "code",
   "execution_count": 9,
   "metadata": {
    "ExecuteTime": {
     "end_time": "2019-02-01T22:49:44.678242Z",
     "start_time": "2019-02-01T22:49:39.649121Z"
    }
   },
   "outputs": [],
   "source": [
    "# ask for 10 workers with these specifications\n",
    "cluster.start_workers(10)"
   ]
  },
  {
   "cell_type": "raw",
   "metadata": {
    "ExecuteTime": {
     "end_time": "2019-02-01T22:41:12.345848Z",
     "start_time": "2019-02-01T22:41:12.338574Z"
    }
   },
   "source": [
    "# scale up to 20 workers, or down to 5...\n",
    "cluster.scale(1) "
   ]
  },
  {
   "cell_type": "code",
   "execution_count": 10,
   "metadata": {
    "ExecuteTime": {
     "end_time": "2019-02-01T22:50:05.851500Z",
     "start_time": "2019-02-01T22:50:05.837470Z"
    }
   },
   "outputs": [
    {
     "name": "stderr",
     "output_type": "stream",
     "text": [
      "distributed.scheduler - INFO - Receive client connection: Client-14237b70-2679-11e9-b21b-bb7b612eebb5\n",
      "distributed.core - INFO - Starting established connection\n"
     ]
    }
   ],
   "source": [
    "client = dask.distributed.Client(cluster)"
   ]
  },
  {
   "cell_type": "raw",
   "metadata": {},
   "source": [
    "client"
   ]
  },
  {
   "cell_type": "code",
   "execution_count": 12,
   "metadata": {
    "ExecuteTime": {
     "end_time": "2019-02-01T22:38:23.610236Z",
     "start_time": "2019-02-01T22:38:22.521118Z"
    }
   },
   "outputs": [
    {
     "name": "stdout",
     "output_type": "stream",
     "text": [
      "\n",
      "chadmin1: \n",
      "                                                            Req'd  Req'd   Elap\n",
      "Job ID          Username Queue    Jobname    SessID NDS TSK Memory Time  S Time\n",
      "--------------- -------- -------- ---------- ------ --- --- ------ ----- - -----\n",
      "4212219.chadmin baird    regular  STDIN       71379   1   4    --  12:00 R 04:17\n",
      "4212222.chadmin baird    regular  STDIN       70408   1   4    --  12:00 R 04:15\n",
      "4214520.chadmin baird    regular  dask-worke  58022   1  36  100gb 00:30 R 00:00\n",
      "4214521.chadmin baird    regular  dask-worke  13785   1  36  100gb 00:30 R 00:00\n",
      "4214522.chadmin baird    regular  dask-worke  72462   1  36  100gb 00:30 R 00:00\n",
      "4214523.chadmin baird    regular  dask-worke  53946   1  36  100gb 00:30 R 00:00\n",
      "4214524.chadmin baird    regular  dask-worke   3047   1  36  100gb 00:30 R 00:00\n",
      "4214525.chadmin baird    regular  dask-worke   1212   1  36  100gb 00:30 R 00:00\n",
      "4214526.chadmin baird    regular  dask-worke  42202   1  36  100gb 00:30 R 00:00\n",
      "4214527.chadmin baird    regular  dask-worke  29049   1  36  100gb 00:30 R 00:00\n",
      "4214528.chadmin baird    regular  dask-worke  61493   1  36  100gb 00:30 R 00:00\n",
      "4214529.chadmin baird    regular  dask-worke  14102   1  36  100gb 00:30 R 00:00\n",
      "4214530.chadmin baird    regular  dask-worke   7430   1  36  100gb 00:30 R 00:00\n",
      "4214531.chadmin baird    regular  dask-worke  44579   1  36  100gb 00:30 R 00:00\n",
      "4214532.chadmin baird    regular  dask-worke  65486   1  36  100gb 00:30 R 00:00\n",
      "4214533.chadmin baird    regular  dask-worke  25934   1  36  100gb 00:30 R 00:00\n",
      "4214534.chadmin baird    regular  dask-worke   9307   1  36  100gb 00:30 R 00:00\n",
      "4214535.chadmin baird    regular  dask-worke  51872   1  36  100gb 00:30 R 00:00\n",
      "4214536.chadmin baird    regular  dask-worke  72826   1  36  100gb 00:30 R 00:00\n",
      "4214537.chadmin baird    regular  dask-worke    --    1  36  100gb 00:30 Q   -- \n",
      "4214538.chadmin baird    regular  dask-worke    --    1  36  100gb 00:30 Q   -- \n",
      "4214539.chadmin baird    regular  dask-worke    --    1  36  100gb 00:30 Q   -- \n"
     ]
    }
   ],
   "source": [
    "!qstat -u baird"
   ]
  },
  {
   "cell_type": "markdown",
   "metadata": {},
   "source": [
    "# functions"
   ]
  },
  {
   "cell_type": "code",
   "execution_count": 14,
   "metadata": {
    "ExecuteTime": {
     "end_time": "2019-02-01T22:37:13.917947Z",
     "start_time": "2019-02-01T22:37:13.443565Z"
    }
   },
   "outputs": [
    {
     "data": {
      "application/vnd.jupyter.widget-view+json": {
       "model_id": "663f7a22f8294ec89014dc8b7c74c911",
       "version_major": 2,
       "version_minor": 0
      },
      "text/plain": [
       "VBox()"
      ]
     },
     "metadata": {},
     "output_type": "display_data"
    }
   ],
   "source": [
    "def slow_increment(x):\n",
    "    time.sleep(1)\n",
    "    return x+1\n",
    "from dask.distributed import progress # progress bar\n",
    "futures = client.map(slow_increment, range(5000))\n",
    "progress(futures)"
   ]
  },
  {
   "cell_type": "markdown",
   "metadata": {},
   "source": [
    "# dask arrays"
   ]
  },
  {
   "cell_type": "code",
   "execution_count": 15,
   "metadata": {
    "ExecuteTime": {
     "end_time": "2019-02-01T22:51:23.861064Z",
     "start_time": "2019-02-01T22:51:23.857913Z"
    }
   },
   "outputs": [
    {
     "data": {
      "text/plain": [
       "20.0"
      ]
     },
     "execution_count": 15,
     "metadata": {},
     "output_type": "execute_result"
    }
   ],
   "source": [
    "import dask.array as da #numpy interface\n",
    "\n",
    "x = da.random.random((50000,50000), chunks=(1000,1000))\n",
    "\n",
    "x = x.persist()\n",
    "\n",
    "x.nbytes/1e9"
   ]
  },
  {
   "cell_type": "code",
   "execution_count": 16,
   "metadata": {
    "ExecuteTime": {
     "end_time": "2019-02-01T22:52:32.129004Z",
     "start_time": "2019-02-01T22:52:26.070455Z"
    }
   },
   "outputs": [
    {
     "data": {
      "text/plain": [
       "1250021808.6324863"
      ]
     },
     "execution_count": 16,
     "metadata": {},
     "output_type": "execute_result"
    }
   ],
   "source": [
    "y = (x+x.T) - x.mean(axis=0)\n",
    "y = y.persist()\n",
    "y.sum().compute()"
   ]
  },
  {
   "cell_type": "markdown",
   "metadata": {},
   "source": [
    "# dask dataframes"
   ]
  },
  {
   "cell_type": "code",
   "execution_count": 19,
   "metadata": {},
   "outputs": [],
   "source": [
    "import dask.dataframe as dd"
   ]
  },
  {
   "cell_type": "code",
   "execution_count": 21,
   "metadata": {},
   "outputs": [
    {
     "data": {
      "text/html": [
       "<div><strong>Dask DataFrame Structure:</strong></div>\n",
       "<div>\n",
       "<style scoped>\n",
       "    .dataframe tbody tr th:only-of-type {\n",
       "        vertical-align: middle;\n",
       "    }\n",
       "\n",
       "    .dataframe tbody tr th {\n",
       "        vertical-align: top;\n",
       "    }\n",
       "\n",
       "    .dataframe thead th {\n",
       "        text-align: right;\n",
       "    }\n",
       "</style>\n",
       "<table border=\"1\" class=\"dataframe\">\n",
       "  <thead>\n",
       "    <tr style=\"text-align: right;\">\n",
       "      <th></th>\n",
       "      <th>id</th>\n",
       "      <th>name</th>\n",
       "      <th>x</th>\n",
       "      <th>y</th>\n",
       "    </tr>\n",
       "    <tr>\n",
       "      <th>npartitions=11</th>\n",
       "      <th></th>\n",
       "      <th></th>\n",
       "      <th></th>\n",
       "      <th></th>\n",
       "    </tr>\n",
       "  </thead>\n",
       "  <tbody>\n",
       "    <tr>\n",
       "      <th>2000-01-31</th>\n",
       "      <td>int64</td>\n",
       "      <td>object</td>\n",
       "      <td>float64</td>\n",
       "      <td>float64</td>\n",
       "    </tr>\n",
       "    <tr>\n",
       "      <th>2000-02-29</th>\n",
       "      <td>...</td>\n",
       "      <td>...</td>\n",
       "      <td>...</td>\n",
       "      <td>...</td>\n",
       "    </tr>\n",
       "    <tr>\n",
       "      <th>...</th>\n",
       "      <td>...</td>\n",
       "      <td>...</td>\n",
       "      <td>...</td>\n",
       "      <td>...</td>\n",
       "    </tr>\n",
       "    <tr>\n",
       "      <th>2000-11-30</th>\n",
       "      <td>...</td>\n",
       "      <td>...</td>\n",
       "      <td>...</td>\n",
       "      <td>...</td>\n",
       "    </tr>\n",
       "    <tr>\n",
       "      <th>2000-12-31</th>\n",
       "      <td>...</td>\n",
       "      <td>...</td>\n",
       "      <td>...</td>\n",
       "      <td>...</td>\n",
       "    </tr>\n",
       "  </tbody>\n",
       "</table>\n",
       "</div>\n",
       "<div>Dask Name: make-timeseries, 11 tasks</div>"
      ],
      "text/plain": [
       "Dask DataFrame Structure:\n",
       "                   id    name        x        y\n",
       "npartitions=11                                 \n",
       "2000-01-31      int64  object  float64  float64\n",
       "2000-02-29        ...     ...      ...      ...\n",
       "...               ...     ...      ...      ...\n",
       "2000-11-30        ...     ...      ...      ...\n",
       "2000-12-31        ...     ...      ...      ...\n",
       "Dask Name: make-timeseries, 11 tasks"
      ]
     },
     "execution_count": 21,
     "metadata": {},
     "output_type": "execute_result"
    }
   ],
   "source": [
    "df = dd.demo.make_timeseries()\n",
    "df"
   ]
  }
 ],
 "metadata": {
  "kernelspec": {
   "display_name": "Python 3",
   "language": "python",
   "name": "python3"
  },
  "language_info": {
   "codemirror_mode": {
    "name": "ipython",
    "version": 3
   },
   "file_extension": ".py",
   "mimetype": "text/x-python",
   "name": "python",
   "nbconvert_exporter": "python",
   "pygments_lexer": "ipython3",
   "version": "3.7.2"
  }
 },
 "nbformat": 4,
 "nbformat_minor": 2
}
