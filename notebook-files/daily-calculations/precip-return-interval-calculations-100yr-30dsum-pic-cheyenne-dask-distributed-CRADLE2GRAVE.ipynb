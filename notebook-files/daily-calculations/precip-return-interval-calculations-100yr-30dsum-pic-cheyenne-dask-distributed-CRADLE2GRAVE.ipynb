{
 "cells": [
  {
   "cell_type": "code",
   "execution_count": 1,
   "metadata": {
    "ExecuteTime": {
     "end_time": "2019-02-01T21:04:12.850681Z",
     "start_time": "2019-02-01T21:04:10.383069Z"
    }
   },
   "outputs": [],
   "source": [
    "import numpy\n",
    "import xarray\n",
    "import matplotlib.pyplot as mp\n",
    "import glob\n",
    "import pandas\n",
    "import cartopy\n",
    "import itertools\n",
    "import datetime\n",
    "import calendar\n",
    "\n",
    "import dask_jobqueue\n",
    "import dask.distributed\n",
    "import ipywidgets\n",
    "#import dask.diagnostics"
   ]
  },
  {
   "cell_type": "markdown",
   "metadata": {},
   "source": [
    "useful commands"
   ]
  },
  {
   "cell_type": "raw",
   "metadata": {},
   "source": [
    "# job specification in full (if not using .config/dask/*.yml file)\n",
    "cluster = dask_jobqueue.PBSCluster(cores=36,\n",
    "                                   memory='100 GB',\n",
    "                                   project='UCLA0022',\n",
    "                                   queue='regular',\n",
    "                                   walltime='00:30:00')\n",
    "                                   \n",
    "to close a cluster:\n",
    "num_workers = 20\n",
    "workers = cluster.scheduler.workers_to_close(n=num_workers)\n",
    "cluster.scheduler.retire_workers(workers=workers,close_workers=True,remove=True)\n",
    "\n",
    "to delete a cluster:\n",
    "del(cluster)"
   ]
  },
  {
   "cell_type": "code",
   "execution_count": 2,
   "metadata": {},
   "outputs": [],
   "source": [
    "#!export TMPDIR=/glade/scratch/$USER/temp/\n",
    "#!mkdir -p $TMPDIR\n",
    "\n",
    "cluster = dask_jobqueue.PBSCluster(cores=36,\n",
    "                                   memory='100 GB',\n",
    "                                   project='UCLA0022',\n",
    "                                   queue='regular',\n",
    "                                   walltime='06:00:00',\n",
    "                                   local_directory='/glade/scratch/baird/temp/')"
   ]
  },
  {
   "cell_type": "code",
   "execution_count": 3,
   "metadata": {},
   "outputs": [],
   "source": [
    "# ask for 60 workers with these specifications\n",
    "# takes about 26 . min for all 60 workers for 3hrs\n",
    "cluster.start_workers(30)"
   ]
  },
  {
   "cell_type": "raw",
   "metadata": {},
   "source": [
    "cluster.scale(10)"
   ]
  },
  {
   "cell_type": "code",
   "execution_count": 4,
   "metadata": {},
   "outputs": [
    {
     "name": "stdout",
     "output_type": "stream",
     "text": [
      "#!/bin/bash\n",
      "\n",
      "#!/usr/bin/env bash\n",
      "#PBS -N dask-worker\n",
      "#PBS -q regular\n",
      "#PBS -A UCLA0022\n",
      "#PBS -l select=1:ncpus=36:mem=94GB\n",
      "#PBS -l walltime=06:00:00\n",
      "JOB_ID=${PBS_JOBID%.*}\n",
      "\n",
      "\n",
      "\n",
      "/glade/u/home/baird/miniconda3/envs/pangeo/bin/python -m distributed.cli.dask_worker tcp://10.148.0.6:52480 --nthreads 36 --memory-limit 100.00GB --name dask-worker--${JOB_ID}-- --death-timeout 60 --local-directory /glade/scratch/baird/temp/ --interface ib0\n",
      "\n"
     ]
    }
   ],
   "source": [
    "print(cluster.job_script())"
   ]
  },
  {
   "cell_type": "code",
   "execution_count": 29,
   "metadata": {},
   "outputs": [
    {
     "data": {
      "text/html": [
       "<table style=\"border: 2px solid white;\">\n",
       "<tr>\n",
       "<td style=\"vertical-align: top; border: 0px solid white\">\n",
       "<h3>Client</h3>\n",
       "<ul>\n",
       "  <li><b>Scheduler: </b>tcp://10.148.0.6:52480\n",
       "  <li><b>Dashboard: </b><a href='http://10.148.0.6:8787/status' target='_blank'>http://10.148.0.6:8787/status</a>\n",
       "</ul>\n",
       "</td>\n",
       "<td style=\"vertical-align: top; border: 0px solid white\">\n",
       "<h3>Cluster</h3>\n",
       "<ul>\n",
       "  <li><b>Workers: </b>30</li>\n",
       "  <li><b>Cores: </b>1080</li>\n",
       "  <li><b>Memory: </b>3.00 TB</li>\n",
       "</ul>\n",
       "</td>\n",
       "</tr>\n",
       "</table>"
      ],
      "text/plain": [
       "<Client: scheduler='tcp://10.148.0.6:52480' processes=30 cores=1080>"
      ]
     },
     "execution_count": 29,
     "metadata": {},
     "output_type": "execute_result"
    }
   ],
   "source": [
    "client = dask.distributed.Client(cluster)\n",
    "client"
   ]
  },
  {
   "cell_type": "code",
   "execution_count": null,
   "metadata": {},
   "outputs": [],
   "source": [
    "client.scheduler_info()#['workers']"
   ]
  },
  {
   "cell_type": "raw",
   "metadata": {},
   "source": [
    "!qstat -u baird\n",
    "\n",
    "!ls /glade/collections/cdg/data/cesmLE/CESM-CAM5-BGC-LE/atm/proc/tseries/daily/PRECT"
   ]
  },
  {
   "cell_type": "code",
   "execution_count": 8,
   "metadata": {
    "ExecuteTime": {
     "end_time": "2019-02-01T21:04:12.854849Z",
     "start_time": "2019-02-01T21:04:12.852577Z"
    }
   },
   "outputs": [],
   "source": [
    "#PRECT_root = '/ninad/NCAR_LENS/PRECT/'\n",
    "#PRECT_root = '/scratch/blangenb/NCAR_LENS/PRECT/'\n",
    "PRECT_root =  '/glade/collections/cdg/data/cesmLE/CESM-CAM5-BGC-LE/atm/proc/tseries/daily/PRECT/'"
   ]
  },
  {
   "cell_type": "markdown",
   "metadata": {},
   "source": [
    "Open pre-industrial control as multi-file dataset"
   ]
  },
  {
   "cell_type": "raw",
   "metadata": {
    "ExecuteTime": {
     "end_time": "2019-02-01T21:04:15.888385Z",
     "start_time": "2019-02-01T21:04:15.144094Z"
    }
   },
   "source": [
    "filename = 'b.e11.B1850C5CN.f09_g16.005.cam.h1.PRECT.04020101-04991231.nc'\n",
    "example_pic_ds = xarray.open_dataset(PRECT_root + 'b.e11.B1850C5CN.f09_g16.005.cam.h1.PRECT.04020101-04991231.nc')\n",
    "lat_total = example_pic_ds['lat']\n",
    "lon_total = example_pic_ds['lon']"
   ]
  },
  {
   "cell_type": "code",
   "execution_count": 86,
   "metadata": {
    "ExecuteTime": {
     "end_time": "2019-02-01T21:05:09.430727Z",
     "start_time": "2019-02-01T21:05:09.427878Z"
    }
   },
   "outputs": [],
   "source": [
    "filename_list = sorted(glob.glob(PRECT_root + 'b.e11.B1850C5CN.f09_g16.005.cam.h1.PRECT.*.nc'))\n",
    "\n",
    "#mfds = xarray.open_mfdataset([filename_list[0:3]], chunks={'lat':24, 'lon':24})\n",
    "mfds = xarray.open_mfdataset([filename_list[0]], chunks={'lat':12, 'lon':12})\n",
    "#mfds = xarray.open_mfdataset(filename_list[:2], chunks={'lat':24, 'lon':24})\n",
    "mfds_data = mfds['PRECT']#.isel(time=slice(0,1000))\n",
    "\n",
    "mfds_time = mfds['time'].values\n",
    "mfds_lat = mfds['lat'].values\n",
    "mfds_lon = mfds['lon'].values"
   ]
  },
  {
   "cell_type": "code",
   "execution_count": 87,
   "metadata": {},
   "outputs": [
    {
     "data": {
      "text/plain": [
       "((192,), (288,), (35769, 192, 288))"
      ]
     },
     "execution_count": 87,
     "metadata": {},
     "output_type": "execute_result"
    }
   ],
   "source": [
    "mfds_lat.shape, mfds_lon.shape, mfds_data.shape"
   ]
  },
  {
   "cell_type": "raw",
   "metadata": {},
   "source": [
    "mfds_data_nday_rolling_sum = mfds_data.rolling(time=30, center=True)"
   ]
  },
  {
   "cell_type": "raw",
   "metadata": {},
   "source": [
    "mfds_data_nday_rolling_sum"
   ]
  },
  {
   "cell_type": "code",
   "execution_count": 54,
   "metadata": {},
   "outputs": [],
   "source": [
    "mfds_data_persist = client.persist(mfds_data.data)"
   ]
  },
  {
   "cell_type": "code",
   "execution_count": 88,
   "metadata": {},
   "outputs": [],
   "source": [
    "mfds_data_rolling_object = mfds_data.rolling(time=30, center=True)"
   ]
  },
  {
   "cell_type": "code",
   "execution_count": null,
   "metadata": {},
   "outputs": [],
   "source": [
    "mfds_data_rolling_object_sum = mfds_data_rolling_object.sum().persist()"
   ]
  },
  {
   "cell_type": "code",
   "execution_count": null,
   "metadata": {},
   "outputs": [],
   "source": [
    "mfds_data_rolling_"
   ]
  },
  {
   "cell_type": "code",
   "execution_count": 83,
   "metadata": {},
   "outputs": [],
   "source": [
    "mfds_data_sum = client.persist(mfds_data.rolling(time=30, center=True).sum())"
   ]
  },
  {
   "cell_type": "code",
   "execution_count": 79,
   "metadata": {},
   "outputs": [
    {
     "data": {
      "text/plain": [
       "<matplotlib.collections.QuadMesh at 0x7ffe711a6780>"
      ]
     },
     "execution_count": 79,
     "metadata": {},
     "output_type": "execute_result"
    },
    {
     "data": {
      "image/png": "[encoded data removed]",
      "text/plain": [
       "<Figure size 432x288 with 1 Axes>"
      ]
     },
     "metadata": {
      "needs_background": "light"
     },
     "output_type": "display_data"
    }
   ],
   "source": [
    "mp.pcolormesh(mfds_data_sum[15,:,:])"
   ]
  },
  {
   "cell_type": "code",
   "execution_count": 64,
   "metadata": {},
   "outputs": [],
   "source": [
    "mfds_data_persist = mfds_data.persist()"
   ]
  },
  {
   "cell_type": "code",
   "execution_count": 67,
   "metadata": {},
   "outputs": [],
   "source": [
    "mfds_tmean = mfds_data_persist.mean(axis=0).persist()"
   ]
  },
  {
   "cell_type": "code",
   "execution_count": 68,
   "metadata": {},
   "outputs": [
    {
     "data": {
      "text/plain": [
       "<matplotlib.collections.QuadMesh at 0x7ffee88aff98>"
      ]
     },
     "execution_count": 68,
     "metadata": {},
     "output_type": "execute_result"
    },
    {
     "data": {
      "image/png": "[encoded data removed]",
      "text/plain": [
       "<Figure size 432x288 with 1 Axes>"
      ]
     },
     "metadata": {
      "needs_background": "light"
     },
     "output_type": "display_data"
    }
   ],
   "source": [
    "mp.pcolormesh(mfds_tmean)"
   ]
  },
  {
   "cell_type": "code",
   "execution_count": 69,
   "metadata": {},
   "outputs": [
    {
     "data": {
      "text/plain": [
       "<xarray.DataArray 'PRECT' (lat: 192, lon: 288)>\n",
       "dask.array<shape=(192, 288), dtype=float32, chunksize=(12, 12)>\n",
       "Coordinates:\n",
       "  * lat      (lat) float64 -90.0 -89.06 -88.12 -87.17 ... 87.17 88.12 89.06 90.0\n",
       "  * lon      (lon) float64 0.0 1.25 2.5 3.75 5.0 ... 355.0 356.2 357.5 358.8"
      ]
     },
     "execution_count": 69,
     "metadata": {},
     "output_type": "execute_result"
    }
   ],
   "source": [
    "mfds_tmean"
   ]
  },
  {
   "cell_type": "code",
   "execution_count": null,
   "metadata": {},
   "outputs": [],
   "source": []
  },
  {
   "cell_type": "code",
   "execution_count": 47,
   "metadata": {},
   "outputs": [],
   "source": [
    "mfds_data_persist = mfds_data.data.persist()"
   ]
  },
  {
   "cell_type": "code",
   "execution_count": 35,
   "metadata": {},
   "outputs": [],
   "source": [
    "mfds_data_persist = client.persist(mfds_data)"
   ]
  },
  {
   "cell_type": "code",
   "execution_count": 37,
   "metadata": {},
   "outputs": [],
   "source": [
    "mfds_data_persist = mfds_data.persist()"
   ]
  },
  {
   "cell_type": "code",
   "execution_count": 22,
   "metadata": {},
   "outputs": [],
   "source": [
    "mfds_data_scatter = client.scatter(mfds_data.data)"
   ]
  },
  {
   "cell_type": "code",
   "execution_count": null,
   "metadata": {},
   "outputs": [],
   "source": []
  },
  {
   "cell_type": "code",
   "execution_count": null,
   "metadata": {},
   "outputs": [],
   "source": []
  },
  {
   "cell_type": "code",
   "execution_count": null,
   "metadata": {},
   "outputs": [],
   "source": []
  },
  {
   "cell_type": "code",
   "execution_count": null,
   "metadata": {},
   "outputs": [],
   "source": []
  },
  {
   "cell_type": "code",
   "execution_count": 25,
   "metadata": {},
   "outputs": [
    {
     "ename": "AttributeError",
     "evalue": "'Future' object has no attribute 'persist'",
     "output_type": "error",
     "traceback": [
      "\u001b[0;31m---------------------------------------------------------------------------\u001b[0m",
      "\u001b[0;31mAttributeError\u001b[0m                            Traceback (most recent call last)",
      "\u001b[0;32m<ipython-input-25-41e6c89f84ef>\u001b[0m in \u001b[0;36m<module>\u001b[0;34m\u001b[0m\n\u001b[0;32m----> 1\u001b[0;31m \u001b[0mmfds_data_persist\u001b[0m \u001b[0;34m=\u001b[0m \u001b[0mmfds_data_scatter\u001b[0m\u001b[0;34m.\u001b[0m\u001b[0mpersist\u001b[0m\u001b[0;34m(\u001b[0m\u001b[0;34m)\u001b[0m\u001b[0;34m\u001b[0m\u001b[0;34m\u001b[0m\u001b[0m\n\u001b[0m",
      "\u001b[0;31mAttributeError\u001b[0m: 'Future' object has no attribute 'persist'"
     ]
    }
   ],
   "source": [
    "mfds_data_persist = mfds_data_scatter.persist()"
   ]
  },
  {
   "cell_type": "code",
   "execution_count": 85,
   "metadata": {},
   "outputs": [
    {
     "name": "stderr",
     "output_type": "stream",
     "text": [
      "Worker tcp://10.148.11.61:50917 restart in Job 4397435. This can be due to memory issue.\n",
      "Worker tcp://10.148.11.14:58244 restart in Job 4397423. This can be due to memory issue.\n",
      "Worker tcp://10.148.10.242:51581 restart in Job 4397426. This can be due to memory issue.\n",
      "Worker tcp://10.148.11.16:58585 restart in Job 4397424. This can be due to memory issue.\n",
      "Worker tcp://10.148.9.165:38032 restart in Job 4397416. This can be due to memory issue.\n",
      "Worker tcp://10.148.11.47:53924 restart in Job 4397429. This can be due to memory issue.\n",
      "Worker tcp://10.148.10.244:40386 restart in Job 4397427. This can be due to memory issue.\n",
      "Worker tcp://10.148.11.61:41150 restart in Job 4397435. This can be due to memory issue.\n",
      "Worker tcp://10.148.11.76:57165 restart in Job 4397438. This can be due to memory issue.\n",
      "Worker tcp://10.148.9.179:46653 restart in Job 4397422. This can be due to memory issue.\n",
      "Worker tcp://10.148.11.42:45233 restart in Job 4397428. This can be due to memory issue.\n",
      "Worker tcp://10.148.11.86:44482 restart in Job 4397433. This can be due to memory issue.\n",
      "Worker tcp://10.148.11.63:38639 restart in Job 4397436. This can be due to memory issue.\n",
      "Worker tcp://10.148.11.14:35675 restart in Job 4397423. This can be due to memory issue.\n",
      "Worker tcp://10.148.11.78:43574 restart in Job 4397439. This can be due to memory issue.\n",
      "Worker tcp://10.148.10.242:54923 restart in Job 4397426. This can be due to memory issue.\n",
      "Worker tcp://10.148.11.65:33434 restart in Job 4397437. This can be due to memory issue.\n",
      "Worker tcp://10.148.9.165:48814 restart in Job 4397416. This can be due to memory issue.\n",
      "Worker tcp://10.148.11.88:58284 restart in Job 4397434. This can be due to memory issue.\n",
      "Worker tcp://10.148.9.171:36132 restart in Job 4397418. This can be due to memory issue.\n",
      "Worker tcp://10.148.9.152:51159 restart in Job 4397413. This can be due to memory issue.\n",
      "Worker tcp://10.148.11.16:38749 restart in Job 4397424. This can be due to memory issue.\n",
      "Worker tcp://10.148.11.84:52109 restart in Job 4397432. This can be due to memory issue.\n",
      "Worker tcp://10.148.9.150:39176 restart in Job 4397412. This can be due to memory issue.\n",
      "Worker tcp://10.148.11.49:49179 restart in Job 4397430. This can be due to memory issue.\n",
      "Worker tcp://10.148.11.80:38773 restart in Job 4397440. This can be due to memory issue.\n",
      "Worker tcp://10.148.7.5:58989 restart in Job 4397441. This can be due to memory issue.\n",
      "Worker tcp://10.148.9.154:41620 restart in Job 4397414. This can be due to memory issue.\n",
      "Worker tcp://10.148.9.175:53014 restart in Job 4397420. This can be due to memory issue.\n",
      "Worker tcp://10.148.9.173:58894 restart in Job 4397419. This can be due to memory issue.\n",
      "Worker tcp://10.148.11.73:45986 restart in Job 4397431. This can be due to memory issue.\n",
      "Worker tcp://10.148.9.169:33912 restart in Job 4397417. This can be due to memory issue.\n",
      "Worker tcp://10.148.9.163:49975 restart in Job 4397415. This can be due to memory issue.\n",
      "Worker tcp://10.148.9.177:55460 restart in Job 4397421. This can be due to memory issue.\n",
      "Worker tcp://10.148.11.18:37519 restart in Job 4397425. This can be due to memory issue.\n"
     ]
    },
    {
     "data": {
      "text/html": [
       "<table style=\"border: 2px solid white;\">\n",
       "<tr>\n",
       "<td style=\"vertical-align: top; border: 0px solid white\">\n",
       "<h3>Client</h3>\n",
       "<ul>\n",
       "  <li><b>Scheduler: </b>tcp://10.148.0.6:52480\n",
       "  <li><b>Dashboard: </b><a href='http://10.148.0.6:8787/status' target='_blank'>http://10.148.0.6:8787/status</a>\n",
       "</ul>\n",
       "</td>\n",
       "<td style=\"vertical-align: top; border: 0px solid white\">\n",
       "<h3>Cluster</h3>\n",
       "<ul>\n",
       "  <li><b>Workers: </b>30</li>\n",
       "  <li><b>Cores: </b>1080</li>\n",
       "  <li><b>Memory: </b>3.00 TB</li>\n",
       "</ul>\n",
       "</td>\n",
       "</tr>\n",
       "</table>"
      ],
      "text/plain": [
       "<Client: scheduler='tcp://10.148.0.6:52480' processes=0 cores=0>"
      ]
     },
     "execution_count": 85,
     "metadata": {},
     "output_type": "execute_result"
    }
   ],
   "source": [
    "client.cancel(mfds_data_persist)\n",
    "client.restart()"
   ]
  },
  {
   "cell_type": "code",
   "execution_count": 12,
   "metadata": {},
   "outputs": [
    {
     "data": {
      "text/plain": [
       "dask.array<open_dataset-6e35be37a607d926c3801bd0f8518cb4PRECT, shape=(35769, 192, 288), dtype=float32, chunksize=(35769, 12, 12)>"
      ]
     },
     "execution_count": 12,
     "metadata": {},
     "output_type": "execute_result"
    }
   ],
   "source": [
    "mfds_data.data"
   ]
  },
  {
   "cell_type": "code",
   "execution_count": null,
   "metadata": {},
   "outputs": [],
   "source": []
  },
  {
   "cell_type": "code",
   "execution_count": null,
   "metadata": {},
   "outputs": [],
   "source": []
  },
  {
   "cell_type": "code",
   "execution_count": null,
   "metadata": {},
   "outputs": [],
   "source": []
  },
  {
   "cell_type": "code",
   "execution_count": null,
   "metadata": {},
   "outputs": [],
   "source": []
  },
  {
   "cell_type": "code",
   "execution_count": null,
   "metadata": {},
   "outputs": [],
   "source": [
    "mfds_data = client.persist(mfds_data.data) # same as mfds_data.data.persist() ?"
   ]
  },
  {
   "cell_type": "code",
   "execution_count": null,
   "metadata": {},
   "outputs": [],
   "source": [
    "client.cancel(mfds_data)"
   ]
  },
  {
   "cell_type": "code",
   "execution_count": null,
   "metadata": {},
   "outputs": [],
   "source": [
    "client.cancel(mfds_data)"
   ]
  },
  {
   "cell_type": "code",
   "execution_count": null,
   "metadata": {},
   "outputs": [],
   "source": []
  },
  {
   "cell_type": "code",
   "execution_count": null,
   "metadata": {},
   "outputs": [],
   "source": []
  },
  {
   "cell_type": "code",
   "execution_count": null,
   "metadata": {},
   "outputs": [],
   "source": []
  },
  {
   "cell_type": "code",
   "execution_count": null,
   "metadata": {},
   "outputs": [],
   "source": [
    "# from http://matthewrocklin.com/blog/work/2017/01/12/dask-dataframes\n",
    "mfds_data_nday_rolling_sum = client.persist(mfds_data.rolling(time=30, center=True).sum())\n",
    "\n",
    "### doesn't work..."
   ]
  },
  {
   "cell_type": "code",
   "execution_count": null,
   "metadata": {},
   "outputs": [],
   "source": []
  },
  {
   "cell_type": "code",
   "execution_count": null,
   "metadata": {},
   "outputs": [],
   "source": []
  },
  {
   "cell_type": "code",
   "execution_count": null,
   "metadata": {},
   "outputs": [],
   "source": []
  },
  {
   "cell_type": "code",
   "execution_count": null,
   "metadata": {},
   "outputs": [],
   "source": []
  },
  {
   "cell_type": "code",
   "execution_count": null,
   "metadata": {},
   "outputs": [],
   "source": [
    "mfds_data = client.persist(mfds_data)"
   ]
  },
  {
   "cell_type": "code",
   "execution_count": null,
   "metadata": {},
   "outputs": [],
   "source": [
    "del(mfds_data)"
   ]
  },
  {
   "cell_type": "code",
   "execution_count": null,
   "metadata": {},
   "outputs": [],
   "source": [
    "client.cancel(mfds_data)"
   ]
  },
  {
   "cell_type": "raw",
   "metadata": {},
   "source": [
    "mfds_data_nday_rolling_sum = mfds_data.rolling(time=30, center=True)"
   ]
  },
  {
   "cell_type": "code",
   "execution_count": null,
   "metadata": {},
   "outputs": [],
   "source": []
  },
  {
   "cell_type": "code",
   "execution_count": null,
   "metadata": {},
   "outputs": [],
   "source": [
    "mfds_data_nday_rolling_sum = mfds_data.rolling(time=30, center=True).sum()"
   ]
  },
  {
   "cell_type": "code",
   "execution_count": null,
   "metadata": {},
   "outputs": [],
   "source": [
    "mfds_data_nday_rolling_sum.to_netcdf('/glade/scratch/baird/temp/netcdf_outfile.nc', unlimited_dims='time')"
   ]
  },
  {
   "cell_type": "code",
   "execution_count": null,
   "metadata": {},
   "outputs": [],
   "source": []
  },
  {
   "cell_type": "code",
   "execution_count": null,
   "metadata": {},
   "outputs": [],
   "source": []
  },
  {
   "cell_type": "code",
   "execution_count": null,
   "metadata": {},
   "outputs": [],
   "source": []
  },
  {
   "cell_type": "code",
   "execution_count": null,
   "metadata": {},
   "outputs": [],
   "source": []
  },
  {
   "cell_type": "code",
   "execution_count": null,
   "metadata": {},
   "outputs": [],
   "source": []
  },
  {
   "cell_type": "code",
   "execution_count": null,
   "metadata": {},
   "outputs": [],
   "source": []
  },
  {
   "cell_type": "code",
   "execution_count": null,
   "metadata": {},
   "outputs": [],
   "source": []
  },
  {
   "cell_type": "code",
   "execution_count": null,
   "metadata": {},
   "outputs": [],
   "source": []
  },
  {
   "cell_type": "code",
   "execution_count": null,
   "metadata": {},
   "outputs": [],
   "source": []
  },
  {
   "cell_type": "code",
   "execution_count": null,
   "metadata": {},
   "outputs": [],
   "source": [
    "mfds_data_nday_rolling_sum = client.compute(mfds_data_nday_rolling_sum)"
   ]
  },
  {
   "cell_type": "code",
   "execution_count": null,
   "metadata": {},
   "outputs": [],
   "source": [
    "mfds_data_nday_rolling_sum"
   ]
  },
  {
   "cell_type": "code",
   "execution_count": null,
   "metadata": {},
   "outputs": [],
   "source": [
    "mfds_data_nday_rolling_sum.to_netcdf('/glade/scratch/baird/temp/netcdf_output.nc', unlimited_dims='time')"
   ]
  },
  {
   "cell_type": "code",
   "execution_count": null,
   "metadata": {},
   "outputs": [],
   "source": []
  },
  {
   "cell_type": "code",
   "execution_count": null,
   "metadata": {},
   "outputs": [],
   "source": [
    "mfds_data = mfds_data.data.persist()"
   ]
  },
  {
   "cell_type": "code",
   "execution_count": null,
   "metadata": {},
   "outputs": [],
   "source": [
    "mfds_data_tmean = mfds_data.mean(axis=0)"
   ]
  },
  {
   "cell_type": "code",
   "execution_count": null,
   "metadata": {},
   "outputs": [],
   "source": [
    "mp.pcolormesh(mfds_data_tmean)"
   ]
  },
  {
   "cell_type": "code",
   "execution_count": null,
   "metadata": {},
   "outputs": [],
   "source": [
    "mfds_data = mfds_data.persist()"
   ]
  },
  {
   "cell_type": "code",
   "execution_count": null,
   "metadata": {},
   "outputs": [],
   "source": [
    "mfds_data"
   ]
  },
  {
   "cell_type": "code",
   "execution_count": null,
   "metadata": {},
   "outputs": [],
   "source": []
  },
  {
   "cell_type": "code",
   "execution_count": null,
   "metadata": {},
   "outputs": [],
   "source": []
  },
  {
   "cell_type": "code",
   "execution_count": null,
   "metadata": {},
   "outputs": [],
   "source": []
  },
  {
   "cell_type": "raw",
   "metadata": {},
   "source": [
    "#client.cancel(mfds_data)\n",
    "client.restart()"
   ]
  },
  {
   "cell_type": "code",
   "execution_count": null,
   "metadata": {},
   "outputs": [],
   "source": [
    "## to cancel a persist:\n",
    "#client.cancel(mfds_data)"
   ]
  },
  {
   "cell_type": "markdown",
   "metadata": {},
   "source": [
    "1. pull out time and specific months\n",
    "2. calculate the number of days in those months\n",
    "3. other stuff"
   ]
  },
  {
   "cell_type": "code",
   "execution_count": null,
   "metadata": {
    "ExecuteTime": {
     "end_time": "2019-02-01T21:05:11.078143Z",
     "start_time": "2019-02-01T21:05:10.983661Z"
    }
   },
   "outputs": [],
   "source": [
    "event_size = 30 # days\n",
    "season = 'ONDJFM'; month_numbers = [10,11,12,1,2,3]\n",
    "time_data_indices = [t.month in month_numbers for t in mfds_time]\n",
    "\n",
    "ndays = sum([calendar.monthrange(1979,m)[1] for m in month_numbers])"
   ]
  },
  {
   "cell_type": "markdown",
   "metadata": {},
   "source": [
    "calculate an N-day rolling sum (corresponding to ```event_size```)  \n",
    "*takes about 45 min to an hour on 50 cores*"
   ]
  },
  {
   "cell_type": "code",
   "execution_count": null,
   "metadata": {},
   "outputs": [],
   "source": [
    "mfds_data = mfds_data.persist()"
   ]
  },
  {
   "cell_type": "code",
   "execution_count": null,
   "metadata": {},
   "outputs": [],
   "source": [
    "print(mfds_data.dims)\n",
    "print(mfds_data.coords)\n",
    "print()\n",
    "print(mfds_data)"
   ]
  },
  {
   "cell_type": "code",
   "execution_count": null,
   "metadata": {},
   "outputs": [],
   "source": [
    "mfds_data.data"
   ]
  },
  {
   "cell_type": "code",
   "execution_count": null,
   "metadata": {},
   "outputs": [],
   "source": [
    "mfds_data_nday_rolling_sum = mfds_data.rolling(time=30, center=True).sum()"
   ]
  },
  {
   "cell_type": "code",
   "execution_count": null,
   "metadata": {},
   "outputs": [],
   "source": []
  },
  {
   "cell_type": "code",
   "execution_count": null,
   "metadata": {},
   "outputs": [],
   "source": [
    "mfds_data_nday_rolling_sum"
   ]
  },
  {
   "cell_type": "code",
   "execution_count": null,
   "metadata": {},
   "outputs": [],
   "source": []
  },
  {
   "cell_type": "code",
   "execution_count": null,
   "metadata": {},
   "outputs": [],
   "source": []
  },
  {
   "cell_type": "code",
   "execution_count": null,
   "metadata": {
    "ExecuteTime": {
     "end_time": "2019-02-01T21:05:11.342531Z",
     "start_time": "2019-02-01T21:05:11.339322Z"
    }
   },
   "outputs": [],
   "source": [
    "return_period = 100 # in years\n",
    "events_per_year = ndays/event_size #152/30\n",
    "\n",
    "return_val_perc = 100*(1-1/(return_period*events_per_year))\n",
    "return_val_fraction = (1-1/(return_period*events_per_year))\n",
    "print(return_val_perc)"
   ]
  },
  {
   "cell_type": "raw",
   "metadata": {},
   "source": [
    "print('mfds size in GB {:0.2f}\\n'.format(mfds.nbytes / 1e9))\n",
    "mfds.info()"
   ]
  },
  {
   "cell_type": "markdown",
   "metadata": {},
   "source": [
    "WORKED ON SMALL DATA"
   ]
  },
  {
   "cell_type": "raw",
   "metadata": {},
   "source": [
    "# works only on SMALL data sets\n",
    "quantile_results = mfds_data.compute().quantile(dim='time', q=return_val_fraction)"
   ]
  },
  {
   "cell_type": "markdown",
   "metadata": {},
   "source": [
    "TRYING FOR LARGER DATA SET"
   ]
  },
  {
   "cell_type": "code",
   "execution_count": null,
   "metadata": {},
   "outputs": [],
   "source": [
    "mfds_data = mfds_data.persist()\n",
    "\n",
    "client.cancel(mfds_data)\n",
    "\n",
    "def calc_perc(x, q=return_val_fraction):\n",
    "    return(numpy.nanpercentile(x, q=return_val_fraction, axis=0))"
   ]
  },
  {
   "cell_type": "markdown",
   "metadata": {},
   "source": [
    "doesn't compute things yet, just applies function to all chunks:"
   ]
  },
  {
   "cell_type": "code",
   "execution_count": null,
   "metadata": {},
   "outputs": [],
   "source": [
    "result = dask.array.apply_along_axis(calc_perc, arr=mfds_data.data, axis=0)"
   ]
  },
  {
   "cell_type": "markdown",
   "metadata": {},
   "source": [
    "now do the computation"
   ]
  },
  {
   "cell_type": "code",
   "execution_count": null,
   "metadata": {},
   "outputs": [],
   "source": [
    "perc_calculation = result.compute()"
   ]
  },
  {
   "cell_type": "code",
   "execution_count": null,
   "metadata": {},
   "outputs": [],
   "source": [
    "mp.pcolormesh(perc_calculation*86400.*1000.)\n",
    "mp.colorbar()"
   ]
  },
  {
   "cell_type": "code",
   "execution_count": null,
   "metadata": {},
   "outputs": [],
   "source": [
    "output_da = xarray.DataArray(perc_calculation*86400.*1000., name='100yr_30dsum_return_values', \n",
    "                             coords={'lon':lon_total,'lat':lat_total},\n",
    "                             dims={'lat','lon'}, attrs={'units':'kg m s-1'})\n",
    "\n",
    "output_df = xarray.Dataset({'100yr_30dsum_return_values':output_da})"
   ]
  },
  {
   "cell_type": "code",
   "execution_count": null,
   "metadata": {},
   "outputs": [],
   "source": [
    "output_da"
   ]
  },
  {
   "cell_type": "code",
   "execution_count": null,
   "metadata": {},
   "outputs": [],
   "source": [
    "output_df"
   ]
  },
  {
   "cell_type": "code",
   "execution_count": null,
   "metadata": {},
   "outputs": [],
   "source": [
    "output_df.to_netcdf('pic_100yr_30dsum_return_values.nc')"
   ]
  },
  {
   "cell_type": "code",
   "execution_count": null,
   "metadata": {},
   "outputs": [],
   "source": [
    "!ls *.nc"
   ]
  },
  {
   "cell_type": "code",
   "execution_count": null,
   "metadata": {},
   "outputs": [],
   "source": []
  }
 ],
 "metadata": {
  "kernelspec": {
   "display_name": "Python 3",
   "language": "python",
   "name": "python3"
  },
  "language_info": {
   "codemirror_mode": {
    "name": "ipython",
    "version": 3
   },
   "file_extension": ".py",
   "mimetype": "text/x-python",
   "name": "python",
   "nbconvert_exporter": "python",
   "pygments_lexer": "ipython3",
   "version": "3.7.2"
  }
 },
 "nbformat": 4,
 "nbformat_minor": 2
}
