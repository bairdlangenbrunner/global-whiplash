{
 "cells": [
  {
   "cell_type": "code",
   "execution_count": 1,
   "metadata": {
    "ExecuteTime": {
     "end_time": "2019-02-01T21:04:12.850681Z",
     "start_time": "2019-02-01T21:04:10.383069Z"
    }
   },
   "outputs": [],
   "source": [
    "import numpy\n",
    "import xarray\n",
    "import matplotlib.pyplot as mp\n",
    "import glob\n",
    "import pandas\n",
    "import cartopy\n",
    "import itertools\n",
    "import datetime\n",
    "import calendar"
   ]
  },
  {
   "cell_type": "raw",
   "metadata": {},
   "source": [
    "!ls /glade/collections/cdg/data/cesmLE/CESM-CAM5-BGC-LE/atm/proc/tseries/daily/PRECT"
   ]
  },
  {
   "cell_type": "code",
   "execution_count": 2,
   "metadata": {
    "ExecuteTime": {
     "end_time": "2019-02-01T21:04:12.854849Z",
     "start_time": "2019-02-01T21:04:12.852577Z"
    }
   },
   "outputs": [],
   "source": [
    "#PRECT_root = '/ninad/NCAR_LENS/PRECT/'\n",
    "#PRECT_root = '/scratch/blangenb/NCAR_LENS/PRECT/'\n",
    "PRECT_root =  '/glade/collections/cdg/data/cesmLE/CESM-CAM5-BGC-LE/atm/proc/tseries/daily/PRECT/'"
   ]
  },
  {
   "cell_type": "code",
   "execution_count": 3,
   "metadata": {
    "ExecuteTime": {
     "end_time": "2019-02-01T21:04:13.754332Z",
     "start_time": "2019-02-01T21:04:13.752087Z"
    }
   },
   "outputs": [],
   "source": [
    "# lon_qtr = int(288/4)\n",
    "# lat_qtr = int(192/4)\n",
    "# lon_half = int(288/2)\n",
    "# lat_half = int(192/2)\n",
    "\n",
    "lon_size = 288\n",
    "lat_size = 192"
   ]
  },
  {
   "cell_type": "markdown",
   "metadata": {},
   "source": [
    "Open pre-industrial control as multi-file dataset"
   ]
  },
  {
   "cell_type": "code",
   "execution_count": 4,
   "metadata": {
    "ExecuteTime": {
     "end_time": "2019-02-01T21:04:15.888385Z",
     "start_time": "2019-02-01T21:04:15.144094Z"
    }
   },
   "outputs": [],
   "source": [
    "filename = 'b.e11.B1850C5CN.f09_g16.005.cam.h1.PRECT.04020101-04991231.nc'\n",
    "example_pic_ds = xarray.open_dataset(PRECT_root + 'b.e11.B1850C5CN.f09_g16.005.cam.h1.PRECT.04020101-04991231.nc')\n",
    "lat_total = example_pic_ds['lat']\n",
    "lon_total = example_pic_ds['lon']"
   ]
  },
  {
   "cell_type": "code",
   "execution_count": 5,
   "metadata": {
    "ExecuteTime": {
     "end_time": "2019-02-01T21:04:17.170318Z",
     "start_time": "2019-02-01T21:04:17.031936Z"
    }
   },
   "outputs": [
    {
     "name": "stdout",
     "output_type": "stream",
     "text": [
      "rolling_30day_sum_B1850C5CN_04020101-04991231.nc\n",
      "rolling_30day_sum_B1850C5CN_05000101-05991231.nc\n",
      "rolling_30day_sum_B1850C5CN_06000101-06991231.nc\n",
      "rolling_30day_sum_B1850C5CN_07000101-07991231.nc\n",
      "rolling_30day_sum_B1850C5CN_08000101-08991231.nc\n",
      "rolling_30day_sum_B1850C5CN_09000101-09991231.nc\n",
      "rolling_30day_sum_B1850C5CN_10000101-10991231.nc\n",
      "rolling_30day_sum_B1850C5CN_11000101-11991231.nc\n",
      "rolling_30day_sum_B1850C5CN_12000101-12991231.nc\n",
      "rolling_30day_sum_B1850C5CN_13000101-13991231.nc\n",
      "rolling_30day_sum_B1850C5CN_14000101-14991231.nc\n",
      "rolling_30day_sum_B1850C5CN_15000101-15991231.nc\n",
      "rolling_30day_sum_B1850C5CN_16000101-16991231.nc\n",
      "rolling_30day_sum_B1850C5CN_17000101-17991231.nc\n",
      "rolling_30day_sum_B1850C5CN_18000101-18991231.nc\n",
      "rolling_30day_sum_B1850C5CN_19000101-19991231.nc\n",
      "rolling_30day_sum_B1850C5CN_20000101-20991231.nc\n",
      "rolling_30day_sum_B1850C5CN_21000101-22001231.nc\n"
     ]
    }
   ],
   "source": [
    "!ls /glade/scratch/baird/global-whiplash-files/"
   ]
  },
  {
   "cell_type": "code",
   "execution_count": 6,
   "metadata": {
    "ExecuteTime": {
     "end_time": "2019-02-01T21:04:19.302821Z",
     "start_time": "2019-02-01T21:04:19.299998Z"
    }
   },
   "outputs": [],
   "source": [
    "filename_list = sorted(glob.glob('/glade/scratch/baird/global-whiplash-files/rolling_30day_sum*'))"
   ]
  },
  {
   "cell_type": "code",
   "execution_count": 7,
   "metadata": {
    "ExecuteTime": {
     "end_time": "2019-02-01T21:04:30.107894Z",
     "start_time": "2019-02-01T21:04:21.787649Z"
    }
   },
   "outputs": [],
   "source": [
    "mfds = xarray.open_mfdataset(filename_list)"
   ]
  },
  {
   "cell_type": "code",
   "execution_count": 1,
   "metadata": {
    "ExecuteTime": {
     "end_time": "2019-02-01T21:05:09.430727Z",
     "start_time": "2019-02-01T21:05:09.427878Z"
    }
   },
   "outputs": [
    {
     "ename": "NameError",
     "evalue": "name 'mfds' is not defined",
     "output_type": "error",
     "traceback": [
      "\u001b[0;31m---------------------------------------------------------------------\u001b[0m",
      "\u001b[0;31mNameError\u001b[0m                           Traceback (most recent call last)",
      "\u001b[0;32m<ipython-input-1-97ab4fbbd49f>\u001b[0m in \u001b[0;36m<module>\u001b[0;34m\u001b[0m\n\u001b[0;32m----> 1\u001b[0;31m \u001b[0mmfds_time\u001b[0m \u001b[0;34m=\u001b[0m \u001b[0mmfds\u001b[0m\u001b[0;34m[\u001b[0m\u001b[0;34m'time'\u001b[0m\u001b[0;34m]\u001b[0m\u001b[0;34m.\u001b[0m\u001b[0mvalues\u001b[0m\u001b[0;34m\u001b[0m\u001b[0;34m\u001b[0m\u001b[0m\n\u001b[0m\u001b[1;32m      2\u001b[0m \u001b[0mmfds_lat\u001b[0m \u001b[0;34m=\u001b[0m \u001b[0mmfds\u001b[0m\u001b[0;34m[\u001b[0m\u001b[0;34m'lat'\u001b[0m\u001b[0;34m]\u001b[0m\u001b[0;34m.\u001b[0m\u001b[0mvalues\u001b[0m\u001b[0;34m\u001b[0m\u001b[0;34m\u001b[0m\u001b[0m\n\u001b[1;32m      3\u001b[0m \u001b[0mmfds_lon\u001b[0m \u001b[0;34m=\u001b[0m \u001b[0mmfds\u001b[0m\u001b[0;34m[\u001b[0m\u001b[0;34m'lon'\u001b[0m\u001b[0;34m]\u001b[0m\u001b[0;34m.\u001b[0m\u001b[0mvalues\u001b[0m\u001b[0;34m\u001b[0m\u001b[0;34m\u001b[0m\u001b[0m\n",
      "\u001b[0;31mNameError\u001b[0m: name 'mfds' is not defined"
     ]
    }
   ],
   "source": [
    "mfds_time = mfds['time'].values\n",
    "mfds_lat = mfds['lat'].values\n",
    "mfds_lon = mfds['lon'].values"
   ]
  },
  {
   "cell_type": "markdown",
   "metadata": {},
   "source": [
    "1. pull out time and specific months\n",
    "2. calculate the number of days in those months\n",
    "3. "
   ]
  },
  {
   "cell_type": "code",
   "execution_count": 14,
   "metadata": {
    "ExecuteTime": {
     "end_time": "2019-02-01T21:05:11.078143Z",
     "start_time": "2019-02-01T21:05:10.983661Z"
    }
   },
   "outputs": [],
   "source": [
    "event_size = 30 # days\n",
    "season = 'ONDJFM'; month_numbers = [10,11,12,1,2,3]\n",
    "time_data_indices = [t.month in month_numbers for t in mfds_time]\n",
    "\n",
    "ndays = sum([calendar.monthrange(1979,m)[1] for m in month_numbers])"
   ]
  },
  {
   "cell_type": "code",
   "execution_count": 15,
   "metadata": {
    "ExecuteTime": {
     "end_time": "2019-02-01T21:05:11.342531Z",
     "start_time": "2019-02-01T21:05:11.339322Z"
    }
   },
   "outputs": [
    {
     "name": "stdout",
     "output_type": "stream",
     "text": [
      "99.83516483516483\n"
     ]
    }
   ],
   "source": [
    "return_period = 100 # in years\n",
    "events_per_year = ndays/event_size #152/30\n",
    "\n",
    "return_val_perc = 100*(1-1/(return_period*events_per_year))\n",
    "print(return_val_perc)"
   ]
  },
  {
   "cell_type": "code",
   "execution_count": 16,
   "metadata": {
    "ExecuteTime": {
     "end_time": "2019-02-01T21:05:13.941583Z",
     "start_time": "2019-02-01T21:05:13.928498Z"
    }
   },
   "outputs": [],
   "source": [
    "latlon_index_combos = list (itertools.product( list(range(mfds_lat.size)), \\\n",
    "                                              list(range(mfds_lon.size)) ) )"
   ]
  },
  {
   "cell_type": "code",
   "execution_count": 19,
   "metadata": {
    "ExecuteTime": {
     "end_time": "2019-02-01T21:08:20.866821Z",
     "start_time": "2019-02-01T21:08:20.862065Z"
    }
   },
   "outputs": [
    {
     "data": {
      "text/plain": [
       "55296"
      ]
     },
     "execution_count": 19,
     "metadata": {},
     "output_type": "execute_result"
    }
   ],
   "source": [
    "latlon_index_combos.__len__()"
   ]
  },
  {
   "cell_type": "code",
   "execution_count": 23,
   "metadata": {
    "ExecuteTime": {
     "end_time": "2019-02-01T21:15:18.322117Z",
     "start_time": "2019-02-01T21:09:26.875030Z"
    }
   },
   "outputs": [
    {
     "name": "stdout",
     "output_type": "stream",
     "text": [
      "(0, 0)\n",
      "(0, 1)\n",
      "(0, 2)\n",
      "(0, 3)\n",
      "(0, 4)\n",
      "(0, 5)\n",
      "(0, 6)\n",
      "(0, 7)\n"
     ]
    }
   ],
   "source": [
    "return_val_sizes = numpy.zeros((mfds_lat.size,mfds_lon.size))\n",
    "for i,combo in enumerate(latlon_index_combos[:8]):\n",
    "    print(combo)\n",
    "    temporary_data = mfds['__xarray_dataarray_variable__'].isel(lat=combo[0], lon=combo[1]).values\n",
    "    return_val_sizes[combo[0],combo[1]] = numpy.nanpercentile(temporary_data, return_val_perc)"
   ]
  },
  {
   "cell_type": "code",
   "execution_count": null,
   "metadata": {},
   "outputs": [],
   "source": []
  },
  {
   "cell_type": "code",
   "execution_count": 128,
   "metadata": {},
   "outputs": [
    {
     "data": {
      "text/plain": [
       "[<matplotlib.lines.Line2D at 0x2aaaeb4b2c88>]"
      ]
     },
     "execution_count": 128,
     "metadata": {},
     "output_type": "execute_result"
    },
    {
     "data": {
      "image/png": "[encoded data removed]",
      "text/plain": [
       "<Figure size 432x288 with 1 Axes>"
      ]
     },
     "metadata": {
      "needs_background": "light"
     },
     "output_type": "display_data"
    }
   ],
   "source": [
    "mp.plot(temporary_data[:365])"
   ]
  },
  {
   "cell_type": "code",
   "execution_count": 121,
   "metadata": {},
   "outputs": [
    {
     "data": {
      "text/plain": [
       "<xarray.Dataset>\n",
       "Dimensions:                        (lat: 192, lon: 288, time: 656634)\n",
       "Coordinates:\n",
       "  * lat                            (lat) float64 -90.0 -89.06 ... 89.06 90.0\n",
       "  * lon                            (lon) float64 0.0 1.25 2.5 ... 357.5 358.8\n",
       "  * time                           (time) object 0402-01-02 00:00:00 ... 2201-01-01 00:00:00\n",
       "Data variables:\n",
       "    __xarray_dataarray_variable__  (time, lat, lon) float32 dask.array<shape=(656634, 192, 288), chunksize=(35769, 192, 288)>"
      ]
     },
     "execution_count": 121,
     "metadata": {},
     "output_type": "execute_result"
    }
   ],
   "source": [
    "mfds"
   ]
  },
  {
   "cell_type": "code",
   "execution_count": null,
   "metadata": {},
   "outputs": [],
   "source": []
  },
  {
   "cell_type": "code",
   "execution_count": null,
   "metadata": {},
   "outputs": [],
   "source": []
  },
  {
   "cell_type": "code",
   "execution_count": null,
   "metadata": {},
   "outputs": [],
   "source": []
  },
  {
   "cell_type": "code",
   "execution_count": 117,
   "metadata": {},
   "outputs": [
    {
     "data": {
      "text/plain": [
       "55296"
      ]
     },
     "execution_count": 117,
     "metadata": {},
     "output_type": "execute_result"
    }
   ],
   "source": [
    "latlon_index_combos.__len__()"
   ]
  },
  {
   "cell_type": "code",
   "execution_count": null,
   "metadata": {},
   "outputs": [],
   "source": []
  },
  {
   "cell_type": "code",
   "execution_count": null,
   "metadata": {
    "ExecuteTime": {
     "end_time": "2018-11-13T20:31:40.470652Z",
     "start_time": "2018-11-13T20:31:40.466207Z"
    }
   },
   "outputs": [],
   "source": [
    "return_period = 200 # in years\n",
    "#events_per_year = 151/40\n",
    "events_per_year = 151\n",
    "\n",
    "#return_period = 100\n",
    "#events_per_year = 1\n",
    "\n",
    "return_val_perc = 100*(1-1/(return_period*events_per_year))\n",
    "print(return_val_perc)"
   ]
  },
  {
   "cell_type": "code",
   "execution_count": null,
   "metadata": {
    "ExecuteTime": {
     "end_time": "2018-11-13T20:35:17.326906Z",
     "start_time": "2018-11-13T20:31:42.167105Z"
    }
   },
   "outputs": [],
   "source": [
    "percentile_values = numpy.zeros((nlat,nlon))\n",
    "for j in range(nlat):\n",
    "    for k in range(nlon):\n",
    "        # get rid of nans\n",
    "        tmp_distro = prect_pic_seas_data[:,j,k]\n",
    "        #prect_djf[:,j,k][~numpy.isnan(prect_djf[:,j,k])]\n",
    "        percentile_values[j,k] = numpy.nanpercentile(tmp_distro, return_val_perc)"
   ]
  },
  {
   "cell_type": "code",
   "execution_count": null,
   "metadata": {
    "ExecuteTime": {
     "end_time": "2018-11-13T20:35:17.336313Z",
     "start_time": "2018-11-13T20:35:17.329073Z"
    }
   },
   "outputs": [],
   "source": [
    "# saveas info\n",
    "file_prefix = 'LL_pic_daily_200yr_wet'\n",
    "numpy.save('../intermediate-files/file_prefix' + '.npy', percentile_values)"
   ]
  },
  {
   "cell_type": "code",
   "execution_count": null,
   "metadata": {},
   "outputs": [],
   "source": []
  },
  {
   "cell_type": "code",
   "execution_count": null,
   "metadata": {},
   "outputs": [],
   "source": []
  },
  {
   "cell_type": "code",
   "execution_count": 10,
   "metadata": {},
   "outputs": [
    {
     "name": "stdout",
     "output_type": "stream",
     "text": [
      "\n",
      "/glade/collections/cdg/data/cesmLE/CESM-CAM5-BGC-LE/atm/proc/tseries/daily/PRECT/b.e11.B1850C5CN.f09_g16.005.cam.h1.PRECT.05000101-05991231.nc\n",
      "+++++\n",
      "saved as /glade/scratch/baird/global-whiplash-files/rolling_30day_sum_B1850C5CN_05000101-05991231.nc\n",
      "\n",
      "/glade/collections/cdg/data/cesmLE/CESM-CAM5-BGC-LE/atm/proc/tseries/daily/PRECT/b.e11.B1850C5CN.f09_g16.005.cam.h1.PRECT.06000101-06991231.nc\n",
      "+++++\n",
      "saved as /glade/scratch/baird/global-whiplash-files/rolling_30day_sum_B1850C5CN_06000101-06991231.nc\n",
      "\n",
      "/glade/collections/cdg/data/cesmLE/CESM-CAM5-BGC-LE/atm/proc/tseries/daily/PRECT/b.e11.B1850C5CN.f09_g16.005.cam.h1.PRECT.07000101-07991231.nc\n",
      "+++++\n",
      "saved as /glade/scratch/baird/global-whiplash-files/rolling_30day_sum_B1850C5CN_07000101-07991231.nc\n",
      "\n",
      "/glade/collections/cdg/data/cesmLE/CESM-CAM5-BGC-LE/atm/proc/tseries/daily/PRECT/b.e11.B1850C5CN.f09_g16.005.cam.h1.PRECT.08000101-08991231.nc\n",
      "+++++\n",
      "saved as /glade/scratch/baird/global-whiplash-files/rolling_30day_sum_B1850C5CN_08000101-08991231.nc\n",
      "\n",
      "/glade/collections/cdg/data/cesmLE/CESM-CAM5-BGC-LE/atm/proc/tseries/daily/PRECT/b.e11.B1850C5CN.f09_g16.005.cam.h1.PRECT.09000101-09991231.nc\n",
      "+++++\n",
      "saved as /glade/scratch/baird/global-whiplash-files/rolling_30day_sum_B1850C5CN_09000101-09991231.nc\n",
      "\n",
      "/glade/collections/cdg/data/cesmLE/CESM-CAM5-BGC-LE/atm/proc/tseries/daily/PRECT/b.e11.B1850C5CN.f09_g16.005.cam.h1.PRECT.10000101-10991231.nc\n",
      "+++++\n",
      "saved as /glade/scratch/baird/global-whiplash-files/rolling_30day_sum_B1850C5CN_10000101-10991231.nc\n",
      "\n",
      "/glade/collections/cdg/data/cesmLE/CESM-CAM5-BGC-LE/atm/proc/tseries/daily/PRECT/b.e11.B1850C5CN.f09_g16.005.cam.h1.PRECT.11000101-11991231.nc\n",
      "+++++\n",
      "saved as /glade/scratch/baird/global-whiplash-files/rolling_30day_sum_B1850C5CN_11000101-11991231.nc\n",
      "\n",
      "/glade/collections/cdg/data/cesmLE/CESM-CAM5-BGC-LE/atm/proc/tseries/daily/PRECT/b.e11.B1850C5CN.f09_g16.005.cam.h1.PRECT.12000101-12991231.nc\n",
      "+++++\n",
      "saved as /glade/scratch/baird/global-whiplash-files/rolling_30day_sum_B1850C5CN_12000101-12991231.nc\n",
      "\n",
      "/glade/collections/cdg/data/cesmLE/CESM-CAM5-BGC-LE/atm/proc/tseries/daily/PRECT/b.e11.B1850C5CN.f09_g16.005.cam.h1.PRECT.13000101-13991231.nc\n",
      "+++++\n",
      "saved as /glade/scratch/baird/global-whiplash-files/rolling_30day_sum_B1850C5CN_13000101-13991231.nc\n",
      "\n",
      "/glade/collections/cdg/data/cesmLE/CESM-CAM5-BGC-LE/atm/proc/tseries/daily/PRECT/b.e11.B1850C5CN.f09_g16.005.cam.h1.PRECT.14000101-14991231.nc\n",
      "+++++\n",
      "saved as /glade/scratch/baird/global-whiplash-files/rolling_30day_sum_B1850C5CN_14000101-14991231.nc\n",
      "\n",
      "/glade/collections/cdg/data/cesmLE/CESM-CAM5-BGC-LE/atm/proc/tseries/daily/PRECT/b.e11.B1850C5CN.f09_g16.005.cam.h1.PRECT.15000101-15991231.nc\n",
      "+++++\n",
      "saved as /glade/scratch/baird/global-whiplash-files/rolling_30day_sum_B1850C5CN_15000101-15991231.nc\n",
      "\n",
      "/glade/collections/cdg/data/cesmLE/CESM-CAM5-BGC-LE/atm/proc/tseries/daily/PRECT/b.e11.B1850C5CN.f09_g16.005.cam.h1.PRECT.16000101-16991231.nc\n",
      "+++++\n",
      "saved as /glade/scratch/baird/global-whiplash-files/rolling_30day_sum_B1850C5CN_16000101-16991231.nc\n",
      "\n",
      "/glade/collections/cdg/data/cesmLE/CESM-CAM5-BGC-LE/atm/proc/tseries/daily/PRECT/b.e11.B1850C5CN.f09_g16.005.cam.h1.PRECT.17000101-17991231.nc\n",
      "+++++\n",
      "saved as /glade/scratch/baird/global-whiplash-files/rolling_30day_sum_B1850C5CN_17000101-17991231.nc\n",
      "\n",
      "/glade/collections/cdg/data/cesmLE/CESM-CAM5-BGC-LE/atm/proc/tseries/daily/PRECT/b.e11.B1850C5CN.f09_g16.005.cam.h1.PRECT.18000101-18991231.nc\n",
      "+++++\n",
      "saved as /glade/scratch/baird/global-whiplash-files/rolling_30day_sum_B1850C5CN_18000101-18991231.nc\n",
      "\n",
      "/glade/collections/cdg/data/cesmLE/CESM-CAM5-BGC-LE/atm/proc/tseries/daily/PRECT/b.e11.B1850C5CN.f09_g16.005.cam.h1.PRECT.19000101-19991231.nc\n",
      "+++++\n",
      "saved as /glade/scratch/baird/global-whiplash-files/rolling_30day_sum_B1850C5CN_19000101-19991231.nc\n",
      "\n",
      "/glade/collections/cdg/data/cesmLE/CESM-CAM5-BGC-LE/atm/proc/tseries/daily/PRECT/b.e11.B1850C5CN.f09_g16.005.cam.h1.PRECT.20000101-20991231.nc\n",
      "+++++\n",
      "saved as /glade/scratch/baird/global-whiplash-files/rolling_30day_sum_B1850C5CN_20000101-20991231.nc\n",
      "\n",
      "/glade/collections/cdg/data/cesmLE/CESM-CAM5-BGC-LE/atm/proc/tseries/daily/PRECT/b.e11.B1850C5CN.f09_g16.005.cam.h1.PRECT.21000101-22001231.nc\n",
      "+++++\n",
      "saved as /glade/scratch/baird/global-whiplash-files/rolling_30day_sum_B1850C5CN_21000101-22001231.nc\n"
     ]
    }
   ],
   "source": [
    "filename_list = sorted(glob.glob(PRECT_root + 'b.e11.B1850C5CN.f09_g16.005.cam.h1.PRECT.*'))\n",
    "saveas_dir = '/glade/scratch/baird/global-whiplash-files/'\n",
    "\n",
    "for filename in filename_list[1:]:\n",
    "    print()\n",
    "    print(filename)\n",
    "    example_pic_ds = xarray.open_dataset(filename)\n",
    "    pic_prect_da = example_pic_ds['PRECT']\n",
    "#     #pic_prect_da_rolling10sum = pic_prect_da.rolling(time=10, center=True).sum()\n",
    "    pic_prect_da_rolling30sum = pic_prect_da.rolling(time=30, center=True).sum()\n",
    "    saveas_filename = 'rolling_30day_sum_'+filename.split('.')[-8]+'_'+filename.split('.')[-2]+'.nc'\n",
    "    pic_prect_da_rolling30sum.to_netcdf(saveas_dir+saveas_filename, unlimited_dims='time')\n",
    "    print('+++++') \n",
    "    print('saved as',saveas_dir+saveas_filename)\n",
    "    example_pic_ds.close()"
   ]
  },
  {
   "cell_type": "code",
   "execution_count": null,
   "metadata": {},
   "outputs": [],
   "source": []
  },
  {
   "cell_type": "code",
   "execution_count": null,
   "metadata": {},
   "outputs": [],
   "source": []
  },
  {
   "cell_type": "code",
   "execution_count": null,
   "metadata": {},
   "outputs": [],
   "source": []
  },
  {
   "cell_type": "code",
   "execution_count": null,
   "metadata": {},
   "outputs": [],
   "source": []
  },
  {
   "cell_type": "code",
   "execution_count": null,
   "metadata": {},
   "outputs": [],
   "source": []
  },
  {
   "cell_type": "code",
   "execution_count": 29,
   "metadata": {},
   "outputs": [],
   "source": [
    "#prect_rcp = prect_rcp.where(prect_rcp>0.1, drop=True).values\n",
    "prect_pic = prect_pic.where(prect_pic>0.1, other=0.0)"
   ]
  },
  {
   "cell_type": "code",
   "execution_count": null,
   "metadata": {},
   "outputs": [],
   "source": [
    "prect0 = prect_pic.isel(time=0).values"
   ]
  },
  {
   "cell_type": "code",
   "execution_count": 26,
   "metadata": {},
   "outputs": [],
   "source": [
    "prect0[prect0>=0.1]=numpy.nan"
   ]
  },
  {
   "cell_type": "code",
   "execution_count": 28,
   "metadata": {},
   "outputs": [
    {
     "data": {
      "text/plain": [
       "<matplotlib.colorbar.Colorbar at 0x2aaae48b5438>"
      ]
     },
     "execution_count": 28,
     "metadata": {},
     "output_type": "execute_result"
    },
    {
     "data": {
      "image/png": "[encoded data removed]",
      "text/plain": [
       "<Figure size 432x288 with 2 Axes>"
      ]
     },
     "metadata": {
      "needs_background": "light"
     },
     "output_type": "display_data"
    }
   ],
   "source": [
    "mp.pcolormesh(prect0);mp.colorbar()"
   ]
  },
  {
   "cell_type": "raw",
   "metadata": {
    "ExecuteTime": {
     "end_time": "2018-11-14T15:19:22.547366Z",
     "start_time": "2018-11-14T15:05:15.651679Z"
    }
   },
   "source": [
    "prect_pic_data = prect_pic.values"
   ]
  },
  {
   "cell_type": "markdown",
   "metadata": {},
   "source": [
    "set all <0.1 equal to zero (~15 seconds)"
   ]
  },
  {
   "cell_type": "raw",
   "metadata": {
    "ExecuteTime": {
     "end_time": "2018-11-14T15:21:38.849809Z",
     "start_time": "2018-11-14T15:21:07.495072Z"
    }
   },
   "source": [
    "prect_pic_data[prect_pic_data<0.1] = 0"
   ]
  },
  {
   "cell_type": "markdown",
   "metadata": {},
   "source": [
    "take rolling mean (~3 minutes)"
   ]
  },
  {
   "cell_type": "code",
   "execution_count": 16,
   "metadata": {
    "ExecuteTime": {
     "end_time": "2018-11-14T15:25:06.083310Z",
     "start_time": "2018-11-14T15:21:58.729024Z"
    }
   },
   "outputs": [],
   "source": [
    "window_size = 30\n",
    "prect_pic_data_rolling30 = numpy.zeros((prect_pic.shape))\n",
    "for j in range(lat.size):\n",
    "    for k in range(lon.size):\n",
    "        prect_pic_data_rolling30[:,j,k] = pandas.Series(prect_pic_data[:,j,k]).rolling(window=window_size).sum()"
   ]
  },
  {
   "cell_type": "markdown",
   "metadata": {},
   "source": [
    "begin seasonal analysis"
   ]
  },
  {
   "cell_type": "code",
   "execution_count": null,
   "metadata": {
    "ExecuteTime": {
     "end_time": "2018-11-14T15:28:04.836753Z",
     "start_time": "2018-11-14T15:27:16.305792Z"
    }
   },
   "outputs": [],
   "source": [
    "prect_pic_seas_data = prect_pic_data[time_seas_indices,:,:]\n",
    "prect_pic_seas_data_rolling30 = prect_pic_data_rolling30[time_seas_indices,:,:]"
   ]
  },
  {
   "cell_type": "code",
   "execution_count": null,
   "metadata": {
    "ExecuteTime": {
     "end_time": "2018-11-14T15:01:41.608706Z",
     "start_time": "2018-11-14T15:01:41.521288Z"
    }
   },
   "outputs": [],
   "source": [
    "time_datetime_seas = time_datetime[time_seas_indices]\n",
    "nyears = time_datetime_seas[-1].year-time_datetime_seas[0].year+1"
   ]
  },
  {
   "cell_type": "code",
   "execution_count": null,
   "metadata": {},
   "outputs": [],
   "source": []
  },
  {
   "cell_type": "code",
   "execution_count": null,
   "metadata": {
    "ExecuteTime": {
     "end_time": "2018-11-13T19:50:14.658723Z",
     "start_time": "2018-11-13T19:50:14.515057Z"
    }
   },
   "outputs": [],
   "source": [
    "nlat = lat.size\n",
    "nlon = lon.size"
   ]
  },
  {
   "cell_type": "code",
   "execution_count": 11,
   "metadata": {},
   "outputs": [
    {
     "data": {
      "text/plain": [
       "5.033333333333333"
      ]
     },
     "execution_count": 11,
     "metadata": {},
     "output_type": "execute_result"
    }
   ],
   "source": [
    "151/30"
   ]
  },
  {
   "cell_type": "code",
   "execution_count": null,
   "metadata": {},
   "outputs": [],
   "source": []
  },
  {
   "cell_type": "code",
   "execution_count": null,
   "metadata": {},
   "outputs": [],
   "source": []
  },
  {
   "cell_type": "code",
   "execution_count": null,
   "metadata": {},
   "outputs": [],
   "source": []
  },
  {
   "cell_type": "code",
   "execution_count": null,
   "metadata": {},
   "outputs": [],
   "source": []
  },
  {
   "cell_type": "code",
   "execution_count": null,
   "metadata": {},
   "outputs": [],
   "source": []
  },
  {
   "cell_type": "code",
   "execution_count": null,
   "metadata": {
    "ExecuteTime": {
     "end_time": "2018-11-13T19:55:58.329356Z",
     "start_time": "2018-11-13T19:55:51.631211Z"
    }
   },
   "outputs": [],
   "source": [
    "proj_map = cartopy.crs.PlateCarree()\n",
    "\n",
    "fig = mp.figure(figsize=(10,10))\n",
    "\n",
    "ax = fig.add_subplot(111, projection=proj_map)\n",
    "ax.coastlines(resolution='50m')\n",
    "plot = ax.contourf(lon, lat, percentile_values)\n",
    "mp.colorbar(plot)\n",
    "ax.set_global()\n",
    "#ax.set_extent([-130,-100,20,55])\n",
    "#ax.set_extent([-150,-80,10,70])"
   ]
  }
 ],
 "metadata": {
  "kernelspec": {
   "display_name": "Python 3",
   "language": "python",
   "name": "python3"
  },
  "language_info": {
   "codemirror_mode": {
    "name": "ipython",
    "version": 3
   },
   "file_extension": ".py",
   "mimetype": "text/x-python",
   "name": "python",
   "nbconvert_exporter": "python",
   "pygments_lexer": "ipython3",
   "version": "3.6.8"
  }
 },
 "nbformat": 4,
 "nbformat_minor": 2
}
