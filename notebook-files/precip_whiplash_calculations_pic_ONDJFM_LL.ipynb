{
 "cells": [
  {
   "cell_type": "code",
   "execution_count": null,
   "metadata": {
    "ExecuteTime": {
     "end_time": "2018-11-13T03:38:02.798225Z",
     "start_time": "2018-11-13T03:38:01.394512Z"
    }
   },
   "outputs": [],
   "source": [
    "import numpy\n",
    "import xarray\n",
    "import matplotlib.pyplot as mp\n",
    "import glob\n",
    "import pandas\n",
    "import cartopy"
   ]
  },
  {
   "cell_type": "code",
   "execution_count": null,
   "metadata": {
    "ExecuteTime": {
     "end_time": "2018-11-13T03:38:02.812806Z",
     "start_time": "2018-11-13T03:38:02.807254Z"
    }
   },
   "outputs": [],
   "source": [
    "#PRECT_root = '/ninad/NCAR_LENS/PRECT/'\n",
    "PRECT_root = '/DFS-L/DATA/pritchard/blangenb/NCAR_LENS/PRECT/'"
   ]
  },
  {
   "cell_type": "code",
   "execution_count": null,
   "metadata": {
    "ExecuteTime": {
     "end_time": "2018-11-13T03:38:02.875647Z",
     "start_time": "2018-11-13T03:38:02.821259Z"
    }
   },
   "outputs": [],
   "source": [
    "lon_qtr = int(144/4)\n",
    "lat_qtr = int(192/4)\n",
    "lon_half = int(144/2)\n",
    "lat_half = int(192/2)"
   ]
  },
  {
   "cell_type": "markdown",
   "metadata": {},
   "source": [
    "Open pre-industrial control as multi-file dataset"
   ]
  },
  {
   "cell_type": "code",
   "execution_count": null,
   "metadata": {
    "ExecuteTime": {
     "end_time": "2018-11-13T03:41:45.635459Z",
     "start_time": "2018-11-13T03:38:05.080740Z"
    }
   },
   "outputs": [],
   "source": [
    "# prect_pic_mfds = xarray.open_mfdataset(PRECT_root + 'b.e11.B1850C5CN.f09_g16.005.cam.h1.PRECT.*.nc', \\\n",
    "#                                       chunks={'lat':12, 'lon':12}).isel(lat=slice(0,lat_qtr), lon=slice(0,lon_qtr))\n",
    "prect_pic_mfds = xarray.open_mfdataset(PRECT_root + 'b.e11.B1850C5CN.f09_g16.005.cam.h1.PRECT.*.nc', \\\n",
    "                                       chunks={'lat':12, 'lon':12}).isel(lat=slice(0,lat_half), lon=slice(0,lon_half))\n",
    "# prect_pic_mfds = xarray.open_mfdataset(PRECT_root + 'b.e11.B1850C5CN.f09_g16.005.cam.h1.PRECT.*.nc').isel(lat=slice(0,5), lon=slice(0,5))"
   ]
  },
  {
   "cell_type": "code",
   "execution_count": null,
   "metadata": {
    "ExecuteTime": {
     "end_time": "2018-11-13T03:44:12.669939Z",
     "start_time": "2018-11-13T03:44:12.633522Z"
    }
   },
   "outputs": [],
   "source": [
    "prect_pic = prect_pic_mfds['PRECT']*86400.*1000.\n",
    "lon = prect_pic_mfds['lon']\n",
    "lat = prect_pic_mfds['lat']\n",
    "time = prect_pic_mfds['time'].values"
   ]
  },
  {
   "cell_type": "markdown",
   "metadata": {},
   "source": [
    "for checking memory usage"
   ]
  },
  {
   "cell_type": "raw",
   "metadata": {},
   "source": [
    "import sys\n",
    "\n",
    "# These are the usual ipython objects, including this one you are creating\n",
    "ipython_vars = ['In', 'Out', 'exit', 'quit', 'get_ipython', 'ipython_vars']\n",
    "\n",
    "# Get a sorted list of the objects and their sizes\n",
    "sorted([(x, sys.getsizeof(globals().get(x))) for x in dir() if not x.startswith('_') and x not in sys.modules and x not in ipython_vars], key=lambda x: x[1], reverse=True)"
   ]
  },
  {
   "cell_type": "markdown",
   "metadata": {},
   "source": [
    "get dates corresponding to ONDJFM"
   ]
  },
  {
   "cell_type": "code",
   "execution_count": null,
   "metadata": {
    "ExecuteTime": {
     "end_time": "2018-11-13T03:44:18.857319Z",
     "start_time": "2018-11-13T03:44:18.605879Z"
    }
   },
   "outputs": [],
   "source": [
    "time_datetime = numpy.copy(time) #pandas.to_datetime(time)\n",
    "time_ondjfm_indices = [d.month in [10,11,12,1,2,3] for d in time_datetime]"
   ]
  },
  {
   "cell_type": "code",
   "execution_count": null,
   "metadata": {
    "ExecuteTime": {
     "end_time": "2018-11-13T03:44:21.538206Z",
     "start_time": "2018-11-13T03:44:21.460315Z"
    }
   },
   "outputs": [],
   "source": [
    "prect_pic_seas = prect_pic.isel(time=time_ondjfm_indices)"
   ]
  },
  {
   "cell_type": "code",
   "execution_count": null,
   "metadata": {
    "ExecuteTime": {
     "end_time": "2018-11-13T03:44:23.351647Z",
     "start_time": "2018-11-13T03:44:23.327122Z"
    }
   },
   "outputs": [],
   "source": [
    "prect_pic_seas"
   ]
  },
  {
   "cell_type": "code",
   "execution_count": null,
   "metadata": {
    "ExecuteTime": {
     "end_time": "2018-11-13T19:20:54.590729Z",
     "start_time": "2018-11-13T03:44:25.141019Z"
    }
   },
   "outputs": [],
   "source": [
    "prect_pic_seas_data = prect_pic_seas.values"
   ]
  },
  {
   "cell_type": "code",
   "execution_count": null,
   "metadata": {
    "ExecuteTime": {
     "end_time": "2018-11-13T19:20:54.623326Z",
     "start_time": "2018-11-13T19:20:54.614547Z"
    }
   },
   "outputs": [],
   "source": [
    "prect_pic_seas_data.shape"
   ]
  },
  {
   "cell_type": "markdown",
   "metadata": {},
   "source": [
    "set all values less than 0.1 to NaN"
   ]
  },
  {
   "cell_type": "code",
   "execution_count": null,
   "metadata": {},
   "outputs": [],
   "source": [
    "prect_rcp_seas"
   ]
  },
  {
   "cell_type": "code",
   "execution_count": null,
   "metadata": {},
   "outputs": [],
   "source": [
    "%time\n",
    "#prect_rcp = prect_rcp.where(prect_rcp<0.1, drop=True).values\n",
    "prect_pic_seas_filtered = prect_pic_seas.where(prect_pic_seas>0.1, drop=True)#.values\n",
    "#prect_rcp = prect_rcp.values\n",
    "#prect_rcp[prect_rcp<0.1]=numpy.nan"
   ]
  },
  {
   "cell_type": "code",
   "execution_count": null,
   "metadata": {},
   "outputs": [],
   "source": []
  },
  {
   "cell_type": "code",
   "execution_count": null,
   "metadata": {},
   "outputs": [],
   "source": []
  },
  {
   "cell_type": "code",
   "execution_count": null,
   "metadata": {},
   "outputs": [],
   "source": []
  },
  {
   "cell_type": "code",
   "execution_count": null,
   "metadata": {},
   "outputs": [],
   "source": []
  },
  {
   "cell_type": "code",
   "execution_count": null,
   "metadata": {},
   "outputs": [],
   "source": [
    "prect_pic_timemean = numpy.nanmean(prect_rcp, axis=0)\n",
    "prect_ondjfm_timemean = numpy.nanmean(prect_rcp[time_ondjfm_indices,:,:], axis=0)"
   ]
  },
  {
   "cell_type": "code",
   "execution_count": null,
   "metadata": {},
   "outputs": [],
   "source": [
    "prect_djf = prect_rcp[time_ondjfm_indices,:,:]"
   ]
  },
  {
   "cell_type": "code",
   "execution_count": null,
   "metadata": {},
   "outputs": [],
   "source": [
    "prect_djf.shape"
   ]
  },
  {
   "cell_type": "code",
   "execution_count": null,
   "metadata": {},
   "outputs": [],
   "source": [
    "proj_map = cartopy.crs.PlateCarree()\n",
    "\n",
    "fig = mp.figure(figsize=(10,10))\n",
    "\n",
    "ax = fig.add_subplot(111, projection=proj_map)\n",
    "ax.coastlines(resolution='50m')\n",
    "plot = ax.contourf(prect_pic_mfds['lon'].values, prect_pic_mfds['lat'].values, prect_pic_timemean)\n",
    "mp.colorbar(plot)\n",
    "#ax.set_extent([-130,-100,20,55])\n",
    "ax.set_extent([-150,-80,10,70])"
   ]
  },
  {
   "cell_type": "code",
   "execution_count": null,
   "metadata": {},
   "outputs": [],
   "source": [
    "ndays,nlat,nlon = prect_rcp.shape"
   ]
  },
  {
   "cell_type": "markdown",
   "metadata": {},
   "source": [
    "* do 100 year precipitation days"
   ]
  },
  {
   "cell_type": "code",
   "execution_count": null,
   "metadata": {},
   "outputs": [],
   "source": [
    "prect_djf.shape"
   ]
  },
  {
   "cell_type": "code",
   "execution_count": null,
   "metadata": {},
   "outputs": [],
   "source": [
    "time_datetime_djf = time_datetime[time_ondjfm_indices]"
   ]
  },
  {
   "cell_type": "code",
   "execution_count": null,
   "metadata": {},
   "outputs": [],
   "source": [
    "nyears = time_datetime_djf[-1].year-time_datetime_djf[0].year+1"
   ]
  },
  {
   "cell_type": "code",
   "execution_count": null,
   "metadata": {},
   "outputs": [],
   "source": [
    "# to get a 100-year event, you want to figure out how many years are involved\n",
    "# a 100-year event would happen 18 times in nyears"
   ]
  },
  {
   "cell_type": "code",
   "execution_count": null,
   "metadata": {},
   "outputs": [],
   "source": [
    "return_period = 200 # in years\n",
    "#events_per_year = 151/40\n",
    "events_per_year = 151\n",
    "\n",
    "#return_period = 100\n",
    "#events_per_year = 1\n",
    "\n",
    "return_val_perc = 100*(1-1/(return_period*events_per_year))\n",
    "print(return_val_perc)"
   ]
  },
  {
   "cell_type": "code",
   "execution_count": null,
   "metadata": {},
   "outputs": [],
   "source": [
    "percentile_values = numpy.zeros((nlat,nlon))\n",
    "for j in range(nlat):\n",
    "    for k in range(nlon):\n",
    "        # get rid of nans\n",
    "        tmp_distro = prect_djf[:,j,k]\n",
    "        #prect_djf[:,j,k][~numpy.isnan(prect_djf[:,j,k])]\n",
    "        percentile_values[j,k] = numpy.nanpercentile(tmp_distro, return_val_perc)"
   ]
  },
  {
   "cell_type": "code",
   "execution_count": null,
   "metadata": {},
   "outputs": [],
   "source": [
    "proj_map = cartopy.crs.PlateCarree()\n",
    "\n",
    "fig = mp.figure(figsize=(10,10))\n",
    "\n",
    "levels = numpy.arange(0,201,20)\n",
    "ax = fig.add_subplot(111, projection=proj_map)\n",
    "ax.coastlines(resolution='50m')\n",
    "plot = ax.contourf(prect_pic_mfds['lon'].values, prect_pic_mfds['lat'].values, percentile_values, levels=levels)\n",
    "mp.colorbar(plot)\n",
    "#ax.set_extent([-130,-100,20,55])\n",
    "ax.set_extent([-130,-100,30,55])"
   ]
  },
  {
   "cell_type": "code",
   "execution_count": null,
   "metadata": {},
   "outputs": [],
   "source": []
  }
 ],
 "metadata": {
  "kernelspec": {
   "display_name": "Python 3",
   "language": "python",
   "name": "python3"
  },
  "language_info": {
   "codemirror_mode": {
    "name": "ipython",
    "version": 3
   },
   "file_extension": ".py",
   "mimetype": "text/x-python",
   "name": "python",
   "nbconvert_exporter": "python",
   "pygments_lexer": "ipython3",
   "version": "3.6.5"
  }
 },
 "nbformat": 4,
 "nbformat_minor": 2
}
