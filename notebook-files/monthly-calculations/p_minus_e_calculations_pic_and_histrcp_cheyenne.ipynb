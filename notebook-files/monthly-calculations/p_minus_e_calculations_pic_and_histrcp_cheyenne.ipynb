{
 "cells": [
  {
   "cell_type": "code",
   "execution_count": 1,
   "metadata": {
    "ExecuteTime": {
     "end_time": "2018-11-19T16:31:10.458939Z",
     "start_time": "2018-11-19T16:31:10.448177Z"
    }
   },
   "outputs": [],
   "source": [
    "import numpy\n",
    "import xarray\n",
    "import glob\n",
    "import pandas\n",
    "import cartopy\n",
    "import itertools\n",
    "import matplotlib\n",
    "import cmocean\n",
    "import netCDF4\n",
    "import datetime\n",
    "import cftime\n",
    "\n",
    "import matplotlib.pyplot as mp\n",
    "\n",
    "mp.rcParams.update({'mathtext.default': 'regular'})\n",
    "%matplotlib inline"
   ]
  },
  {
   "cell_type": "code",
   "execution_count": 4,
   "metadata": {
    "ExecuteTime": {
     "end_time": "2018-11-19T16:25:37.612835Z",
     "start_time": "2018-11-19T16:25:36.825778Z"
    }
   },
   "outputs": [],
   "source": [
    "PRECC_orig = '/glade/p_old/cesmLE/CESM-CAM5-BGC-LE/atm/proc/tseries/monthly/PRECC/b.e11.B1850C5CN.f09_g16.005.cam.h0.PRECC.040001-049912.nc'\n",
    "PRECC_orig_ds = xarray.open_dataset(PRECC_orig)\n",
    "lat_full = PRECC_orig_ds['lat'].values\n",
    "lon_full = PRECC_orig_ds['lon'].values"
   ]
  },
  {
   "cell_type": "code",
   "execution_count": 5,
   "metadata": {
    "ExecuteTime": {
     "end_time": "2018-11-19T16:25:37.617207Z",
     "start_time": "2018-11-19T16:25:37.614961Z"
    }
   },
   "outputs": [],
   "source": [
    "PRECC_root = '/glade/p_old/cesmLE/CESM-CAM5-BGC-LE/atm/proc/tseries/monthly/PRECC/'\n",
    "PRECL_root = '/glade/p_old/cesmLE/CESM-CAM5-BGC-LE/atm/proc/tseries/monthly/PRECL/'\n",
    "\n",
    "QSOIL_root = '/glade/p_old/cesmLE/CESM-CAM5-BGC-LE/lnd/proc/tseries/monthly/QSOIL/'\n",
    "QVEGE_root = '/glade/p_old/cesmLE/CESM-CAM5-BGC-LE/lnd/proc/tseries/monthly/QVEGE/'\n",
    "QVEGT_root = '/glade/p_old/cesmLE/CESM-CAM5-BGC-LE/lnd/proc/tseries/monthly/QVEGT/'\n",
    "\n",
    "LHFLX_root = '/glade/p_old/cesmLE/CESM-CAM5-BGC-LE/atm/proc/tseries/monthly/LHFLX/'"
   ]
  },
  {
   "cell_type": "code",
   "execution_count": 8,
   "metadata": {},
   "outputs": [],
   "source": [
    "pic_file_list_PRECC = numpy.array(sorted(glob.glob(PRECC_root+'/b.e11.B1850C5CN.f09_g16.*.nc')))\n",
    "pic_file_list_PRECL = numpy.array(sorted(glob.glob(PRECL_root+'/b.e11.B1850C5CN.f09_g16.*.nc')))\n",
    "\n",
    "pic_file_list_QSOIL = numpy.array(sorted(glob.glob(QSOIL_root+'/b.e11.B1850C5CN.f09_g16.*.nc')))\n",
    "pic_file_list_QVEGE = numpy.array(sorted(glob.glob(QVEGE_root+'/b.e11.B1850C5CN.f09_g16.*.nc')))\n",
    "pic_file_list_QVEGT = numpy.array(sorted(glob.glob(QVEGT_root+'/b.e11.B1850C5CN.f09_g16.*.nc')))\n",
    "pic_file_list_LHFLX = numpy.array(sorted(glob.glob(LHFLX_root+'/b.e11.B1850C5CN.f09_g16.*.nc')))"
   ]
  },
  {
   "cell_type": "code",
   "execution_count": 9,
   "metadata": {
    "ExecuteTime": {
     "end_time": "2018-11-19T16:25:37.691081Z",
     "start_time": "2018-11-19T16:25:37.618962Z"
    }
   },
   "outputs": [],
   "source": [
    "rcp_file_list_PRECC = numpy.array(sorted(glob.glob(PRECC_root+'/b.e11.BRCP85C5CNBDRD.f09_g16.*.nc')))\n",
    "rcp_file_list_PRECL = numpy.array(sorted(glob.glob(PRECL_root+'/b.e11.BRCP85C5CNBDRD.f09_g16.*.nc')))\n",
    "\n",
    "rcp_file_list_QSOIL = numpy.array(sorted(glob.glob(QSOIL_root+'/b.e11.BRCP85C5CNBDRD.f09_g16.*.nc')))\n",
    "rcp_file_list_QVEGE = numpy.array(sorted(glob.glob(QVEGE_root+'/b.e11.BRCP85C5CNBDRD.f09_g16.*.nc')))\n",
    "rcp_file_list_QVEGT = numpy.array(sorted(glob.glob(QVEGT_root+'/b.e11.BRCP85C5CNBDRD.f09_g16.*.nc')))\n",
    "rcp_file_list_LHFLX = numpy.array(sorted(glob.glob(LHFLX_root+'/b.e11.BRCP85C5CNBDRD.f09_g16.*.nc')))"
   ]
  },
  {
   "cell_type": "markdown",
   "metadata": {},
   "source": [
    "# open pic files"
   ]
  },
  {
   "cell_type": "code",
   "execution_count": 42,
   "metadata": {},
   "outputs": [],
   "source": [
    "PRECC_pic_mfds = xarray.open_mfdataset(pic_file_list_PRECC, decode_times=False)\n",
    "PRECL_pic_mfds = xarray.open_mfdataset(pic_file_list_PRECL, decode_times=False)\n",
    "\n",
    "QSOIL_pic_mfds = xarray.open_mfdataset(pic_file_list_QSOIL, decode_times=False)\n",
    "QVEGE_pic_mfds = xarray.open_mfdataset(pic_file_list_QVEGE, decode_times=False)\n",
    "QVEGT_pic_mfds = xarray.open_mfdataset(pic_file_list_QVEGT, decode_times=False)\n",
    "#LHFLX_pic_mfds = xarray.open_mfdataset(pic_file_list_LHFLX, decode_times=False) # need to divide by 2.256e6 kJ/kg"
   ]
  },
  {
   "cell_type": "code",
   "execution_count": null,
   "metadata": {},
   "outputs": [],
   "source": [
    "QTOT_pic_mfds = QSOIL_pic_mfds['QSOIL']+QVEGE_pic_mfds['QVEGE']+QVEGT_pic_mfds['QVEGT']\n",
    "QTOT_pic = QTOT_pic_mfds.values*86400."
   ]
  },
  {
   "cell_type": "code",
   "execution_count": null,
   "metadata": {},
   "outputs": [],
   "source": [
    "PRECT_pic = (PRECC_pic_mfds['PRECC']+PRECL_pic_mfds['PRECL']).values*86400.*1000."
   ]
  },
  {
   "cell_type": "code",
   "execution_count": null,
   "metadata": {},
   "outputs": [],
   "source": [
    "pic_time_datetime = numpy.array([cftime.DatetimeNoLeap(year,month,1) \\\n",
    "                                 for year,month in itertools.product(range(400,2201), range(1, 13))])"
   ]
  },
  {
   "cell_type": "markdown",
   "metadata": {},
   "source": [
    "# open hist/rcp files"
   ]
  },
  {
   "cell_type": "code",
   "execution_count": null,
   "metadata": {},
   "outputs": [],
   "source": [
    "# define member strings for hist/rcp\n",
    "multifile_members = ['{:03d}'.format(i) for i in range(1,34)]\n",
    "all_members = ['{:03d}'.format(i) for i in range(1,36)] + ['{:03d}'.format(i) for i in range(101,106)]"
   ]
  },
  {
   "cell_type": "code",
   "execution_count": null,
   "metadata": {},
   "outputs": [],
   "source": [
    "rcp_time_datetime = numpy.array([cftime.DatetimeNoLeap(year,month,1) \\\n",
    "                                 for year,month in itertools.product(range(2006,2101), range(1,13))])"
   ]
  },
  {
   "cell_type": "code",
   "execution_count": null,
   "metadata": {},
   "outputs": [],
   "source": [
    "rcp_start = cftime.DatetimeNoLeap(2070,1,1)\n",
    "rcp_end = cftime.DatetimeNoLeap(2099,12,31)\n",
    "rcp_time_indices = list(numpy.where((rcp_time_datetime>=rcp_start)&(rcp_time_datetime<=rcp_end))[0])"
   ]
  },
  {
   "cell_type": "code",
   "execution_count": null,
   "metadata": {},
   "outputs": [],
   "source": [
    "rcp_nyears = 30\n",
    "rcp_year_array = numpy.arange(rcp_start.year, rcp_end.year+1, dtype=numpy.int)\n",
    "rcp_time_datetime_subset = rcp_time_datetime[rcp_time_indices]"
   ]
  },
  {
   "cell_type": "code",
   "execution_count": null,
   "metadata": {},
   "outputs": [],
   "source": [
    "PRECT_all_rcp_data = numpy.zeros((all_members.__len__(), rcp_nyears*12, lat_full.size, lon_full.size))"
   ]
  },
  {
   "cell_type": "code",
   "execution_count": null,
   "metadata": {},
   "outputs": [],
   "source": [
    "# do all this for the first lon box to get the time and lat/lon information\n",
    "for member_idx in range(40):\n",
    "    \n",
    "    which_member = all_members[member_idx]\n",
    "    #print(which_member)\n",
    "\n",
    "    PRECC_file_indices = [file.split('/')[-1].split('.')[4]==which_member for file in rcp_file_list_PRECC]\n",
    "    PRECL_file_indices = [file.split('/')[-1].split('.')[4]==which_member for file in rcp_file_list_PRECL]\n",
    "\n",
    "    PRECC_member_file_list = rcp_file_list_PRECC[PRECC_file_indices]\n",
    "    PRECL_member_file_list = rcp_file_list_PRECL[PRECL_file_indices]\n",
    "\n",
    "    if PRECC_member_file_list.__len__()!=PRECL_member_file_list.__len__():\n",
    "        print('weird not same length')\n",
    "    elif PRECC_member_file_list.__len__()>1:\n",
    "        PRECC_rcp_ds = xarray.open_mfdataset(PRECC_member_file_list)\n",
    "        PRECL_rcp_ds = xarray.open_mfdataset(PRECL_member_file_list)\n",
    "    else:\n",
    "        PRECC_rcp_ds = xarray.open_dataset(PRECC_member_file_list[0])\n",
    "        PRECL_rcp_ds = xarray.open_dataset(PRECL_member_file_list[0])\n",
    "\n",
    "    # prect_rcp = prect_rcp_ds['PRECT']*86400.*1000.\n",
    "\n",
    "    PRECT_rcp_ds = (PRECC_rcp_ds['PRECC']+PRECL_rcp_ds['PRECL']).isel(time=rcp_time_indices)\n",
    "    PRECT_all_rcp_data[member_idx,:,:,:] = PRECT_rcp_ds.values*86400.*1000."
   ]
  },
  {
   "cell_type": "markdown",
   "metadata": {},
   "source": [
    "# doing seasonal means for pic"
   ]
  },
  {
   "cell_type": "code",
   "execution_count": null,
   "metadata": {},
   "outputs": [],
   "source": [
    "window_length=6 # ONDJFM, AMJJAS"
   ]
  },
  {
   "cell_type": "code",
   "execution_count": null,
   "metadata": {},
   "outputs": [],
   "source": [
    "# calculate rolling mean\n",
    "# pick off the window that matters\n",
    "# take seasonal means of data set\n",
    "pic_nyears = pic_time_datetime[-1].year - pic_time_datetime[0].year\n",
    "pic_year_start = pic_time_datetime[0].year\n",
    "pic_year_end = pic_time_datetime[-1].year\n",
    "pic_year_array = numpy.arange(pic_year_start, pic_year_start+pic_nyears, dtype=numpy.int)\n",
    "\n",
    "PRECT_pic_rolling_means = numpy.zeros((PRECT_pic.shape))\n",
    "for j in range(lat_full.size):\n",
    "    if j%50==0:\n",
    "        print(j)\n",
    "    for k in range(lon_full.size):\n",
    "        PRECT_pic_rolling_means[:,j,k] = pandas.Series(PRECT_pic[:,j,k]).rolling(window=window_length, min_periods=1).mean()\n",
    "\n",
    "#"
   ]
  },
  {
   "cell_type": "markdown",
   "metadata": {},
   "source": [
    "# take moving window means of hist"
   ]
  },
  {
   "cell_type": "code",
   "execution_count": null,
   "metadata": {},
   "outputs": [],
   "source": [
    "PRECT_rcp_rolling_means = numpy.zeros((PRECT_all_rcp_data.shape))\n",
    "for member_idx in range(40):\n",
    "    print(member_idx)\n",
    "    for j in range(lat_full.size):\n",
    "        for k in range(lon_full.size):\n",
    "            PRECT_rcp_rolling_means[member_idx,:,j,k] = pandas.Series(PRECT_all_rcp_data[member_idx,:,j,k]).rolling(window=window_length, min_periods=1).mean()"
   ]
  },
  {
   "cell_type": "code",
   "execution_count": null,
   "metadata": {},
   "outputs": [],
   "source": [
    "SEAS_list = [10,11,12,1,2,3]; SEAS_name = 'ONDJFM'; window_length=6\n",
    "#SEAS_list = [4,5,6,7,8,9]; SEAS_name = 'AMJJAS'; split=False\n",
    "#SEAS_list = [12,1,2]; SEAS_name = 'DJF'; window_length=3"
   ]
  },
  {
   "cell_type": "markdown",
   "metadata": {},
   "source": [
    "# pull out pic seasons"
   ]
  },
  {
   "cell_type": "code",
   "execution_count": null,
   "metadata": {},
   "outputs": [],
   "source": [
    "pic_seas_endmonth_indices = [(d.month==SEAS_list[-1]) for d in pic_time_datetime]\n",
    "PRECT_pic_seas_means = PRECT_pic_rolling_means[pic_seas_endmonth_indices,:,:][1:-1,:,:]"
   ]
  },
  {
   "cell_type": "raw",
   "metadata": {},
   "source": [
    "# take seasonal means of data set\n",
    "pic_nyears = pic_time_datetime[-1].year - pic_time_datetime[0].year\n",
    "pic_year_start = pic_time_datetime[0].year\n",
    "pic_year_end = pic_time_datetime[-1].year\n",
    "pic_year_array = numpy.arange(pic_year_start, pic_year_start+pic_nyears, dtype=numpy.int)\n",
    "\n",
    "PRECT_pic_seas_means = numpy.zeros((pic_nyears, PRECT_pic.shape[1], PRECT_pic.shape[2]))\n",
    "for y,current_year in enumerate(pic_year_array):\n",
    "    if y%100==0:\n",
    "        print(current_year)\n",
    "    year_seas_indices = [(d.month in SEAS_list) and (d.year==current_year) for d in pic_time_datetime]\n",
    "    PRECT_pic_seas_means[y,:,:] = numpy.mean(PRECT_pic[year_seas_indices,:,:], axis=0)"
   ]
  },
  {
   "cell_type": "markdown",
   "metadata": {},
   "source": [
    "# calculating return periods of seasonal means"
   ]
  },
  {
   "cell_type": "code",
   "execution_count": null,
   "metadata": {},
   "outputs": [],
   "source": [
    "return_period = 100 # in years"
   ]
  },
  {
   "cell_type": "code",
   "execution_count": null,
   "metadata": {},
   "outputs": [],
   "source": [
    "events_per_year = 1\n",
    "return_val_perc = 100*(1-1/(return_period*events_per_year))\n",
    "print(return_val_perc)\n",
    "\n",
    "pic_hi_percentile_values = numpy.zeros((lat_full.size,lon_full.size))\n",
    "for j in range(lat_full.size):\n",
    "    for k in range(lon_full.size):\n",
    "        tmp_distro = PRECT_pic_seas_means[:,j,k]\n",
    "        pic_hi_percentile_values[j,k] = numpy.percentile(tmp_distro, return_val_perc)"
   ]
  },
  {
   "cell_type": "code",
   "execution_count": null,
   "metadata": {},
   "outputs": [],
   "source": [
    "events_per_year = 1\n",
    "return_val_perc = 100*(1/(return_period*events_per_year))\n",
    "print(return_val_perc)\n",
    "\n",
    "pic_lo_percentile_values = numpy.zeros((lat_full.size,lon_full.size))\n",
    "for j in range(lat_full.size):\n",
    "    for k in range(lon_full.size):\n",
    "        tmp_distro = PRECT_pic_seas_means[:,j,k]\n",
    "        pic_lo_percentile_values[j,k] = numpy.percentile(tmp_distro, return_val_perc)"
   ]
  },
  {
   "cell_type": "markdown",
   "metadata": {},
   "source": [
    "# plot return period values of pic"
   ]
  },
  {
   "cell_type": "code",
   "execution_count": null,
   "metadata": {},
   "outputs": [],
   "source": [
    "fontsize=12\n",
    "\n",
    "map_proj = cartopy.crs.PlateCarree(central_longitude=180)\n",
    "data_proj = cartopy.crs.PlateCarree(central_longitude=0)\n",
    "\n",
    "fig = mp.figure(figsize=(8.5,5))\n",
    "ax = fig.add_subplot(111, projection=map_proj)\n",
    "ax.coastlines()\n",
    "\n",
    "ax.text(s='PIC 100-year '+SEAS_name+' return value', x=0.5, y=1.02, ha='center', va='bottom', fontsize=fontsize, \\\n",
    "       transform=ax.transAxes)\n",
    "\n",
    "clevels = numpy.arange(0,21,2.5)\n",
    "plot = ax.contourf(lon_full, lat_full, pic_hi_percentile_values, \\\n",
    "                   levels=clevels, \\\n",
    "                   transform=data_proj, \\\n",
    "                   cmap='magma_r', extend='max')\n",
    "\n",
    "fig.tight_layout()\n",
    "\n",
    "axpos = ax.get_position()\n",
    "cbar_ax = fig.add_axes([axpos.x0, axpos.y0-.1, axpos.width, 0.05])\n",
    "cbar_ax.tick_params(labelsize=fontsize)\n",
    "\n",
    "cbar = fig.colorbar(plot, orientation='horizontal',cax=cbar_ax)\n",
    "cbar.set_label('mm day$^{\\,-1}$', fontsize=fontsize)"
   ]
  },
  {
   "cell_type": "code",
   "execution_count": null,
   "metadata": {},
   "outputs": [],
   "source": [
    "fontsize=12\n",
    "\n",
    "map_proj = cartopy.crs.PlateCarree(central_longitude=180)\n",
    "data_proj = cartopy.crs.PlateCarree(central_longitude=0)\n",
    "\n",
    "fig = mp.figure(figsize=(8.5,5))\n",
    "ax = fig.add_subplot(111, projection=map_proj)\n",
    "ax.coastlines()\n",
    "\n",
    "ax.text(s='PIC 100-year '+SEAS_name+' return value', x=0.5, y=1.02, ha='center', va='bottom', fontsize=fontsize, \\\n",
    "       transform=ax.transAxes)\n",
    "\n",
    "clevels = numpy.arange(0,21,2.5)\n",
    "plot = ax.contourf(lon_full, lat_full, pic_lo_percentile_values, \\\n",
    "                   levels=clevels, \\\n",
    "                   transform=data_proj, \\\n",
    "                   cmap='magma_r', extend='max')\n",
    "\n",
    "fig.tight_layout()\n",
    "\n",
    "axpos = ax.get_position()\n",
    "cbar_ax = fig.add_axes([axpos.x0, axpos.y0-.1, axpos.width, 0.05])\n",
    "cbar_ax.tick_params(labelsize=fontsize)\n",
    "\n",
    "cbar = fig.colorbar(plot, orientation='horizontal',cax=cbar_ax)\n",
    "cbar.set_label('mm day$^{\\,-1}$', fontsize=fontsize)"
   ]
  },
  {
   "cell_type": "markdown",
   "metadata": {},
   "source": [
    "# pull out rcp seasons"
   ]
  },
  {
   "cell_type": "code",
   "execution_count": null,
   "metadata": {},
   "outputs": [],
   "source": [
    "rcp_seas_endmonth_indices = [(d.month==SEAS_list[-1]) for d in rcp_time_datetime_subset]\n",
    "PRECT_rcp_seas_means = numpy.zeros((all_members.__len__(), sum(rcp_seas_endmonth_indices), lat_full.size, lon_full.size))\n",
    "\n",
    "for member_idx in range(40):\n",
    "    PRECT_rcp_seas_means[member_idx,:,:,:] = PRECT_rcp_rolling_means[member_idx,rcp_seas_endmonth_indices,:,:]\n",
    "PRECT_rcp_seas_means = PRECT_rcp_seas_means[:,1:-1,:,:]"
   ]
  },
  {
   "cell_type": "raw",
   "metadata": {},
   "source": [
    "PRECT_rcp_seas_means = numpy.zeros((all_members.__len__(), rcp_nyears, lat_full.size, lon_full.size))\n",
    "\n",
    "for member_idx in range(40):\n",
    "    for y,current_year in enumerate(rcp_year_array):\n",
    "        year_seas_indices = [(d.month in SEAS_list) and (d.year==current_year) for d in rcp_time_datetime_subset]\n",
    "        PRECT_rcp_seas_means[member_idx,y,:,:] = numpy.mean(PRECT_all_rcp_data[member_idx,year_seas_indices,:,:], axis=0)"
   ]
  },
  {
   "cell_type": "markdown",
   "metadata": {},
   "source": [
    "# count exceedances using pic calculation"
   ]
  },
  {
   "cell_type": "code",
   "execution_count": null,
   "metadata": {},
   "outputs": [],
   "source": [
    "PRECT_rcp_exceedance_counts = numpy.zeros((lat_full.size, lon_full.size))\n",
    "\n",
    "for j in range(lat_full.size):\n",
    "    for k in range(lon_full.size):\n",
    "        PRECT_rcp_exceedance_counts[j,k] = numpy.sum(PRECT_rcp_seas_means[:,:,j,k]>pic_hi_percentile_values[j,k])"
   ]
  },
  {
   "cell_type": "code",
   "execution_count": null,
   "metadata": {},
   "outputs": [],
   "source": [
    "PRECT_rcp_deceedance_counts = numpy.zeros((lat_full.size, lon_full.size))\n",
    "\n",
    "for j in range(lat_full.size):\n",
    "    for k in range(lon_full.size):\n",
    "        PRECT_rcp_deceedance_counts[j,k] = numpy.sum(PRECT_rcp_seas_means[:,:,j,k]<pic_lo_percentile_values[j,k])"
   ]
  },
  {
   "cell_type": "code",
   "execution_count": null,
   "metadata": {},
   "outputs": [],
   "source": [
    "rcp_nyears_seas_means = PRECT_rcp_seas_means.shape[1]\n",
    "pic_nyears_seas_means = PRECT_pic_seas_means.shape[0]"
   ]
  },
  {
   "cell_type": "code",
   "execution_count": null,
   "metadata": {},
   "outputs": [],
   "source": [
    "rcp_nyears_seas_means"
   ]
  },
  {
   "cell_type": "code",
   "execution_count": null,
   "metadata": {},
   "outputs": [],
   "source": [
    "pic_nyears_seas_means"
   ]
  },
  {
   "cell_type": "code",
   "execution_count": null,
   "metadata": {},
   "outputs": [],
   "source": [
    "PRECT_rcp_normalized_exceedances = PRECT_rcp_exceedance_counts/(rcp_nyears_seas_means*40)/((pic_nyears_seas_means/return_period)/pic_nyears_seas_means)\n",
    "PRECT_rcp_normalized_deceedances = PRECT_rcp_deceedance_counts/(rcp_nyears_seas_means*40)/((pic_nyears_seas_means/return_period)/pic_nyears_seas_means)\n"
   ]
  },
  {
   "cell_type": "code",
   "execution_count": null,
   "metadata": {},
   "outputs": [],
   "source": [
    "# make color map\n",
    "minval=0.0 \n",
    "maxval=0.95\n",
    "n=256\n",
    "full_cmap = cmocean.cm.balance_r\n",
    "full_cmap_r = cmocean.cm.balance\n",
    "cmap_partial = matplotlib.colors.LinearSegmentedColormap.from_list('trunc({n},{a:.2f},{b:.2f})'.format(n=full_cmap.name, a=minval, b=maxval), full_cmap(numpy.linspace(minval, maxval, n)))\n",
    "cmap_partial_r = matplotlib.colors.LinearSegmentedColormap.from_list('trunc({n},{a:.2f},{b:.2f})'.format(n=full_cmap_r.name, a=minval, b=maxval), full_cmap_r(numpy.linspace(minval, maxval, n)))"
   ]
  },
  {
   "cell_type": "code",
   "execution_count": null,
   "metadata": {},
   "outputs": [],
   "source": [
    "#clevels = numpy.hstack((numpy.arange(0,1.1,0.1), numpy.arange(5,50.1,5)))\n",
    "clevels = numpy.hstack((numpy.arange(0,1.1,0.1), numpy.array([2,3,4,5,10,15,20,30,50,100])))\n",
    "bounds = clevels\n",
    "norm = matplotlib.colors.BoundaryNorm(boundaries=bounds, ncolors=256)"
   ]
  },
  {
   "cell_type": "code",
   "execution_count": null,
   "metadata": {},
   "outputs": [],
   "source": [
    "clevels"
   ]
  },
  {
   "cell_type": "code",
   "execution_count": null,
   "metadata": {},
   "outputs": [],
   "source": [
    "fontsize=12\n",
    "\n",
    "map_proj = cartopy.crs.PlateCarree(central_longitude=0)\n",
    "data_proj = cartopy.crs.PlateCarree(central_longitude=0)\n",
    "\n",
    "fig = mp.figure(figsize=(8.5,5))\n",
    "ax = fig.add_subplot(111, projection=map_proj)\n",
    "ax.coastlines(color='0.9')\n",
    "\n",
    "ax.text(s='2070-2100 100-year '+SEAS_name+'\\nreturn value frequency change', \\\n",
    "        x=0.5, y=1.02, ha='center', va='bottom', fontsize=fontsize, \\\n",
    "        transform=ax.transAxes)\n",
    "\n",
    "plot = ax.contourf(lon_full, lat_full, PRECT_rcp_normalized_exceedances, \\\n",
    "                   levels=clevels, \\\n",
    "                   transform=data_proj, extend='max', \\\n",
    "                   cmap=cmap_partial, norm=norm)\n",
    "\n",
    "#plot = ax.pcolormesh(lon_full, lat_full, PRECT_rcp_normalized_exceedances, vmin=0, vmax=2, cmap='RdBu', transform=data_proj)\n",
    "\n",
    "plot_one = ax.contour(lon_full, lat_full, PRECT_rcp_normalized_exceedances, \\\n",
    "                      levels=[1.0], linewidths=[3], colors=['0.1'], transform=data_proj)\n",
    "\n",
    "fig.tight_layout()\n",
    "\n",
    "axpos = ax.get_position()\n",
    "cbar_ax = fig.add_axes([axpos.x0, axpos.y0-.1, axpos.width, 0.05])\n",
    "cbar_ax.tick_params(labelsize=fontsize)\n",
    "\n",
    "cbar = fig.colorbar(plot, orientation='horizontal',cax=cbar_ax)\n",
    "cbar.set_ticks([0,1,2,3,4,5,10,15,20,30,50,100])\n",
    "cbar.set_label('change in likelihood', fontsize=fontsize)"
   ]
  },
  {
   "cell_type": "code",
   "execution_count": null,
   "metadata": {},
   "outputs": [],
   "source": [
    "fontsize=12\n",
    "\n",
    "map_proj = cartopy.crs.PlateCarree(central_longitude=0)\n",
    "data_proj = cartopy.crs.PlateCarree(central_longitude=0)\n",
    "\n",
    "fig = mp.figure(figsize=(8.5,5))\n",
    "ax = fig.add_subplot(111, projection=map_proj)\n",
    "ax.coastlines(color='0.9')\n",
    "\n",
    "ax.text(s='2070-2100 100-year '+SEAS_name+'\\nreturn value frequency change', \\\n",
    "        x=0.5, y=1.02, ha='center', va='bottom', fontsize=fontsize, \\\n",
    "        transform=ax.transAxes)\n",
    "\n",
    "plot = ax.contourf(lon_full, lat_full, PRECT_rcp_normalized_deceedances, \\\n",
    "                   levels=clevels, \\\n",
    "                   transform=data_proj, extend='max', \\\n",
    "                   cmap=cmap_partial_r, norm=norm)\n",
    "\n",
    "plot_one = ax.contour(lon_full, lat_full, PRECT_rcp_normalized_deceedances, \\\n",
    "                      levels=[1.0], linewidths=[3], colors=['0.1'], transform=data_proj)\n",
    "\n",
    "fig.tight_layout()\n",
    "\n",
    "axpos = ax.get_position()\n",
    "cbar_ax = fig.add_axes([axpos.x0, axpos.y0-.1, axpos.width, 0.05])\n",
    "cbar_ax.tick_params(labelsize=fontsize)\n",
    "\n",
    "cbar = fig.colorbar(plot, orientation='horizontal',cax=cbar_ax)\n",
    "cbar.set_ticks([0,1,2,3,4,5,10,15,20,30,50,100])\n",
    "cbar.set_label('change in likelihood', fontsize=fontsize)"
   ]
  },
  {
   "cell_type": "code",
   "execution_count": null,
   "metadata": {},
   "outputs": [],
   "source": [
    "threshold = 1.5"
   ]
  },
  {
   "cell_type": "code",
   "execution_count": null,
   "metadata": {},
   "outputs": [],
   "source": [
    "sign_switch_regions = numpy.array((PRECT_rcp_normalized_deceedances>threshold)&(PRECT_rcp_normalized_exceedances>threshold), dtype=numpy.float)\n",
    "sign_switch_regions[sign_switch_regions==0]=numpy.nan"
   ]
  },
  {
   "cell_type": "code",
   "execution_count": null,
   "metadata": {},
   "outputs": [],
   "source": [
    "fontsize=12\n",
    "\n",
    "map_proj = cartopy.crs.PlateCarree(central_longitude=0)\n",
    "data_proj = cartopy.crs.PlateCarree(central_longitude=0)\n",
    "\n",
    "fig = mp.figure(figsize=(8.5,5))\n",
    "ax = fig.add_subplot(111, projection=map_proj)\n",
    "ax.coastlines()\n",
    "\n",
    "ax.text(s='2070-2100 100-year '+SEAS_name+'\\nreturn value frequency change', \\\n",
    "        x=0.5, y=1.02, ha='center', va='bottom', fontsize=fontsize, \\\n",
    "        transform=ax.transAxes)\n",
    "\n",
    "plot = ax.pcolormesh(lon_full, lat_full, sign_switch_regions, \\\n",
    "                    #levels=clevels, \\\n",
    "                    transform=data_proj, \\\n",
    "                    cmap='Oranges', vmin=0, vmax=1)\n",
    "\n",
    "fig.tight_layout()"
   ]
  },
  {
   "cell_type": "code",
   "execution_count": null,
   "metadata": {},
   "outputs": [],
   "source": []
  },
  {
   "cell_type": "code",
   "execution_count": null,
   "metadata": {},
   "outputs": [],
   "source": []
  },
  {
   "cell_type": "code",
   "execution_count": null,
   "metadata": {},
   "outputs": [],
   "source": []
  },
  {
   "cell_type": "markdown",
   "metadata": {},
   "source": [
    "# calculate actual whiplash metric"
   ]
  },
  {
   "cell_type": "code",
   "execution_count": null,
   "metadata": {},
   "outputs": [],
   "source": [
    "# get 20th and 80th percentile of seasonal precip in pic\n",
    "# then loop through pic and calculate frequency at qhich it switches from one to another\n",
    "# then do same for rcp\n",
    "\n",
    "PRECT_pic_80th = numpy.percentile(PRECT_pic_seas_means, q=80, axis=0)\n",
    "PRECT_pic_20th = numpy.percentile(PRECT_pic_seas_means, q=20, axis=0)"
   ]
  },
  {
   "cell_type": "raw",
   "metadata": {},
   "source": [
    "rcp_nyears_seas_means\n",
    "pic_nyears_seas_means"
   ]
  },
  {
   "cell_type": "code",
   "execution_count": null,
   "metadata": {},
   "outputs": [],
   "source": [
    "pic_whiplash_count = numpy.zeros((PRECT_pic_seas_means.shape[1:]))\n",
    "#for y in range(pic_nyears_seas_means-1):\n",
    "y=0\n",
    "while y<pic_nyears_seas_means-1:\n",
    "    if y%200==0:\n",
    "        print(y)\n",
    "    for j in range(lat_full.size):\n",
    "        for k in range(lon_full.size):\n",
    "            if (PRECT_pic_seas_means[y,j,k]<PRECT_pic_20th[j,k])&(PRECT_pic_seas_means[y+1,j,k]>PRECT_pic_80th[j,k]):\n",
    "                pic_whiplash_count[j,k]+=1\n",
    "    y+=1"
   ]
  },
  {
   "cell_type": "code",
   "execution_count": null,
   "metadata": {},
   "outputs": [],
   "source": [
    "rcp_whiplash_count = numpy.zeros((PRECT_pic_seas_means.shape[1:]))\n",
    "for member_idx in range(40):\n",
    "    print(member_idx)\n",
    "    y=0\n",
    "    while y<rcp_nyears_seas_means-1:\n",
    "        for j in range(lat_full.size):\n",
    "            for k in range(lon_full.size):\n",
    "                if (PRECT_rcp_seas_means[member_idx,y,j,k]<PRECT_pic_20th[j,k])&(PRECT_rcp_seas_means[member_idx,y+1,j,k]>PRECT_pic_80th[j,k]):\n",
    "                    rcp_whiplash_count[j,k]+=1\n",
    "        y+=1"
   ]
  },
  {
   "cell_type": "code",
   "execution_count": null,
   "metadata": {},
   "outputs": [],
   "source": [
    "pic_whiplash_count_normalized = (pic_whiplash_count/pic_nyears_seas_means)*100.\n",
    "rcp_whiplash_count_normalized = (rcp_whiplash_count/(rcp_nyears_seas_means*40))*100."
   ]
  },
  {
   "cell_type": "code",
   "execution_count": null,
   "metadata": {},
   "outputs": [],
   "source": [
    "fontsize=12\n",
    "\n",
    "map_proj = cartopy.crs.PlateCarree(central_longitude=180)\n",
    "data_proj = cartopy.crs.PlateCarree(central_longitude=0)\n",
    "\n",
    "fig = mp.figure(figsize=(8.5,5))\n",
    "ax = fig.add_subplot(111, projection=map_proj)\n",
    "ax.coastlines(color='0.9')\n",
    "\n",
    "ax.text(s='Whiplash events per 100yr during '+SEAS_name, x=0.5, y=1.02, ha='center', va='bottom', fontsize=fontsize, \\\n",
    "       transform=ax.transAxes)\n",
    "\n",
    "clevels = numpy.arange(0,7.1,1)\n",
    "plot = ax.contourf(lon_full, lat_full, pic_whiplash_count_normalized, \\\n",
    "                   levels=clevels, \\\n",
    "                   transform=data_proj, \\\n",
    "                   cmap='magma', extend='max')\n",
    "\n",
    "fig.tight_layout()\n",
    "\n",
    "axpos = ax.get_position()\n",
    "cbar_ax = fig.add_axes([axpos.x0, axpos.y0-.1, axpos.width, 0.05])\n",
    "cbar_ax.tick_params(labelsize=fontsize)\n",
    "\n",
    "cbar = fig.colorbar(plot, orientation='horizontal',cax=cbar_ax)\n",
    "cbar.set_label('count', fontsize=fontsize)"
   ]
  },
  {
   "cell_type": "code",
   "execution_count": null,
   "metadata": {},
   "outputs": [],
   "source": [
    "fontsize=12\n",
    "\n",
    "map_proj = cartopy.crs.PlateCarree(central_longitude=180)\n",
    "data_proj = cartopy.crs.PlateCarree(central_longitude=0)\n",
    "\n",
    "fig = mp.figure(figsize=(8.5,5))\n",
    "ax = fig.add_subplot(111, projection=map_proj)\n",
    "ax.coastlines(color='0.1')\n",
    "\n",
    "ax.text(s='Ratio of whiplash likelihood '+SEAS_name, x=0.5, y=1.02, ha='center', va='bottom', fontsize=fontsize, \\\n",
    "       transform=ax.transAxes)\n",
    "\n",
    "clevels = numpy.arange(0,2.1,0.2)\n",
    "plot = ax.contourf(lon_full, lat_full, rcp_whiplash_count_normalized/pic_whiplash_count_normalized, \\\n",
    "                   levels=clevels, \\\n",
    "                   transform=data_proj, \\\n",
    "                   cmap=cmocean.cm.balance, extend='max')\n",
    "\n",
    "fig.tight_layout()\n",
    "\n",
    "axpos = ax.get_position()\n",
    "cbar_ax = fig.add_axes([axpos.x0, axpos.y0-.1, axpos.width, 0.05])\n",
    "cbar_ax.tick_params(labelsize=fontsize)\n",
    "\n",
    "cbar = fig.colorbar(plot, orientation='horizontal',cax=cbar_ax)\n",
    "cbar.set_ticks([0,0.5,1,1.5,2])\n",
    "cbar.set_label('ratio', fontsize=fontsize)"
   ]
  },
  {
   "cell_type": "code",
   "execution_count": null,
   "metadata": {},
   "outputs": [],
   "source": []
  },
  {
   "cell_type": "code",
   "execution_count": null,
   "metadata": {},
   "outputs": [],
   "source": []
  },
  {
   "cell_type": "code",
   "execution_count": null,
   "metadata": {},
   "outputs": [],
   "source": []
  }
 ],
 "metadata": {
  "kernelspec": {
   "display_name": "Python 3",
   "language": "python",
   "name": "python3"
  },
  "language_info": {
   "codemirror_mode": {
    "name": "ipython",
    "version": 3
   },
   "file_extension": ".py",
   "mimetype": "text/x-python",
   "name": "python",
   "nbconvert_exporter": "python",
   "pygments_lexer": "ipython3",
   "version": "3.6.6"
  }
 },
 "nbformat": 4,
 "nbformat_minor": 2
}
