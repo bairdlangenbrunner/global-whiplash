{
 "cells": [
  {
   "cell_type": "code",
   "execution_count": 2,
   "metadata": {
    "ExecuteTime": {
     "end_time": "2018-11-19T16:31:10.458939Z",
     "start_time": "2018-11-19T16:31:10.448177Z"
    }
   },
   "outputs": [],
   "source": [
    "import numpy\n",
    "import xarray\n",
    "import glob\n",
    "import pandas\n",
    "import cartopy\n",
    "import itertools\n",
    "import matplotlib\n",
    "import cmocean\n",
    "import netCDF4\n",
    "import datetime\n",
    "import cftime\n",
    "\n",
    "import matplotlib.pyplot as mp\n",
    "\n",
    "mp.rcParams.update({'mathtext.default': 'regular'})\n",
    "%matplotlib inline"
   ]
  },
  {
   "cell_type": "code",
   "execution_count": 3,
   "metadata": {
    "ExecuteTime": {
     "end_time": "2018-11-19T16:25:37.612835Z",
     "start_time": "2018-11-19T16:25:36.825778Z"
    }
   },
   "outputs": [],
   "source": [
    "# PRECT_orig = '/scratch/blangenb/NCAR_LENS/PRECT/b.e11.B1850C5CN.f09_g16.005.cam.h1.PRECT.04020101-04991231.nc'\n",
    "PRECT_orig = '/glade/collections/cdg/data/cesmLE/CESM-CAM5-BGC-LE/atm/proc/tseries/monthly/PRECC/b.e11.B1850C5CN.f09_g16.005.cam.h0.PRECC.040001-049912.nc'\n",
    "PRECT_orig_ds = xarray.open_dataset(PRECT_orig)\n",
    "lat_full = PRECT_orig_ds['lat'].values\n",
    "lon_full = PRECT_orig_ds['lon'].values"
   ]
  },
  {
   "cell_type": "code",
   "execution_count": 4,
   "metadata": {
    "ExecuteTime": {
     "end_time": "2018-11-19T16:25:37.617207Z",
     "start_time": "2018-11-19T16:25:37.614961Z"
    }
   },
   "outputs": [],
   "source": [
    "#PRECT_root = '/ninad/NCAR_LENS/PRECT/'\n",
    "PRECC_root = '/glade/collections/cdg/data/cesmLE/CESM-CAM5-BGC-LE/atm/proc/tseries/monthly/PRECC/'\n",
    "PRECL_root = '/glade/collections/cdg/data/cesmLE/CESM-CAM5-BGC-LE/atm/proc/tseries/monthly/PRECL/'\n",
    "#PRECT_root = '/scratch/blangenb/NCAR_LENS/PRECT_lonslices/'\n",
    "#PRECT_root =  '/glade/p_old/cesmLE/CESM-CAM5-BGC-LE/atm/proc/tseries/daily/PRECT/'"
   ]
  },
  {
   "cell_type": "code",
   "execution_count": 5,
   "metadata": {},
   "outputs": [],
   "source": [
    "pic_file_list_PRECC = numpy.array(sorted(glob.glob(PRECC_root+'/b.e11.B1850C5CN.f09_g16.*.nc')))\n",
    "pic_file_list_PRECL = numpy.array(sorted(glob.glob(PRECL_root+'/b.e11.B1850C5CN.f09_g16.*.nc')))"
   ]
  },
  {
   "cell_type": "code",
   "execution_count": 6,
   "metadata": {
    "ExecuteTime": {
     "end_time": "2018-11-19T16:25:37.691081Z",
     "start_time": "2018-11-19T16:25:37.618962Z"
    }
   },
   "outputs": [],
   "source": [
    "rcp_file_list_PRECC = numpy.array(sorted(glob.glob(PRECC_root+'/b.e11.BRCP85C5CNBDRD.f09_g16.*.nc')))\n",
    "rcp_file_list_PRECL = numpy.array(sorted(glob.glob(PRECL_root+'/b.e11.BRCP85C5CNBDRD.f09_g16.*.nc')))"
   ]
  },
  {
   "cell_type": "markdown",
   "metadata": {},
   "source": [
    "# open pic files"
   ]
  },
  {
   "cell_type": "code",
   "execution_count": 7,
   "metadata": {},
   "outputs": [],
   "source": [
    "PRECC_pic_mfds = xarray.open_mfdataset(pic_file_list_PRECC, decode_times=False)\n",
    "PRECL_pic_mfds = xarray.open_mfdataset(pic_file_list_PRECL, decode_times=False)"
   ]
  },
  {
   "cell_type": "code",
   "execution_count": 8,
   "metadata": {},
   "outputs": [],
   "source": [
    "PRECT_pic = (PRECC_pic_mfds['PRECC']+PRECL_pic_mfds['PRECL']).values*86400.*1000."
   ]
  },
  {
   "cell_type": "code",
   "execution_count": 9,
   "metadata": {},
   "outputs": [],
   "source": [
    "pic_time_datetime = numpy.array([cftime.DatetimeNoLeap(year,month,1) \\\n",
    "                                 for year,month in itertools.product(range(400,2201), range(1, 13))])"
   ]
  },
  {
   "cell_type": "markdown",
   "metadata": {},
   "source": [
    "# open hist/rcp files"
   ]
  },
  {
   "cell_type": "code",
   "execution_count": 10,
   "metadata": {},
   "outputs": [],
   "source": [
    "# define member strings for hist/rcp\n",
    "multifile_members = ['{:03d}'.format(i) for i in range(1,34)]\n",
    "all_members = ['{:03d}'.format(i) for i in range(1,36)] + ['{:03d}'.format(i) for i in range(101,106)]"
   ]
  },
  {
   "cell_type": "code",
   "execution_count": 11,
   "metadata": {},
   "outputs": [],
   "source": [
    "rcp_time_datetime = numpy.array([cftime.DatetimeNoLeap(year,month,1) \\\n",
    "                                 for year,month in itertools.product(range(2006,2101), range(1,13))])"
   ]
  },
  {
   "cell_type": "code",
   "execution_count": 12,
   "metadata": {},
   "outputs": [],
   "source": [
    "rcp_start = cftime.DatetimeNoLeap(2070,1,1)\n",
    "rcp_end = cftime.DatetimeNoLeap(2099,12,31)\n",
    "rcp_time_indices = list(numpy.where((rcp_time_datetime>=rcp_start)&(rcp_time_datetime<=rcp_end))[0])"
   ]
  },
  {
   "cell_type": "code",
   "execution_count": 13,
   "metadata": {},
   "outputs": [],
   "source": [
    "rcp_nyears = 30\n",
    "rcp_year_array = numpy.arange(rcp_start.year, rcp_end.year+1, dtype=numpy.int)\n",
    "rcp_time_datetime_subset = rcp_time_datetime[rcp_time_indices]"
   ]
  },
  {
   "cell_type": "code",
   "execution_count": 14,
   "metadata": {},
   "outputs": [],
   "source": [
    "PRECT_all_rcp_data = numpy.zeros((all_members.__len__(), rcp_nyears*12, lat_full.size, lon_full.size))"
   ]
  },
  {
   "cell_type": "code",
   "execution_count": 15,
   "metadata": {},
   "outputs": [
    {
     "ename": "KeyboardInterrupt",
     "evalue": "",
     "output_type": "error",
     "traceback": [
      "\u001b[0;31m---------------------------------------------------------------------------\u001b[0m",
      "\u001b[0;31mKeyboardInterrupt\u001b[0m                         Traceback (most recent call last)",
      "\u001b[0;32m<ipython-input-15-2b358dd40969>\u001b[0m in \u001b[0;36m<module>\u001b[0;34m\u001b[0m\n\u001b[1;32m     23\u001b[0m \u001b[0;34m\u001b[0m\u001b[0m\n\u001b[1;32m     24\u001b[0m     \u001b[0mPRECT_rcp_ds\u001b[0m \u001b[0;34m=\u001b[0m \u001b[0;34m(\u001b[0m\u001b[0mPRECC_rcp_ds\u001b[0m\u001b[0;34m[\u001b[0m\u001b[0;34m'PRECC'\u001b[0m\u001b[0;34m]\u001b[0m\u001b[0;34m+\u001b[0m\u001b[0mPRECL_rcp_ds\u001b[0m\u001b[0;34m[\u001b[0m\u001b[0;34m'PRECL'\u001b[0m\u001b[0;34m]\u001b[0m\u001b[0;34m)\u001b[0m\u001b[0;34m.\u001b[0m\u001b[0misel\u001b[0m\u001b[0;34m(\u001b[0m\u001b[0mtime\u001b[0m\u001b[0;34m=\u001b[0m\u001b[0mrcp_time_indices\u001b[0m\u001b[0;34m)\u001b[0m\u001b[0;34m\u001b[0m\u001b[0;34m\u001b[0m\u001b[0m\n\u001b[0;32m---> 25\u001b[0;31m     \u001b[0mPRECT_all_rcp_data\u001b[0m\u001b[0;34m[\u001b[0m\u001b[0mmember_idx\u001b[0m\u001b[0;34m,\u001b[0m\u001b[0;34m:\u001b[0m\u001b[0;34m,\u001b[0m\u001b[0;34m:\u001b[0m\u001b[0;34m,\u001b[0m\u001b[0;34m:\u001b[0m\u001b[0;34m]\u001b[0m \u001b[0;34m=\u001b[0m \u001b[0mPRECT_rcp_ds\u001b[0m\u001b[0;34m.\u001b[0m\u001b[0mvalues\u001b[0m\u001b[0;34m*\u001b[0m\u001b[0;36m86400.\u001b[0m\u001b[0;34m*\u001b[0m\u001b[0;36m1000.\u001b[0m\u001b[0;34m\u001b[0m\u001b[0;34m\u001b[0m\u001b[0m\n\u001b[0m",
      "\u001b[0;32m~/miniconda3/envs/pangeo/lib/python3.7/site-packages/xarray/core/dataarray.py\u001b[0m in \u001b[0;36mvalues\u001b[0;34m(self)\u001b[0m\n\u001b[1;32m    405\u001b[0m     \u001b[0;32mdef\u001b[0m \u001b[0mvalues\u001b[0m\u001b[0;34m(\u001b[0m\u001b[0mself\u001b[0m\u001b[0;34m)\u001b[0m\u001b[0;34m:\u001b[0m\u001b[0;34m\u001b[0m\u001b[0;34m\u001b[0m\u001b[0m\n\u001b[1;32m    406\u001b[0m         \u001b[0;34m\"\"\"The array's data as a numpy.ndarray\"\"\"\u001b[0m\u001b[0;34m\u001b[0m\u001b[0;34m\u001b[0m\u001b[0m\n\u001b[0;32m--> 407\u001b[0;31m         \u001b[0;32mreturn\u001b[0m \u001b[0mself\u001b[0m\u001b[0;34m.\u001b[0m\u001b[0mvariable\u001b[0m\u001b[0;34m.\u001b[0m\u001b[0mvalues\u001b[0m\u001b[0;34m\u001b[0m\u001b[0;34m\u001b[0m\u001b[0m\n\u001b[0m\u001b[1;32m    408\u001b[0m \u001b[0;34m\u001b[0m\u001b[0m\n\u001b[1;32m    409\u001b[0m     \u001b[0;34m@\u001b[0m\u001b[0mvalues\u001b[0m\u001b[0;34m.\u001b[0m\u001b[0msetter\u001b[0m\u001b[0;34m\u001b[0m\u001b[0;34m\u001b[0m\u001b[0m\n",
      "\u001b[0;32m~/miniconda3/envs/pangeo/lib/python3.7/site-packages/xarray/core/variable.py\u001b[0m in \u001b[0;36mvalues\u001b[0;34m(self)\u001b[0m\n\u001b[1;32m    385\u001b[0m     \u001b[0;32mdef\u001b[0m \u001b[0mvalues\u001b[0m\u001b[0;34m(\u001b[0m\u001b[0mself\u001b[0m\u001b[0;34m)\u001b[0m\u001b[0;34m:\u001b[0m\u001b[0;34m\u001b[0m\u001b[0;34m\u001b[0m\u001b[0m\n\u001b[1;32m    386\u001b[0m         \u001b[0;34m\"\"\"The variable's data as a numpy.ndarray\"\"\"\u001b[0m\u001b[0;34m\u001b[0m\u001b[0;34m\u001b[0m\u001b[0m\n\u001b[0;32m--> 387\u001b[0;31m         \u001b[0;32mreturn\u001b[0m \u001b[0m_as_array_or_item\u001b[0m\u001b[0;34m(\u001b[0m\u001b[0mself\u001b[0m\u001b[0;34m.\u001b[0m\u001b[0m_data\u001b[0m\u001b[0;34m)\u001b[0m\u001b[0;34m\u001b[0m\u001b[0;34m\u001b[0m\u001b[0m\n\u001b[0m\u001b[1;32m    388\u001b[0m \u001b[0;34m\u001b[0m\u001b[0m\n\u001b[1;32m    389\u001b[0m     \u001b[0;34m@\u001b[0m\u001b[0mvalues\u001b[0m\u001b[0;34m.\u001b[0m\u001b[0msetter\u001b[0m\u001b[0;34m\u001b[0m\u001b[0;34m\u001b[0m\u001b[0m\n",
      "\u001b[0;32m~/miniconda3/envs/pangeo/lib/python3.7/site-packages/xarray/core/variable.py\u001b[0m in \u001b[0;36m_as_array_or_item\u001b[0;34m(data)\u001b[0m\n\u001b[1;32m    206\u001b[0m     \u001b[0mTODO\u001b[0m\u001b[0;34m:\u001b[0m \u001b[0mremove\u001b[0m \u001b[0mthis\u001b[0m \u001b[0;34m(\u001b[0m\u001b[0mreplace\u001b[0m \u001b[0;32mwith\u001b[0m \u001b[0mnp\u001b[0m\u001b[0;34m.\u001b[0m\u001b[0masarray\u001b[0m\u001b[0;34m)\u001b[0m \u001b[0monce\u001b[0m \u001b[0mthese\u001b[0m \u001b[0missues\u001b[0m \u001b[0mare\u001b[0m \u001b[0mfixed\u001b[0m\u001b[0;34m\u001b[0m\u001b[0;34m\u001b[0m\u001b[0m\n\u001b[1;32m    207\u001b[0m     \"\"\"\n\u001b[0;32m--> 208\u001b[0;31m     \u001b[0mdata\u001b[0m \u001b[0;34m=\u001b[0m \u001b[0mnp\u001b[0m\u001b[0;34m.\u001b[0m\u001b[0masarray\u001b[0m\u001b[0;34m(\u001b[0m\u001b[0mdata\u001b[0m\u001b[0;34m)\u001b[0m\u001b[0;34m\u001b[0m\u001b[0;34m\u001b[0m\u001b[0m\n\u001b[0m\u001b[1;32m    209\u001b[0m     \u001b[0;32mif\u001b[0m \u001b[0mdata\u001b[0m\u001b[0;34m.\u001b[0m\u001b[0mndim\u001b[0m \u001b[0;34m==\u001b[0m \u001b[0;36m0\u001b[0m\u001b[0;34m:\u001b[0m\u001b[0;34m\u001b[0m\u001b[0;34m\u001b[0m\u001b[0m\n\u001b[1;32m    210\u001b[0m         \u001b[0;32mif\u001b[0m \u001b[0mdata\u001b[0m\u001b[0;34m.\u001b[0m\u001b[0mdtype\u001b[0m\u001b[0;34m.\u001b[0m\u001b[0mkind\u001b[0m \u001b[0;34m==\u001b[0m \u001b[0;34m'M'\u001b[0m\u001b[0;34m:\u001b[0m\u001b[0;34m\u001b[0m\u001b[0;34m\u001b[0m\u001b[0m\n",
      "\u001b[0;32m~/miniconda3/envs/pangeo/lib/python3.7/site-packages/numpy/core/numeric.py\u001b[0m in \u001b[0;36masarray\u001b[0;34m(a, dtype, order)\u001b[0m\n\u001b[1;32m    499\u001b[0m \u001b[0;34m\u001b[0m\u001b[0m\n\u001b[1;32m    500\u001b[0m     \"\"\"\n\u001b[0;32m--> 501\u001b[0;31m     \u001b[0;32mreturn\u001b[0m \u001b[0marray\u001b[0m\u001b[0;34m(\u001b[0m\u001b[0ma\u001b[0m\u001b[0;34m,\u001b[0m \u001b[0mdtype\u001b[0m\u001b[0;34m,\u001b[0m \u001b[0mcopy\u001b[0m\u001b[0;34m=\u001b[0m\u001b[0;32mFalse\u001b[0m\u001b[0;34m,\u001b[0m \u001b[0morder\u001b[0m\u001b[0;34m=\u001b[0m\u001b[0morder\u001b[0m\u001b[0;34m)\u001b[0m\u001b[0;34m\u001b[0m\u001b[0;34m\u001b[0m\u001b[0m\n\u001b[0m\u001b[1;32m    502\u001b[0m \u001b[0;34m\u001b[0m\u001b[0m\n\u001b[1;32m    503\u001b[0m \u001b[0;34m\u001b[0m\u001b[0m\n",
      "\u001b[0;32m~/miniconda3/envs/pangeo/lib/python3.7/site-packages/dask/array/core.py\u001b[0m in \u001b[0;36m__array__\u001b[0;34m(self, dtype, **kwargs)\u001b[0m\n\u001b[1;32m    996\u001b[0m \u001b[0;34m\u001b[0m\u001b[0m\n\u001b[1;32m    997\u001b[0m     \u001b[0;32mdef\u001b[0m \u001b[0m__array__\u001b[0m\u001b[0;34m(\u001b[0m\u001b[0mself\u001b[0m\u001b[0;34m,\u001b[0m \u001b[0mdtype\u001b[0m\u001b[0;34m=\u001b[0m\u001b[0;32mNone\u001b[0m\u001b[0;34m,\u001b[0m \u001b[0;34m**\u001b[0m\u001b[0mkwargs\u001b[0m\u001b[0;34m)\u001b[0m\u001b[0;34m:\u001b[0m\u001b[0;34m\u001b[0m\u001b[0;34m\u001b[0m\u001b[0m\n\u001b[0;32m--> 998\u001b[0;31m         \u001b[0mx\u001b[0m \u001b[0;34m=\u001b[0m \u001b[0mself\u001b[0m\u001b[0;34m.\u001b[0m\u001b[0mcompute\u001b[0m\u001b[0;34m(\u001b[0m\u001b[0;34m)\u001b[0m\u001b[0;34m\u001b[0m\u001b[0;34m\u001b[0m\u001b[0m\n\u001b[0m\u001b[1;32m    999\u001b[0m         \u001b[0;32mif\u001b[0m \u001b[0mdtype\u001b[0m \u001b[0;32mand\u001b[0m \u001b[0mx\u001b[0m\u001b[0;34m.\u001b[0m\u001b[0mdtype\u001b[0m \u001b[0;34m!=\u001b[0m \u001b[0mdtype\u001b[0m\u001b[0;34m:\u001b[0m\u001b[0;34m\u001b[0m\u001b[0;34m\u001b[0m\u001b[0m\n\u001b[1;32m   1000\u001b[0m             \u001b[0mx\u001b[0m \u001b[0;34m=\u001b[0m \u001b[0mx\u001b[0m\u001b[0;34m.\u001b[0m\u001b[0mastype\u001b[0m\u001b[0;34m(\u001b[0m\u001b[0mdtype\u001b[0m\u001b[0;34m)\u001b[0m\u001b[0;34m\u001b[0m\u001b[0;34m\u001b[0m\u001b[0m\n",
      "\u001b[0;32m~/miniconda3/envs/pangeo/lib/python3.7/site-packages/dask/base.py\u001b[0m in \u001b[0;36mcompute\u001b[0;34m(self, **kwargs)\u001b[0m\n\u001b[1;32m    154\u001b[0m         \u001b[0mdask\u001b[0m\u001b[0;34m.\u001b[0m\u001b[0mbase\u001b[0m\u001b[0;34m.\u001b[0m\u001b[0mcompute\u001b[0m\u001b[0;34m\u001b[0m\u001b[0;34m\u001b[0m\u001b[0m\n\u001b[1;32m    155\u001b[0m         \"\"\"\n\u001b[0;32m--> 156\u001b[0;31m         \u001b[0;34m(\u001b[0m\u001b[0mresult\u001b[0m\u001b[0;34m,\u001b[0m\u001b[0;34m)\u001b[0m \u001b[0;34m=\u001b[0m \u001b[0mcompute\u001b[0m\u001b[0;34m(\u001b[0m\u001b[0mself\u001b[0m\u001b[0;34m,\u001b[0m \u001b[0mtraverse\u001b[0m\u001b[0;34m=\u001b[0m\u001b[0;32mFalse\u001b[0m\u001b[0;34m,\u001b[0m \u001b[0;34m**\u001b[0m\u001b[0mkwargs\u001b[0m\u001b[0;34m)\u001b[0m\u001b[0;34m\u001b[0m\u001b[0;34m\u001b[0m\u001b[0m\n\u001b[0m\u001b[1;32m    157\u001b[0m         \u001b[0;32mreturn\u001b[0m \u001b[0mresult\u001b[0m\u001b[0;34m\u001b[0m\u001b[0;34m\u001b[0m\u001b[0m\n\u001b[1;32m    158\u001b[0m \u001b[0;34m\u001b[0m\u001b[0m\n",
      "\u001b[0;32m~/miniconda3/envs/pangeo/lib/python3.7/site-packages/dask/base.py\u001b[0m in \u001b[0;36mcompute\u001b[0;34m(*args, **kwargs)\u001b[0m\n\u001b[1;32m    396\u001b[0m     \u001b[0mkeys\u001b[0m \u001b[0;34m=\u001b[0m \u001b[0;34m[\u001b[0m\u001b[0mx\u001b[0m\u001b[0;34m.\u001b[0m\u001b[0m__dask_keys__\u001b[0m\u001b[0;34m(\u001b[0m\u001b[0;34m)\u001b[0m \u001b[0;32mfor\u001b[0m \u001b[0mx\u001b[0m \u001b[0;32min\u001b[0m \u001b[0mcollections\u001b[0m\u001b[0;34m]\u001b[0m\u001b[0;34m\u001b[0m\u001b[0;34m\u001b[0m\u001b[0m\n\u001b[1;32m    397\u001b[0m     \u001b[0mpostcomputes\u001b[0m \u001b[0;34m=\u001b[0m \u001b[0;34m[\u001b[0m\u001b[0mx\u001b[0m\u001b[0;34m.\u001b[0m\u001b[0m__dask_postcompute__\u001b[0m\u001b[0;34m(\u001b[0m\u001b[0;34m)\u001b[0m \u001b[0;32mfor\u001b[0m \u001b[0mx\u001b[0m \u001b[0;32min\u001b[0m \u001b[0mcollections\u001b[0m\u001b[0;34m]\u001b[0m\u001b[0;34m\u001b[0m\u001b[0;34m\u001b[0m\u001b[0m\n\u001b[0;32m--> 398\u001b[0;31m     \u001b[0mresults\u001b[0m \u001b[0;34m=\u001b[0m \u001b[0mschedule\u001b[0m\u001b[0;34m(\u001b[0m\u001b[0mdsk\u001b[0m\u001b[0;34m,\u001b[0m \u001b[0mkeys\u001b[0m\u001b[0;34m,\u001b[0m \u001b[0;34m**\u001b[0m\u001b[0mkwargs\u001b[0m\u001b[0;34m)\u001b[0m\u001b[0;34m\u001b[0m\u001b[0;34m\u001b[0m\u001b[0m\n\u001b[0m\u001b[1;32m    399\u001b[0m     \u001b[0;32mreturn\u001b[0m \u001b[0mrepack\u001b[0m\u001b[0;34m(\u001b[0m\u001b[0;34m[\u001b[0m\u001b[0mf\u001b[0m\u001b[0;34m(\u001b[0m\u001b[0mr\u001b[0m\u001b[0;34m,\u001b[0m \u001b[0;34m*\u001b[0m\u001b[0ma\u001b[0m\u001b[0;34m)\u001b[0m \u001b[0;32mfor\u001b[0m \u001b[0mr\u001b[0m\u001b[0;34m,\u001b[0m \u001b[0;34m(\u001b[0m\u001b[0mf\u001b[0m\u001b[0;34m,\u001b[0m \u001b[0ma\u001b[0m\u001b[0;34m)\u001b[0m \u001b[0;32min\u001b[0m \u001b[0mzip\u001b[0m\u001b[0;34m(\u001b[0m\u001b[0mresults\u001b[0m\u001b[0;34m,\u001b[0m \u001b[0mpostcomputes\u001b[0m\u001b[0;34m)\u001b[0m\u001b[0;34m]\u001b[0m\u001b[0;34m)\u001b[0m\u001b[0;34m\u001b[0m\u001b[0;34m\u001b[0m\u001b[0m\n\u001b[1;32m    400\u001b[0m \u001b[0;34m\u001b[0m\u001b[0m\n",
      "\u001b[0;32m~/miniconda3/envs/pangeo/lib/python3.7/site-packages/dask/threaded.py\u001b[0m in \u001b[0;36mget\u001b[0;34m(dsk, result, cache, num_workers, pool, **kwargs)\u001b[0m\n\u001b[1;32m     74\u001b[0m     results = get_async(pool.apply_async, len(pool._pool), dsk, result,\n\u001b[1;32m     75\u001b[0m                         \u001b[0mcache\u001b[0m\u001b[0;34m=\u001b[0m\u001b[0mcache\u001b[0m\u001b[0;34m,\u001b[0m \u001b[0mget_id\u001b[0m\u001b[0;34m=\u001b[0m\u001b[0m_thread_get_id\u001b[0m\u001b[0;34m,\u001b[0m\u001b[0;34m\u001b[0m\u001b[0;34m\u001b[0m\u001b[0m\n\u001b[0;32m---> 76\u001b[0;31m                         pack_exception=pack_exception, **kwargs)\n\u001b[0m\u001b[1;32m     77\u001b[0m \u001b[0;34m\u001b[0m\u001b[0m\n\u001b[1;32m     78\u001b[0m     \u001b[0;31m# Cleanup pools associated to dead threads\u001b[0m\u001b[0;34m\u001b[0m\u001b[0;34m\u001b[0m\u001b[0;34m\u001b[0m\u001b[0m\n",
      "\u001b[0;32m~/miniconda3/envs/pangeo/lib/python3.7/site-packages/dask/local.py\u001b[0m in \u001b[0;36mget_async\u001b[0;34m(apply_async, num_workers, dsk, result, cache, get_id, rerun_exceptions_locally, pack_exception, raise_exception, callbacks, dumps, loads, **kwargs)\u001b[0m\n\u001b[1;32m    448\u001b[0m             \u001b[0;31m# Main loop, wait on tasks to finish, insert new ones\u001b[0m\u001b[0;34m\u001b[0m\u001b[0;34m\u001b[0m\u001b[0;34m\u001b[0m\u001b[0m\n\u001b[1;32m    449\u001b[0m             \u001b[0;32mwhile\u001b[0m \u001b[0mstate\u001b[0m\u001b[0;34m[\u001b[0m\u001b[0;34m'waiting'\u001b[0m\u001b[0;34m]\u001b[0m \u001b[0;32mor\u001b[0m \u001b[0mstate\u001b[0m\u001b[0;34m[\u001b[0m\u001b[0;34m'ready'\u001b[0m\u001b[0;34m]\u001b[0m \u001b[0;32mor\u001b[0m \u001b[0mstate\u001b[0m\u001b[0;34m[\u001b[0m\u001b[0;34m'running'\u001b[0m\u001b[0;34m]\u001b[0m\u001b[0;34m:\u001b[0m\u001b[0;34m\u001b[0m\u001b[0;34m\u001b[0m\u001b[0m\n\u001b[0;32m--> 450\u001b[0;31m                 \u001b[0mkey\u001b[0m\u001b[0;34m,\u001b[0m \u001b[0mres_info\u001b[0m\u001b[0;34m,\u001b[0m \u001b[0mfailed\u001b[0m \u001b[0;34m=\u001b[0m \u001b[0mqueue_get\u001b[0m\u001b[0;34m(\u001b[0m\u001b[0mqueue\u001b[0m\u001b[0;34m)\u001b[0m\u001b[0;34m\u001b[0m\u001b[0;34m\u001b[0m\u001b[0m\n\u001b[0m\u001b[1;32m    451\u001b[0m                 \u001b[0;32mif\u001b[0m \u001b[0mfailed\u001b[0m\u001b[0;34m:\u001b[0m\u001b[0;34m\u001b[0m\u001b[0;34m\u001b[0m\u001b[0m\n\u001b[1;32m    452\u001b[0m                     \u001b[0mexc\u001b[0m\u001b[0;34m,\u001b[0m \u001b[0mtb\u001b[0m \u001b[0;34m=\u001b[0m \u001b[0mloads\u001b[0m\u001b[0;34m(\u001b[0m\u001b[0mres_info\u001b[0m\u001b[0;34m)\u001b[0m\u001b[0;34m\u001b[0m\u001b[0;34m\u001b[0m\u001b[0m\n",
      "\u001b[0;32m~/miniconda3/envs/pangeo/lib/python3.7/site-packages/dask/local.py\u001b[0m in \u001b[0;36mqueue_get\u001b[0;34m(q)\u001b[0m\n\u001b[1;32m    139\u001b[0m \u001b[0;32melse\u001b[0m\u001b[0;34m:\u001b[0m\u001b[0;34m\u001b[0m\u001b[0;34m\u001b[0m\u001b[0m\n\u001b[1;32m    140\u001b[0m     \u001b[0;32mdef\u001b[0m \u001b[0mqueue_get\u001b[0m\u001b[0;34m(\u001b[0m\u001b[0mq\u001b[0m\u001b[0;34m)\u001b[0m\u001b[0;34m:\u001b[0m\u001b[0;34m\u001b[0m\u001b[0;34m\u001b[0m\u001b[0m\n\u001b[0;32m--> 141\u001b[0;31m         \u001b[0;32mreturn\u001b[0m \u001b[0mq\u001b[0m\u001b[0;34m.\u001b[0m\u001b[0mget\u001b[0m\u001b[0;34m(\u001b[0m\u001b[0;34m)\u001b[0m\u001b[0;34m\u001b[0m\u001b[0;34m\u001b[0m\u001b[0m\n\u001b[0m\u001b[1;32m    142\u001b[0m \u001b[0;34m\u001b[0m\u001b[0m\n\u001b[1;32m    143\u001b[0m \u001b[0;34m\u001b[0m\u001b[0m\n",
      "\u001b[0;32m~/miniconda3/envs/pangeo/lib/python3.7/queue.py\u001b[0m in \u001b[0;36mget\u001b[0;34m(self, block, timeout)\u001b[0m\n\u001b[1;32m    168\u001b[0m             \u001b[0;32melif\u001b[0m \u001b[0mtimeout\u001b[0m \u001b[0;32mis\u001b[0m \u001b[0;32mNone\u001b[0m\u001b[0;34m:\u001b[0m\u001b[0;34m\u001b[0m\u001b[0;34m\u001b[0m\u001b[0m\n\u001b[1;32m    169\u001b[0m                 \u001b[0;32mwhile\u001b[0m \u001b[0;32mnot\u001b[0m \u001b[0mself\u001b[0m\u001b[0;34m.\u001b[0m\u001b[0m_qsize\u001b[0m\u001b[0;34m(\u001b[0m\u001b[0;34m)\u001b[0m\u001b[0;34m:\u001b[0m\u001b[0;34m\u001b[0m\u001b[0;34m\u001b[0m\u001b[0m\n\u001b[0;32m--> 170\u001b[0;31m                     \u001b[0mself\u001b[0m\u001b[0;34m.\u001b[0m\u001b[0mnot_empty\u001b[0m\u001b[0;34m.\u001b[0m\u001b[0mwait\u001b[0m\u001b[0;34m(\u001b[0m\u001b[0;34m)\u001b[0m\u001b[0;34m\u001b[0m\u001b[0;34m\u001b[0m\u001b[0m\n\u001b[0m\u001b[1;32m    171\u001b[0m             \u001b[0;32melif\u001b[0m \u001b[0mtimeout\u001b[0m \u001b[0;34m<\u001b[0m \u001b[0;36m0\u001b[0m\u001b[0;34m:\u001b[0m\u001b[0;34m\u001b[0m\u001b[0;34m\u001b[0m\u001b[0m\n\u001b[1;32m    172\u001b[0m                 \u001b[0;32mraise\u001b[0m \u001b[0mValueError\u001b[0m\u001b[0;34m(\u001b[0m\u001b[0;34m\"'timeout' must be a non-negative number\"\u001b[0m\u001b[0;34m)\u001b[0m\u001b[0;34m\u001b[0m\u001b[0;34m\u001b[0m\u001b[0m\n",
      "\u001b[0;32m~/miniconda3/envs/pangeo/lib/python3.7/threading.py\u001b[0m in \u001b[0;36mwait\u001b[0;34m(self, timeout)\u001b[0m\n\u001b[1;32m    294\u001b[0m         \u001b[0;32mtry\u001b[0m\u001b[0;34m:\u001b[0m    \u001b[0;31m# restore state no matter what (e.g., KeyboardInterrupt)\u001b[0m\u001b[0;34m\u001b[0m\u001b[0;34m\u001b[0m\u001b[0m\n\u001b[1;32m    295\u001b[0m             \u001b[0;32mif\u001b[0m \u001b[0mtimeout\u001b[0m \u001b[0;32mis\u001b[0m \u001b[0;32mNone\u001b[0m\u001b[0;34m:\u001b[0m\u001b[0;34m\u001b[0m\u001b[0;34m\u001b[0m\u001b[0m\n\u001b[0;32m--> 296\u001b[0;31m                 \u001b[0mwaiter\u001b[0m\u001b[0;34m.\u001b[0m\u001b[0macquire\u001b[0m\u001b[0;34m(\u001b[0m\u001b[0;34m)\u001b[0m\u001b[0;34m\u001b[0m\u001b[0;34m\u001b[0m\u001b[0m\n\u001b[0m\u001b[1;32m    297\u001b[0m                 \u001b[0mgotit\u001b[0m \u001b[0;34m=\u001b[0m \u001b[0;32mTrue\u001b[0m\u001b[0;34m\u001b[0m\u001b[0;34m\u001b[0m\u001b[0m\n\u001b[1;32m    298\u001b[0m             \u001b[0;32melse\u001b[0m\u001b[0;34m:\u001b[0m\u001b[0;34m\u001b[0m\u001b[0;34m\u001b[0m\u001b[0m\n",
      "\u001b[0;31mKeyboardInterrupt\u001b[0m: "
     ]
    }
   ],
   "source": [
    "# do all this for the first lon box to get the time and lat/lon information\n",
    "for member_idx in range(40):\n",
    "    \n",
    "    which_member = all_members[member_idx]\n",
    "    #print(which_member)\n",
    "\n",
    "    PRECC_file_indices = [file.split('/')[-1].split('.')[4]==which_member for file in rcp_file_list_PRECC]\n",
    "    PRECL_file_indices = [file.split('/')[-1].split('.')[4]==which_member for file in rcp_file_list_PRECL]\n",
    "\n",
    "    PRECC_member_file_list = rcp_file_list_PRECC[PRECC_file_indices]\n",
    "    PRECL_member_file_list = rcp_file_list_PRECL[PRECL_file_indices]\n",
    "\n",
    "    if PRECC_member_file_list.__len__()!=PRECL_member_file_list.__len__():\n",
    "        print('weird not same length')\n",
    "    elif PRECC_member_file_list.__len__()>1:\n",
    "        PRECC_rcp_ds = xarray.open_mfdataset(PRECC_member_file_list)\n",
    "        PRECL_rcp_ds = xarray.open_mfdataset(PRECL_member_file_list)\n",
    "    else:\n",
    "        PRECC_rcp_ds = xarray.open_dataset(PRECC_member_file_list[0])\n",
    "        PRECL_rcp_ds = xarray.open_dataset(PRECL_member_file_list[0])\n",
    "\n",
    "    # prect_rcp = prect_rcp_ds['PRECT']*86400.*1000.\n",
    "\n",
    "    PRECT_rcp_ds = (PRECC_rcp_ds['PRECC']+PRECL_rcp_ds['PRECL']).isel(time=rcp_time_indices)\n",
    "    PRECT_all_rcp_data[member_idx,:,:,:] = PRECT_rcp_ds.values*86400.*1000."
   ]
  },
  {
   "cell_type": "markdown",
   "metadata": {},
   "source": [
    "# doing seasonal means for pic"
   ]
  },
  {
   "cell_type": "code",
   "execution_count": null,
   "metadata": {},
   "outputs": [],
   "source": [
    "window_length=6 # ONDJFM, AMJJAS"
   ]
  },
  {
   "cell_type": "code",
   "execution_count": null,
   "metadata": {},
   "outputs": [],
   "source": [
    "# calculate rolling mean\n",
    "# pick off the window that matters\n",
    "# take seasonal means of data set\n",
    "pic_nyears = pic_time_datetime[-1].year - pic_time_datetime[0].year\n",
    "pic_year_start = pic_time_datetime[0].year\n",
    "pic_year_end = pic_time_datetime[-1].year\n",
    "pic_year_array = numpy.arange(pic_year_start, pic_year_start+pic_nyears, dtype=numpy.int)\n",
    "\n",
    "PRECT_pic_rolling_means = numpy.zeros((PRECT_pic.shape))\n",
    "for j in range(lat_full.size):\n",
    "    if j%50==0:\n",
    "        print(j)\n",
    "    for k in range(lon_full.size):\n",
    "        PRECT_pic_rolling_means[:,j,k] = pandas.Series(PRECT_pic[:,j,k]).rolling(window=window_length, min_periods=1).mean()\n",
    "\n",
    "#"
   ]
  },
  {
   "cell_type": "markdown",
   "metadata": {},
   "source": [
    "# take moving window means of hist"
   ]
  },
  {
   "cell_type": "code",
   "execution_count": null,
   "metadata": {},
   "outputs": [],
   "source": [
    "PRECT_rcp_rolling_means = numpy.zeros((PRECT_all_rcp_data.shape))\n",
    "for member_idx in range(40):\n",
    "    print(member_idx)\n",
    "    for j in range(lat_full.size):\n",
    "        for k in range(lon_full.size):\n",
    "            PRECT_rcp_rolling_means[member_idx,:,j,k] = pandas.Series(PRECT_all_rcp_data[member_idx,:,j,k]).rolling(window=window_length, min_periods=1).mean()"
   ]
  },
  {
   "cell_type": "code",
   "execution_count": null,
   "metadata": {},
   "outputs": [],
   "source": [
    "SEAS_list = [10,11,12,1,2,3]; SEAS_name = 'ONDJFM'; window_length=6\n",
    "#SEAS_list = [4,5,6,7,8,9]; SEAS_name = 'AMJJAS'; split=False\n",
    "#SEAS_list = [12,1,2]; SEAS_name = 'DJF'; window_length=3"
   ]
  },
  {
   "cell_type": "markdown",
   "metadata": {},
   "source": [
    "# pull out pic seasons"
   ]
  },
  {
   "cell_type": "code",
   "execution_count": null,
   "metadata": {},
   "outputs": [],
   "source": [
    "pic_seas_endmonth_indices = [(d.month==SEAS_list[-1]) for d in pic_time_datetime]\n",
    "PRECT_pic_seas_means = PRECT_pic_rolling_means[pic_seas_endmonth_indices,:,:][1:-1,:,:]"
   ]
  },
  {
   "cell_type": "raw",
   "metadata": {},
   "source": [
    "# take seasonal means of data set\n",
    "pic_nyears = pic_time_datetime[-1].year - pic_time_datetime[0].year\n",
    "pic_year_start = pic_time_datetime[0].year\n",
    "pic_year_end = pic_time_datetime[-1].year\n",
    "pic_year_array = numpy.arange(pic_year_start, pic_year_start+pic_nyears, dtype=numpy.int)\n",
    "\n",
    "PRECT_pic_seas_means = numpy.zeros((pic_nyears, PRECT_pic.shape[1], PRECT_pic.shape[2]))\n",
    "for y,current_year in enumerate(pic_year_array):\n",
    "    if y%100==0:\n",
    "        print(current_year)\n",
    "    year_seas_indices = [(d.month in SEAS_list) and (d.year==current_year) for d in pic_time_datetime]\n",
    "    PRECT_pic_seas_means[y,:,:] = numpy.mean(PRECT_pic[year_seas_indices,:,:], axis=0)"
   ]
  },
  {
   "cell_type": "markdown",
   "metadata": {},
   "source": [
    "# calculating return periods of seasonal means"
   ]
  },
  {
   "cell_type": "code",
   "execution_count": null,
   "metadata": {},
   "outputs": [],
   "source": [
    "return_period = 100 # in years"
   ]
  },
  {
   "cell_type": "code",
   "execution_count": null,
   "metadata": {},
   "outputs": [],
   "source": [
    "events_per_year = 1\n",
    "return_val_perc = 100*(1-1/(return_period*events_per_year))\n",
    "print(return_val_perc)\n",
    "\n",
    "pic_hi_percentile_values = numpy.zeros((lat_full.size,lon_full.size))\n",
    "for j in range(lat_full.size):\n",
    "    for k in range(lon_full.size):\n",
    "        tmp_distro = PRECT_pic_seas_means[:,j,k]\n",
    "        pic_hi_percentile_values[j,k] = numpy.percentile(tmp_distro, return_val_perc)"
   ]
  },
  {
   "cell_type": "code",
   "execution_count": null,
   "metadata": {},
   "outputs": [],
   "source": [
    "events_per_year = 1\n",
    "return_val_perc = 100*(1/(return_period*events_per_year))\n",
    "print(return_val_perc)\n",
    "\n",
    "pic_lo_percentile_values = numpy.zeros((lat_full.size,lon_full.size))\n",
    "for j in range(lat_full.size):\n",
    "    for k in range(lon_full.size):\n",
    "        tmp_distro = PRECT_pic_seas_means[:,j,k]\n",
    "        pic_lo_percentile_values[j,k] = numpy.percentile(tmp_distro, return_val_perc)"
   ]
  },
  {
   "cell_type": "markdown",
   "metadata": {},
   "source": [
    "# plot return period values of pic"
   ]
  },
  {
   "cell_type": "code",
   "execution_count": null,
   "metadata": {},
   "outputs": [],
   "source": [
    "fontsize=12\n",
    "\n",
    "map_proj = cartopy.crs.PlateCarree(central_longitude=180)\n",
    "data_proj = cartopy.crs.PlateCarree(central_longitude=0)\n",
    "\n",
    "fig = mp.figure(figsize=(8.5,5))\n",
    "ax = fig.add_subplot(111, projection=map_proj)\n",
    "ax.coastlines()\n",
    "\n",
    "ax.text(s='PIC 100-year '+SEAS_name+' return value', x=0.5, y=1.02, ha='center', va='bottom', fontsize=fontsize, \\\n",
    "       transform=ax.transAxes)\n",
    "\n",
    "clevels = numpy.arange(0,21,2.5)\n",
    "plot = ax.contourf(lon_full, lat_full, pic_hi_percentile_values, \\\n",
    "                   levels=clevels, \\\n",
    "                   transform=data_proj, \\\n",
    "                   cmap='magma_r', extend='max')\n",
    "\n",
    "fig.tight_layout()\n",
    "\n",
    "axpos = ax.get_position()\n",
    "cbar_ax = fig.add_axes([axpos.x0, axpos.y0-.1, axpos.width, 0.05])\n",
    "cbar_ax.tick_params(labelsize=fontsize)\n",
    "\n",
    "cbar = fig.colorbar(plot, orientation='horizontal',cax=cbar_ax)\n",
    "cbar.set_label('mm day$^{\\,-1}$', fontsize=fontsize)"
   ]
  },
  {
   "cell_type": "code",
   "execution_count": null,
   "metadata": {},
   "outputs": [],
   "source": [
    "fontsize=12\n",
    "\n",
    "map_proj = cartopy.crs.PlateCarree(central_longitude=180)\n",
    "data_proj = cartopy.crs.PlateCarree(central_longitude=0)\n",
    "\n",
    "fig = mp.figure(figsize=(8.5,5))\n",
    "ax = fig.add_subplot(111, projection=map_proj)\n",
    "ax.coastlines()\n",
    "\n",
    "ax.text(s='PIC 100-year '+SEAS_name+' return value', x=0.5, y=1.02, ha='center', va='bottom', fontsize=fontsize, \\\n",
    "       transform=ax.transAxes)\n",
    "\n",
    "clevels = numpy.arange(0,21,2.5)\n",
    "plot = ax.contourf(lon_full, lat_full, pic_lo_percentile_values, \\\n",
    "                   levels=clevels, \\\n",
    "                   transform=data_proj, \\\n",
    "                   cmap='magma_r', extend='max')\n",
    "\n",
    "fig.tight_layout()\n",
    "\n",
    "axpos = ax.get_position()\n",
    "cbar_ax = fig.add_axes([axpos.x0, axpos.y0-.1, axpos.width, 0.05])\n",
    "cbar_ax.tick_params(labelsize=fontsize)\n",
    "\n",
    "cbar = fig.colorbar(plot, orientation='horizontal',cax=cbar_ax)\n",
    "cbar.set_label('mm day$^{\\,-1}$', fontsize=fontsize)"
   ]
  },
  {
   "cell_type": "markdown",
   "metadata": {},
   "source": [
    "# pull out rcp seasons"
   ]
  },
  {
   "cell_type": "code",
   "execution_count": null,
   "metadata": {},
   "outputs": [],
   "source": [
    "rcp_seas_endmonth_indices = [(d.month==SEAS_list[-1]) for d in rcp_time_datetime_subset]\n",
    "PRECT_rcp_seas_means = numpy.zeros((all_members.__len__(), sum(rcp_seas_endmonth_indices), lat_full.size, lon_full.size))\n",
    "\n",
    "for member_idx in range(40):\n",
    "    PRECT_rcp_seas_means[member_idx,:,:,:] = PRECT_rcp_rolling_means[member_idx,rcp_seas_endmonth_indices,:,:]\n",
    "PRECT_rcp_seas_means = PRECT_rcp_seas_means[:,1:-1,:,:]"
   ]
  },
  {
   "cell_type": "raw",
   "metadata": {},
   "source": [
    "PRECT_rcp_seas_means = numpy.zeros((all_members.__len__(), rcp_nyears, lat_full.size, lon_full.size))\n",
    "\n",
    "for member_idx in range(40):\n",
    "    for y,current_year in enumerate(rcp_year_array):\n",
    "        year_seas_indices = [(d.month in SEAS_list) and (d.year==current_year) for d in rcp_time_datetime_subset]\n",
    "        PRECT_rcp_seas_means[member_idx,y,:,:] = numpy.mean(PRECT_all_rcp_data[member_idx,year_seas_indices,:,:], axis=0)"
   ]
  },
  {
   "cell_type": "markdown",
   "metadata": {},
   "source": [
    "# just for funsies, calculate the 20th and 80th percentiles for RCP"
   ]
  },
  {
   "cell_type": "code",
   "execution_count": null,
   "metadata": {},
   "outputs": [],
   "source": [
    "PRECT_rcp_seas_means.shape"
   ]
  },
  {
   "cell_type": "code",
   "execution_count": null,
   "metadata": {},
   "outputs": [],
   "source": [
    "events_per_year = 1\n",
    "return_val_perc = 100*(1-1/(return_period*events_per_year))\n",
    "print(return_val_perc)\n",
    "\n",
    "rcp_hi_percentile_values = numpy.zeros((lat_full.size,lon_full.size))\n",
    "for j in range(lat_full.size):\n",
    "    for k in range(lon_full.size):\n",
    "        tmp_distro = PRECT_rcp_seas_means[:,:,j,k]\n",
    "        rcp_hi_percentile_values[j,k] = numpy.percentile(tmp_distro, return_val_perc)"
   ]
  },
  {
   "cell_type": "code",
   "execution_count": null,
   "metadata": {},
   "outputs": [],
   "source": [
    "events_per_year = 1\n",
    "return_val_perc = 100*(1/(return_period*events_per_year))\n",
    "print(return_val_perc)\n",
    "\n",
    "rcp_lo_percentile_values = numpy.zeros((lat_full.size,lon_full.size))\n",
    "for j in range(lat_full.size):\n",
    "    for k in range(lon_full.size):\n",
    "        tmp_distro = PRECT_rcp_seas_means[:,:,j,k]\n",
    "        rcp_lo_percentile_values[j,k] = numpy.percentile(tmp_distro, return_val_perc)"
   ]
  },
  {
   "cell_type": "markdown",
   "metadata": {},
   "source": [
    "# count exceedances using pic calculation"
   ]
  },
  {
   "cell_type": "code",
   "execution_count": null,
   "metadata": {},
   "outputs": [],
   "source": [
    "PRECT_rcp_exceedance_counts = numpy.zeros((lat_full.size, lon_full.size))\n",
    "\n",
    "for j in range(lat_full.size):\n",
    "    for k in range(lon_full.size):\n",
    "        PRECT_rcp_exceedance_counts[j,k] = numpy.sum(PRECT_rcp_seas_means[:,:,j,k]>pic_hi_percentile_values[j,k])"
   ]
  },
  {
   "cell_type": "code",
   "execution_count": null,
   "metadata": {},
   "outputs": [],
   "source": [
    "PRECT_rcp_deceedance_counts = numpy.zeros((lat_full.size, lon_full.size))\n",
    "\n",
    "for j in range(lat_full.size):\n",
    "    for k in range(lon_full.size):\n",
    "        PRECT_rcp_deceedance_counts[j,k] = numpy.sum(PRECT_rcp_seas_means[:,:,j,k]<pic_lo_percentile_values[j,k])"
   ]
  },
  {
   "cell_type": "code",
   "execution_count": null,
   "metadata": {},
   "outputs": [],
   "source": [
    "rcp_nyears_seas_means = PRECT_rcp_seas_means.shape[1]\n",
    "pic_nyears_seas_means = PRECT_pic_seas_means.shape[0]"
   ]
  },
  {
   "cell_type": "code",
   "execution_count": null,
   "metadata": {},
   "outputs": [],
   "source": [
    "PRECT_rcp_normalized_exceedances = PRECT_rcp_exceedance_counts/(rcp_nyears_seas_means*40)/((pic_nyears_seas_means/return_period)/pic_nyears_seas_means)\n",
    "PRECT_rcp_normalized_deceedances = PRECT_rcp_deceedance_counts/(rcp_nyears_seas_means*40)/((pic_nyears_seas_means/return_period)/pic_nyears_seas_means)\n"
   ]
  },
  {
   "cell_type": "code",
   "execution_count": null,
   "metadata": {},
   "outputs": [],
   "source": [
    "# make color map\n",
    "minval=0.0 \n",
    "maxval=0.95\n",
    "n=256\n",
    "full_cmap = cmocean.cm.balance_r\n",
    "full_cmap_r = cmocean.cm.balance\n",
    "cmap_partial = matplotlib.colors.LinearSegmentedColormap.from_list('trunc({n},{a:.2f},{b:.2f})'.format(n=full_cmap.name, a=minval, b=maxval), full_cmap(numpy.linspace(minval, maxval, n)))\n",
    "cmap_partial_r = matplotlib.colors.LinearSegmentedColormap.from_list('trunc({n},{a:.2f},{b:.2f})'.format(n=full_cmap_r.name, a=minval, b=maxval), full_cmap_r(numpy.linspace(minval, maxval, n)))"
   ]
  },
  {
   "cell_type": "code",
   "execution_count": null,
   "metadata": {},
   "outputs": [],
   "source": [
    "#clevels = numpy.hstack((numpy.arange(0,1.1,0.1), numpy.arange(5,50.1,5)))\n",
    "clevels = numpy.hstack((numpy.arange(0,1.1,0.1), numpy.array([2,3,4,5,10,15,20,30,50,100])))\n",
    "bounds = clevels\n",
    "norm = matplotlib.colors.BoundaryNorm(boundaries=bounds, ncolors=256)"
   ]
  },
  {
   "cell_type": "code",
   "execution_count": null,
   "metadata": {},
   "outputs": [],
   "source": [
    "fontsize=12\n",
    "\n",
    "map_proj = cartopy.crs.PlateCarree(central_longitude=0)\n",
    "data_proj = cartopy.crs.PlateCarree(central_longitude=0)\n",
    "\n",
    "fig = mp.figure(figsize=(8.5,5))\n",
    "ax = fig.add_subplot(111, projection=map_proj)\n",
    "ax.coastlines(color='0.9')\n",
    "\n",
    "ax.text(s='2070-2100 100-year '+SEAS_name+'\\nreturn value frequency change', \\\n",
    "        x=0.5, y=1.02, ha='center', va='bottom', fontsize=fontsize, \\\n",
    "        transform=ax.transAxes)\n",
    "\n",
    "plot = ax.contourf(lon_full, lat_full, PRECT_rcp_normalized_exceedances, \\\n",
    "                   levels=clevels, \\\n",
    "                   transform=data_proj, extend='max', \\\n",
    "                   cmap=cmap_partial, norm=norm)\n",
    "\n",
    "#plot = ax.pcolormesh(lon_full, lat_full, PRECT_rcp_normalized_exceedances, vmin=0, vmax=2, cmap='RdBu', transform=data_proj)\n",
    "\n",
    "plot_one = ax.contour(lon_full, lat_full, PRECT_rcp_normalized_exceedances, \\\n",
    "                      levels=[1.0], linewidths=[3], colors=['0.1'], transform=data_proj)\n",
    "\n",
    "fig.tight_layout()\n",
    "\n",
    "axpos = ax.get_position()\n",
    "cbar_ax = fig.add_axes([axpos.x0, axpos.y0-.1, axpos.width, 0.05])\n",
    "cbar_ax.tick_params(labelsize=fontsize)\n",
    "\n",
    "cbar = fig.colorbar(plot, orientation='horizontal',cax=cbar_ax)\n",
    "cbar.set_ticks([0,1,2,3,4,5,10,15,20,30,50,100])\n",
    "cbar.set_label('change in likelihood', fontsize=fontsize)"
   ]
  },
  {
   "cell_type": "code",
   "execution_count": null,
   "metadata": {},
   "outputs": [],
   "source": [
    "fontsize=12\n",
    "\n",
    "map_proj = cartopy.crs.PlateCarree(central_longitude=0)\n",
    "data_proj = cartopy.crs.PlateCarree(central_longitude=0)\n",
    "\n",
    "fig = mp.figure(figsize=(8.5,5))\n",
    "ax = fig.add_subplot(111, projection=map_proj)\n",
    "ax.coastlines(color='0.9')\n",
    "\n",
    "ax.text(s='2070-2100 100-year '+SEAS_name+'\\nreturn value frequency change', \\\n",
    "        x=0.5, y=1.02, ha='center', va='bottom', fontsize=fontsize, \\\n",
    "        transform=ax.transAxes)\n",
    "\n",
    "plot = ax.contourf(lon_full, lat_full, PRECT_rcp_normalized_deceedances, \\\n",
    "                   levels=clevels, \\\n",
    "                   transform=data_proj, extend='max', \\\n",
    "                   cmap=cmap_partial_r, norm=norm)\n",
    "\n",
    "plot_one = ax.contour(lon_full, lat_full, PRECT_rcp_normalized_deceedances, \\\n",
    "                      levels=[1.0], linewidths=[3], colors=['0.1'], transform=data_proj)\n",
    "\n",
    "fig.tight_layout()\n",
    "\n",
    "axpos = ax.get_position()\n",
    "cbar_ax = fig.add_axes([axpos.x0, axpos.y0-.1, axpos.width, 0.05])\n",
    "cbar_ax.tick_params(labelsize=fontsize)\n",
    "\n",
    "cbar = fig.colorbar(plot, orientation='horizontal',cax=cbar_ax)\n",
    "cbar.set_ticks([0,1,2,3,4,5,10,15,20,30,50,100])\n",
    "cbar.set_label('change in likelihood', fontsize=fontsize)"
   ]
  },
  {
   "cell_type": "code",
   "execution_count": null,
   "metadata": {},
   "outputs": [],
   "source": [
    "threshold = 1.5"
   ]
  },
  {
   "cell_type": "code",
   "execution_count": null,
   "metadata": {},
   "outputs": [],
   "source": [
    "sign_switch_regions = numpy.array((PRECT_rcp_normalized_deceedances>threshold)&(PRECT_rcp_normalized_exceedances>threshold), dtype=numpy.float)\n",
    "sign_switch_regions[sign_switch_regions==0]=numpy.nan"
   ]
  },
  {
   "cell_type": "code",
   "execution_count": null,
   "metadata": {},
   "outputs": [],
   "source": [
    "fontsize=12\n",
    "\n",
    "map_proj = cartopy.crs.PlateCarree(central_longitude=0)\n",
    "data_proj = cartopy.crs.PlateCarree(central_longitude=0)\n",
    "\n",
    "fig = mp.figure(figsize=(8.5,5))\n",
    "ax = fig.add_subplot(111, projection=map_proj)\n",
    "ax.coastlines()\n",
    "\n",
    "ax.text(s='2070-2100 100-year '+SEAS_name+'\\nreturn value frequency change', \\\n",
    "        x=0.5, y=1.02, ha='center', va='bottom', fontsize=fontsize, \\\n",
    "        transform=ax.transAxes)\n",
    "\n",
    "plot = ax.pcolormesh(lon_full, lat_full, sign_switch_regions, \\\n",
    "                    #levels=clevels, \\\n",
    "                    transform=data_proj, \\\n",
    "                    cmap='Oranges', vmin=0, vmax=1)\n",
    "\n",
    "fig.tight_layout()"
   ]
  },
  {
   "cell_type": "markdown",
   "metadata": {},
   "source": [
    "# calculate actual whiplash metric"
   ]
  },
  {
   "cell_type": "code",
   "execution_count": null,
   "metadata": {},
   "outputs": [],
   "source": [
    "# get 20th and 80th percentile of seasonal precip in pic\n",
    "# then loop through pic and calculate frequency at qhich it switches from one to another\n",
    "# then do same for rcp\n",
    "\n",
    "PRECT_pic_80th = numpy.percentile(PRECT_pic_seas_means, q=80, axis=0)\n",
    "PRECT_pic_20th = numpy.percentile(PRECT_pic_seas_means, q=20, axis=0)"
   ]
  },
  {
   "cell_type": "raw",
   "metadata": {},
   "source": [
    "rcp_nyears_seas_means\n",
    "pic_nyears_seas_means"
   ]
  },
  {
   "cell_type": "code",
   "execution_count": null,
   "metadata": {},
   "outputs": [],
   "source": [
    "pic_whiplash_count = numpy.zeros((PRECT_pic_seas_means.shape[1:]))\n",
    "#for y in range(pic_nyears_seas_means-1):\n",
    "y=0\n",
    "while y<pic_nyears_seas_means-1:\n",
    "    if y%200==0:\n",
    "        print(y)\n",
    "    for j in range(lat_full.size):\n",
    "        for k in range(lon_full.size):\n",
    "            if (PRECT_pic_seas_means[y,j,k]<PRECT_pic_20th[j,k])&(PRECT_pic_seas_means[y+1,j,k]>PRECT_pic_80th[j,k]):\n",
    "                pic_whiplash_count[j,k]+=1\n",
    "    y+=1"
   ]
  },
  {
   "cell_type": "code",
   "execution_count": null,
   "metadata": {},
   "outputs": [],
   "source": [
    "rcp_whiplash_count = numpy.zeros((PRECT_pic_seas_means.shape[1:]))\n",
    "for member_idx in range(40):\n",
    "    print(member_idx)\n",
    "    y=0\n",
    "    while y<rcp_nyears_seas_means-1:\n",
    "        for j in range(lat_full.size):\n",
    "            for k in range(lon_full.size):\n",
    "                if (PRECT_rcp_seas_means[member_idx,y,j,k]<PRECT_pic_20th[j,k])&(PRECT_rcp_seas_means[member_idx,y+1,j,k]>PRECT_pic_80th[j,k]):\n",
    "                    rcp_whiplash_count[j,k]+=1\n",
    "        y+=1"
   ]
  },
  {
   "cell_type": "code",
   "execution_count": null,
   "metadata": {},
   "outputs": [],
   "source": [
    "pic_whiplash_count_normalized = (pic_whiplash_count/pic_nyears_seas_means)*100.\n",
    "rcp_whiplash_count_normalized = (rcp_whiplash_count/(rcp_nyears_seas_means*40))*100."
   ]
  },
  {
   "cell_type": "code",
   "execution_count": null,
   "metadata": {},
   "outputs": [],
   "source": [
    "fontsize=12\n",
    "\n",
    "map_proj = cartopy.crs.PlateCarree(central_longitude=180)\n",
    "data_proj = cartopy.crs.PlateCarree(central_longitude=0)\n",
    "\n",
    "fig = mp.figure(figsize=(8.5,5))\n",
    "ax = fig.add_subplot(111, projection=map_proj)\n",
    "ax.coastlines(color='0.9')\n",
    "\n",
    "ax.text(s='Whiplash events per 100yr during '+SEAS_name, x=0.5, y=1.02, ha='center', va='bottom', fontsize=fontsize, \\\n",
    "       transform=ax.transAxes)\n",
    "\n",
    "clevels = numpy.arange(0,7.1,1)\n",
    "plot = ax.contourf(lon_full, lat_full, pic_whiplash_count_normalized, \\\n",
    "                   levels=clevels, \\\n",
    "                   transform=data_proj, \\\n",
    "                   cmap='magma', extend='max')\n",
    "\n",
    "fig.tight_layout()\n",
    "\n",
    "axpos = ax.get_position()\n",
    "cbar_ax = fig.add_axes([axpos.x0, axpos.y0-.1, axpos.width, 0.05])\n",
    "cbar_ax.tick_params(labelsize=fontsize)\n",
    "\n",
    "cbar = fig.colorbar(plot, orientation='horizontal',cax=cbar_ax)\n",
    "cbar.set_label('count', fontsize=fontsize)"
   ]
  },
  {
   "cell_type": "code",
   "execution_count": null,
   "metadata": {},
   "outputs": [],
   "source": [
    "fontsize=12\n",
    "\n",
    "map_proj = cartopy.crs.PlateCarree(central_longitude=180)\n",
    "data_proj = cartopy.crs.PlateCarree(central_longitude=0)\n",
    "\n",
    "fig = mp.figure(figsize=(8.5,5))\n",
    "ax = fig.add_subplot(111, projection=map_proj)\n",
    "ax.coastlines(color='0.1')\n",
    "\n",
    "ax.text(s='Ratio of 20th perc. values '+SEAS_name, x=0.5, y=1.02, ha='center', va='bottom', fontsize=fontsize, \\\n",
    "       transform=ax.transAxes)\n",
    "\n",
    "clevels = numpy.arange(0,2.1,0.2)\n",
    "plot = ax.contourf(lon_full, lat_full, rcp_lo_percentile_values/pic_lo_percentile_values, \\\n",
    "                   levels=clevels, \\\n",
    "                   transform=data_proj, \\\n",
    "                   cmap=cmocean.cm.balance, extend='max')\n",
    "\n",
    "fig.tight_layout()\n",
    "\n",
    "axpos = ax.get_position()\n",
    "cbar_ax = fig.add_axes([axpos.x0, axpos.y0-.1, axpos.width, 0.05])\n",
    "cbar_ax.tick_params(labelsize=fontsize)\n",
    "\n",
    "cbar = fig.colorbar(plot, orientation='horizontal',cax=cbar_ax)\n",
    "cbar.set_ticks([0,0.5,1,1.5,2])\n",
    "cbar.set_label('ratio', fontsize=fontsize)"
   ]
  },
  {
   "cell_type": "code",
   "execution_count": null,
   "metadata": {},
   "outputs": [],
   "source": [
    "fontsize=12\n",
    "\n",
    "map_proj = cartopy.crs.PlateCarree(central_longitude=180)\n",
    "data_proj = cartopy.crs.PlateCarree(central_longitude=0)\n",
    "\n",
    "fig = mp.figure(figsize=(8.5,5))\n",
    "ax = fig.add_subplot(111, projection=map_proj)\n",
    "ax.coastlines(color='0.1')\n",
    "\n",
    "ax.text(s='Ratio of 80th perc. values '+SEAS_name, x=0.5, y=1.02, ha='center', va='bottom', fontsize=fontsize, \\\n",
    "       transform=ax.transAxes)\n",
    "\n",
    "clevels = numpy.arange(0,2.1,0.2)\n",
    "plot = ax.contourf(lon_full, lat_full, rcp_hi_percentile_values/pic_hi_percentile_values, \\\n",
    "                   levels=clevels, \\\n",
    "                   transform=data_proj, \\\n",
    "                   cmap=cmocean.cm.balance, extend='max')\n",
    "\n",
    "fig.tight_layout()\n",
    "\n",
    "axpos = ax.get_position()\n",
    "cbar_ax = fig.add_axes([axpos.x0, axpos.y0-.1, axpos.width, 0.05])\n",
    "cbar_ax.tick_params(labelsize=fontsize)\n",
    "\n",
    "cbar = fig.colorbar(plot, orientation='horizontal',cax=cbar_ax)\n",
    "cbar.set_ticks([0,0.5,1,1.5,2])\n",
    "cbar.set_label('ratio', fontsize=fontsize)"
   ]
  },
  {
   "cell_type": "code",
   "execution_count": null,
   "metadata": {},
   "outputs": [],
   "source": [
    "fontsize=12\n",
    "\n",
    "map_proj = cartopy.crs.PlateCarree(central_longitude=180)\n",
    "data_proj = cartopy.crs.PlateCarree(central_longitude=0)\n",
    "\n",
    "fig = mp.figure(figsize=(8.5,5))\n",
    "ax = fig.add_subplot(111, projection=map_proj)\n",
    "ax.coastlines(color='0.1')\n",
    "\n",
    "ax.text(s='Ratio of whiplash likelihood '+SEAS_name, x=0.5, y=1.02, ha='center', va='bottom', fontsize=fontsize, \\\n",
    "       transform=ax.transAxes)\n",
    "\n",
    "clevels = numpy.arange(0,2.1,0.2)\n",
    "plot = ax.contourf(lon_full, lat_full, rcp_whiplash_count_normalized/pic_whiplash_count_normalized, \\\n",
    "                   levels=clevels, \\\n",
    "                   transform=data_proj, \\\n",
    "                   cmap=cmocean.cm.balance, extend='max')\n",
    "\n",
    "fig.tight_layout()\n",
    "\n",
    "axpos = ax.get_position()\n",
    "cbar_ax = fig.add_axes([axpos.x0, axpos.y0-.1, axpos.width, 0.05])\n",
    "cbar_ax.tick_params(labelsize=fontsize)\n",
    "\n",
    "cbar = fig.colorbar(plot, orientation='horizontal',cax=cbar_ax)\n",
    "cbar.set_ticks([0,0.5,1,1.5,2])\n",
    "cbar.set_label('ratio', fontsize=fontsize)"
   ]
  },
  {
   "cell_type": "markdown",
   "metadata": {},
   "source": [
    "# just stdev ratios"
   ]
  },
  {
   "cell_type": "code",
   "execution_count": null,
   "metadata": {},
   "outputs": [],
   "source": [
    "PRECT_pic_seas_means_std = numpy.std(PRECT_pic_seas_means, axis=0, ddof=1)\n",
    "PRECT_rcp_seas_means_std = numpy.std(PRECT_rcp_seas_means, axis=1, ddof=1)\n",
    "PRECT_rcp_seas_means_std_ensmean = numpy.mean(PRECT_rcp_seas_means_std, axis=0)"
   ]
  },
  {
   "cell_type": "code",
   "execution_count": null,
   "metadata": {},
   "outputs": [],
   "source": [
    "fontsize=12\n",
    "\n",
    "map_proj = cartopy.crs.PlateCarree(central_longitude=180)\n",
    "data_proj = cartopy.crs.PlateCarree(central_longitude=0)\n",
    "\n",
    "fig = mp.figure(figsize=(8.5,5))\n",
    "ax = fig.add_subplot(111, projection=map_proj)\n",
    "ax.coastlines(color='0.1')\n",
    "\n",
    "ax.text(s='Ratio of std. dev. '+SEAS_name, x=0.5, y=1.02, ha='center', va='bottom', fontsize=fontsize, \\\n",
    "       transform=ax.transAxes)\n",
    "\n",
    "clevels = numpy.arange(0,2.1,0.2)\n",
    "plot = ax.contourf(lon_full, lat_full, PRECT_rcp_seas_means_std_ensmean/PRECT_pic_seas_means_std, \\\n",
    "                   levels=clevels, \\\n",
    "                   transform=data_proj, \\\n",
    "                   cmap=cmocean.cm.balance, extend='max')\n",
    "\n",
    "fig.tight_layout()\n",
    "\n",
    "axpos = ax.get_position()\n",
    "cbar_ax = fig.add_axes([axpos.x0, axpos.y0-.1, axpos.width, 0.05])\n",
    "cbar_ax.tick_params(labelsize=fontsize)\n",
    "\n",
    "cbar = fig.colorbar(plot, orientation='horizontal',cax=cbar_ax)\n",
    "#cbar.set_ticks([0,0.5,1,1.5,2])\n",
    "cbar.set_label('ratio', fontsize=fontsize)"
   ]
  },
  {
   "cell_type": "markdown",
   "metadata": {},
   "source": [
    "# now do whiplash from very low season to a single month with large precip"
   ]
  },
  {
   "cell_type": "markdown",
   "metadata": {},
   "source": [
    "1. Identify which years (for beginning of season) had low precip\n",
    "2. Then use full data set to identify the dry years plus very wet following years"
   ]
  },
  {
   "cell_type": "code",
   "execution_count": null,
   "metadata": {},
   "outputs": [],
   "source": [
    "# shave off the first and last month because they don't have a full seasonal mean\n",
    "pic_time_datetime_seas_endmonths = pic_time_datetime[pic_seas_endmonth_indices][1:-1]"
   ]
  },
  {
   "cell_type": "code",
   "execution_count": null,
   "metadata": {},
   "outputs": [],
   "source": [
    "monthly_percentile = 95\n",
    "\n",
    "PRECT_pic_12by1801 = PRECT_pic.reshape((-1,12,lat_full.size,lon_full.size))\n",
    "PRECT_pic_12by1801.shape\n",
    "PRECT_pic_monthly_percentile = numpy.percentile(PRECT_pic_12by1801, q=monthly_percentile, axis=0)"
   ]
  },
  {
   "cell_type": "code",
   "execution_count": null,
   "metadata": {},
   "outputs": [],
   "source": [
    "# pic_whiplash_ds2wm = numpy.zeros((lat_full.size, lon_full.size))\n",
    "\n",
    "# endmonth = pic_time_datetime_seas_endmonths[0].month\n",
    "# if endmonth>1:\n",
    "#     endmonth_idx = endmonth-1\n",
    "# else:\n",
    "#     endmonth_idx = 11\n",
    "\n",
    "# for y in range(pic_nyears_seas_means):\n",
    "#     print(y)\n",
    "#     for j in range(lat_full.size):\n",
    "#         for k in range(lon_full.size):\n",
    "#             if PRECT_pic_seas_means[y,j,k] < PRECT_pic_20th[j,k]:\n",
    "                \n",
    "#                 dry_time = pic_time_datetime_seas_endmonths[y]\n",
    "#                 full_pic_datetime_endmonth_index = numpy.where(pic_time_datetime==dry_time)[0][0]\n",
    "#                 next_year_months = PRECT_pic[(full_pic_datetime_endmonth_index+12-window_length):(full_pic_datetime_endmonth_index+12),j,k]\n",
    "#                 monthly_percentiles = PRECT_pic_monthly_percentile[(endmonth_idx-6):endmonth_idx,j,k]\n",
    "                \n",
    "#                 if sum(next_year_months>monthly_percentiles)>0:\n",
    "#                     pic_whiplash_ds2wm[j,k]+=1\n",
    "#             else:\n",
    "#                 pass\n"
   ]
  },
  {
   "cell_type": "code",
   "execution_count": null,
   "metadata": {},
   "outputs": [],
   "source": [
    "# ds 2 wm\n",
    "pic_whiplash_ds2wm = numpy.zeros((lat_full.size, lon_full.size))\n",
    "\n",
    "endmonth = pic_time_datetime_seas_endmonths[0].month\n",
    "if endmonth>1:\n",
    "    endmonth_idx = endmonth-1\n",
    "else:\n",
    "     endmonth_idx = 11\n",
    "\n",
    "date_lat_lon_list = []\n",
    "\n",
    "for y in range(pic_nyears_seas_means):\n",
    "    if y%100==0:\n",
    "        print(y)\n",
    "    for j in range(lat_full.size):\n",
    "        for k in range(lon_full.size):\n",
    "            if PRECT_pic_seas_means[y,j,k] < PRECT_pic_20th[j,k]:\n",
    "                date_lat_lon_list.append((pic_time_datetime_seas_endmonths[y],j,k))\n",
    "#                 dry_time = pic_time_datetime_seas_endmonths[y]\n",
    "#                 full_pic_datetime_endmonth_index = numpy.where(pic_time_datetime==dry_time)[0][0]\n",
    "#                 next_year_months = PRECT_pic[(full_pic_datetime_endmonth_index+12-window_length):(full_pic_datetime_endmonth_index+12),j,k]\n",
    "#                 monthly_percentiles = PRECT_pic_monthly_percentile[(endmonth_idx-6):endmonth_idx,j,k]\n",
    "                \n",
    "#                 if sum(next_year_months>monthly_percentiles)>0:\n",
    "#                     pic_whiplash_ds2wm[j,k]+=1\n",
    "#             else:\n",
    "#                 pass"
   ]
  }
 ],
 "metadata": {
  "kernelspec": {
   "display_name": "Python 3",
   "language": "python",
   "name": "python3"
  },
  "language_info": {
   "codemirror_mode": {
    "name": "ipython",
    "version": 3
   },
   "file_extension": ".py",
   "mimetype": "text/x-python",
   "name": "python",
   "nbconvert_exporter": "python",
   "pygments_lexer": "ipython3",
   "version": "3.7.2"
  }
 },
 "nbformat": 4,
 "nbformat_minor": 2
}
