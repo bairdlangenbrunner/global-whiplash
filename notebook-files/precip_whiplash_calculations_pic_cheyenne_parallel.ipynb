{
 "cells": [
  {
   "cell_type": "code",
   "execution_count": 1,
   "metadata": {},
   "outputs": [],
   "source": [
    "import logging\n",
    "logging.captureWarnings(True)\n",
    "logging.getLogger('py.warnings').setLevel(logging.ERROR)"
   ]
  },
  {
   "cell_type": "code",
   "execution_count": 2,
   "metadata": {},
   "outputs": [
    {
     "name": "stdout",
     "output_type": "stream",
     "text": [
      "usage:\r\n",
      "\tqdel [-W force|suppress_email=X] [-x] job_identifier...\r\n",
      "\tqdel --version\r\n"
     ]
    }
   ],
   "source": [
    "!qselect -N dask-worker | xargs qdel"
   ]
  },
  {
   "cell_type": "code",
   "execution_count": 3,
   "metadata": {
    "ExecuteTime": {
     "end_time": "2018-11-14T05:08:28.799543Z",
     "start_time": "2018-11-14T05:08:17.478557Z"
    }
   },
   "outputs": [],
   "source": [
    "import numpy\n",
    "import xarray\n",
    "import matplotlib.pyplot as mp\n",
    "import glob\n",
    "import pandas\n",
    "import cartopy\n",
    "import itertools\n",
    "import dask_jobqueue\n",
    "#import tqdm\n",
    "\n",
    "%matplotlib inline"
   ]
  },
  {
   "cell_type": "code",
   "execution_count": 73,
   "metadata": {},
   "outputs": [],
   "source": [
    "cluster = dask_jobqueue.PBSCluster(processes=18,\n",
    "                                   memory='10 GB',\n",
    "                                   #cores=1,\n",
    "                                   project='UCLA0022',\n",
    "                                   queue='regular',\n",
    "                                   resource_spec='select=1:ncpus=36:mem=109G',\n",
    "                                   walltime='00:01:00')\n",
    "cluster.start_workers(10)\n",
    "\n",
    "from dask.distributed import Client\n",
    "client = Client(cluster)"
   ]
  },
  {
   "cell_type": "code",
   "execution_count": 74,
   "metadata": {},
   "outputs": [
    {
     "name": "stdout",
     "output_type": "stream",
     "text": [
      "qdel: Job has finished\r\n"
     ]
    }
   ],
   "source": [
    "!qdel 3446015"
   ]
  },
  {
   "cell_type": "code",
   "execution_count": 75,
   "metadata": {},
   "outputs": [
    {
     "name": "stdout",
     "output_type": "stream",
     "text": [
      "\r\n",
      "chadmin1: \r\n",
      "                                                            Req'd  Req'd   Elap\r\n",
      "Job ID          Username Queue    Jobname    SessID NDS TSK Memory Time  S Time\r\n",
      "--------------- -------- -------- ---------- ------ --- --- ------ ----- - -----\r\n",
      "3446055.chadmin baird    regular  dask-worke    --    1  36  109gb 00:01 Q   -- \r\n",
      "3446059.chadmin baird    regular  dask-worke    --    1  36  109gb 00:01 Q   -- \r\n",
      "3446060.chadmin baird    regular  dask-worke    --   10 360 1090gb 00:01 Q   -- \r\n"
     ]
    }
   ],
   "source": [
    "!qstat -u baird"
   ]
  },
  {
   "cell_type": "code",
   "execution_count": 2,
   "metadata": {
    "ExecuteTime": {
     "end_time": "2018-11-14T05:08:28.811602Z",
     "start_time": "2018-11-14T05:08:28.806608Z"
    }
   },
   "outputs": [],
   "source": [
    "#PRECT_root = '/ninad/NCAR_LENS/PRECT/'\n",
    "#PRECT_root = '/scratch/blangenb/NCAR_LENS/PRECT/'\n",
    "PRECT_root =  '/glade/p_old/cesmLE/CESM-CAM5-BGC-LE/atm/proc/tseries/daily/PRECT/'"
   ]
  },
  {
   "cell_type": "code",
   "execution_count": 3,
   "metadata": {
    "ExecuteTime": {
     "end_time": "2018-11-14T05:08:28.961108Z",
     "start_time": "2018-11-14T05:08:28.816177Z"
    }
   },
   "outputs": [],
   "source": [
    "# lon_qtr = int(288/4)\n",
    "# lat_qtr = int(192/4)\n",
    "# lon_half = int(288/2)\n",
    "# lat_half = int(192/2)\n",
    "\n",
    "lon_size = 288\n",
    "lat_size = 192"
   ]
  },
  {
   "cell_type": "code",
   "execution_count": 4,
   "metadata": {
    "ExecuteTime": {
     "end_time": "2018-11-14T05:08:37.828384Z",
     "start_time": "2018-11-14T05:08:37.821967Z"
    }
   },
   "outputs": [],
   "source": [
    "# lon_divisions = [i for i in range(0,lonsize+1,int(lonsize/4))]\n",
    "# lat_divisions = [i for i in range(0,latsize+1,int(latsize/4))]\n",
    "lon_divisions = [i for i in range(0,lon_size+1,48)]\n",
    "lat_divisions = [i for i in range(0,lat_size+1,48)]"
   ]
  },
  {
   "cell_type": "code",
   "execution_count": 5,
   "metadata": {
    "ExecuteTime": {
     "end_time": "2018-11-14T05:08:38.731756Z",
     "start_time": "2018-11-14T05:08:38.720096Z"
    }
   },
   "outputs": [
    {
     "data": {
      "text/plain": [
       "[0, 48, 96, 144, 192, 240, 288]"
      ]
     },
     "execution_count": 5,
     "metadata": {},
     "output_type": "execute_result"
    }
   ],
   "source": [
    "lon_divisions"
   ]
  },
  {
   "cell_type": "code",
   "execution_count": 6,
   "metadata": {
    "ExecuteTime": {
     "end_time": "2018-11-14T05:08:39.239211Z",
     "start_time": "2018-11-14T05:08:39.231874Z"
    }
   },
   "outputs": [
    {
     "data": {
      "text/plain": [
       "[0, 48, 96, 144, 192]"
      ]
     },
     "execution_count": 6,
     "metadata": {},
     "output_type": "execute_result"
    }
   ],
   "source": [
    "lat_divisions"
   ]
  },
  {
   "cell_type": "code",
   "execution_count": 7,
   "metadata": {
    "ExecuteTime": {
     "end_time": "2018-11-14T05:08:40.643985Z",
     "start_time": "2018-11-14T05:08:40.637781Z"
    }
   },
   "outputs": [],
   "source": [
    "ll_corners = list(itertools.product(lon_divisions[:-1],lat_divisions[:-1]))\n",
    "ur_corners = list(itertools.product(lon_divisions[1:],lat_divisions[1:]))"
   ]
  },
  {
   "cell_type": "code",
   "execution_count": 8,
   "metadata": {
    "ExecuteTime": {
     "end_time": "2018-11-14T15:03:43.329351Z",
     "start_time": "2018-11-14T15:03:43.314615Z"
    }
   },
   "outputs": [
    {
     "name": "stdout",
     "output_type": "stream",
     "text": [
      "0 0 to 48 48\n",
      "0 48 to 48 96\n",
      "0 96 to 48 144\n",
      "0 144 to 48 192\n",
      "48 0 to 96 48\n",
      "48 48 to 96 96\n",
      "48 96 to 96 144\n",
      "48 144 to 96 192\n",
      "96 0 to 144 48\n",
      "96 48 to 144 96\n",
      "96 96 to 144 144\n",
      "96 144 to 144 192\n",
      "144 0 to 192 48\n",
      "144 48 to 192 96\n",
      "144 96 to 192 144\n",
      "144 144 to 192 192\n",
      "192 0 to 240 48\n",
      "192 48 to 240 96\n",
      "192 96 to 240 144\n",
      "192 144 to 240 192\n",
      "240 0 to 288 48\n",
      "240 48 to 288 96\n",
      "240 96 to 288 144\n",
      "240 144 to 288 192\n"
     ]
    }
   ],
   "source": [
    "for i,val in enumerate(ll_corners):\n",
    "    print(val[0],val[1],'to',ur_corners[i][0],ur_corners[i][1])\n",
    "    \n",
    "#i=0\n",
    "#ll_corners[i][0],ur_corners[i][0]"
   ]
  },
  {
   "cell_type": "markdown",
   "metadata": {},
   "source": [
    "Open pre-industrial control as multi-file dataset"
   ]
  },
  {
   "cell_type": "code",
   "execution_count": 9,
   "metadata": {
    "ExecuteTime": {
     "end_time": "2018-11-14T05:10:48.316387Z",
     "start_time": "2018-11-14T05:10:47.542163Z"
    }
   },
   "outputs": [],
   "source": [
    "example_pic_mfds = xarray.open_mfdataset(PRECT_root + 'b.e11.B1850C5CN.f09_g16.005.cam.h1.PRECT.0402*')\n",
    "lat_total = example_pic_mfds['lat']\n",
    "lon_total = example_pic_mfds['lon']"
   ]
  },
  {
   "cell_type": "code",
   "execution_count": 10,
   "metadata": {
    "ExecuteTime": {
     "end_time": "2018-11-14T15:03:50.793436Z",
     "start_time": "2018-11-14T15:03:50.523711Z"
    }
   },
   "outputs": [
    {
     "data": {
      "image/png": "[encoded data removed]",
      "text/plain": [
       "<Figure size 432x288 with 1 Axes>"
      ]
     },
     "metadata": {
      "needs_background": "light"
     },
     "output_type": "display_data"
    }
   ],
   "source": [
    "i = 5\n",
    "fig = mp.figure()\n",
    "ax = fig.add_subplot(111, projection=cartopy.crs.PlateCarree())\n",
    "\n",
    "#ax.coastlines()\n",
    "\n",
    "for i in [range(ll_corners.__len__())[18]]:\n",
    "\n",
    "    lat_lo = ll_corners[i][1]\n",
    "    lat_hi = ur_corners[i][1]\n",
    "    lon_lo = ll_corners[i][0]\n",
    "    lon_hi = ur_corners[i][0]\n",
    "    \n",
    "    ax.scatter(lon_total[lon_lo],lat_total[lat_lo], transform=cartopy.crs.PlateCarree(), zorder=10, s=10)\n",
    "    ax.scatter(lon_total[lon_hi-1],lat_total[lat_hi-1], transform=cartopy.crs.PlateCarree(), zorder=10, s=10)\n",
    "    \n",
    "ax.set_global()"
   ]
  },
  {
   "cell_type": "code",
   "execution_count": 11,
   "metadata": {
    "ExecuteTime": {
     "end_time": "2018-11-14T15:04:58.413090Z",
     "start_time": "2018-11-14T15:04:46.903844Z"
    }
   },
   "outputs": [],
   "source": [
    "# prect_pic_mfds = xarray.open_mfdataset(PRECT_root + 'b.e11.B1850C5CN.f09_g16.005.cam.h1.PRECT.*.nc', \\\n",
    "#                                       chunks={'lat':12, 'lon':12}).isel(lat=slice(0,lat_qtr), lon=slice(0,lon_qtr))\n",
    "# prect_pic_mfds = xarray.open_mfdataset(PRECT_root + 'b.e11.B1850C5CN.f09_g16.005.cam.h1.PRECT.*.nc', \\\n",
    "#                                        chunks={'lat':12, 'lon':12}).isel(lat=slice(0,lat_half), lon=slice(0,lon_half))\n",
    "# prect_pic_mfds = xarray.open_mfdataset(PRECT_root + 'b.e11.B1850C5CN.f09_g16.005.cam.h1.PRECT.*.nc').isel(lat=slice(0,5), lon=slice(0,5))\n",
    "\n",
    "i = 18\n",
    "prect_pic_mfds = xarray.open_mfdataset(PRECT_root + 'b.e11.B1850C5CN.f09_g16.005.cam.h1.PRECT.*.nc').isel(\\\n",
    "                                        lat=slice(ll_corners[i][1],ur_corners[i][1]), lon=slice(ll_corners[i][0],ur_corners[i][0]))"
   ]
  },
  {
   "cell_type": "code",
   "execution_count": 12,
   "metadata": {
    "ExecuteTime": {
     "end_time": "2018-11-14T15:05:00.133587Z",
     "start_time": "2018-11-14T15:05:00.104731Z"
    }
   },
   "outputs": [],
   "source": [
    "prect_pic = prect_pic_mfds['PRECT']*86400.*1000.\n",
    "lon = prect_pic_mfds['lon']\n",
    "lat = prect_pic_mfds['lat']\n",
    "time = prect_pic_mfds['time'].values"
   ]
  },
  {
   "cell_type": "markdown",
   "metadata": {},
   "source": [
    "for checking memory usage"
   ]
  },
  {
   "cell_type": "raw",
   "metadata": {
    "ExecuteTime": {
     "end_time": "2018-11-13T22:05:48.479661Z",
     "start_time": "2018-11-13T22:05:48.463671Z"
    }
   },
   "source": [
    "import sys\n",
    "\n",
    "# These are the usual ipython objects, including this one you are creating\n",
    "ipython_vars = ['In', 'Out', 'exit', 'quit', 'get_ipython', 'ipython_vars']\n",
    "\n",
    "# Get a sorted list of the objects and their sizes\n",
    "sorted([(x, sys.getsizeof(globals().get(x))) for x in dir() if not x.startswith('_') and x not in sys.modules and x not in ipython_vars], key=lambda x: x[1], reverse=True)"
   ]
  },
  {
   "cell_type": "markdown",
   "metadata": {},
   "source": [
    "get dates corresponding to ONDJFM"
   ]
  },
  {
   "cell_type": "code",
   "execution_count": 13,
   "metadata": {
    "ExecuteTime": {
     "end_time": "2018-11-14T15:05:05.980977Z",
     "start_time": "2018-11-14T15:05:05.687120Z"
    }
   },
   "outputs": [],
   "source": [
    "time_datetime = numpy.copy(time) #pandas.to_datetime(time)\n",
    "time_seas_indices = [d.month in [10,11,12,1,2,3] for d in time_datetime]"
   ]
  },
  {
   "cell_type": "markdown",
   "metadata": {},
   "source": [
    "step below takes about 15 MINUTES"
   ]
  },
  {
   "cell_type": "code",
   "execution_count": 14,
   "metadata": {
    "ExecuteTime": {
     "end_time": "2018-11-14T15:19:22.547366Z",
     "start_time": "2018-11-14T15:05:15.651679Z"
    }
   },
   "outputs": [],
   "source": [
    "prect_pic_data = prect_pic.values"
   ]
  },
  {
   "cell_type": "markdown",
   "metadata": {},
   "source": [
    "set all <0.1 equal to zero (~15 seconds)"
   ]
  },
  {
   "cell_type": "code",
   "execution_count": 15,
   "metadata": {
    "ExecuteTime": {
     "end_time": "2018-11-14T15:21:38.849809Z",
     "start_time": "2018-11-14T15:21:07.495072Z"
    }
   },
   "outputs": [],
   "source": [
    "prect_pic_data[prect_pic_data<0.1] = 0"
   ]
  },
  {
   "cell_type": "markdown",
   "metadata": {},
   "source": [
    "take rolling mean (~3 minutes)"
   ]
  },
  {
   "cell_type": "code",
   "execution_count": 16,
   "metadata": {
    "ExecuteTime": {
     "end_time": "2018-11-14T15:25:06.083310Z",
     "start_time": "2018-11-14T15:21:58.729024Z"
    }
   },
   "outputs": [],
   "source": [
    "window_size = 30\n",
    "prect_pic_data_rolling30 = numpy.zeros((prect_pic.shape))\n",
    "for j in range(lat.size):\n",
    "    for k in range(lon.size):\n",
    "        prect_pic_data_rolling30[:,j,k] = pandas.Series(prect_pic_data[:,j,k]).rolling(window=window_size).sum()"
   ]
  },
  {
   "cell_type": "markdown",
   "metadata": {},
   "source": [
    "begin seasonal analysis"
   ]
  },
  {
   "cell_type": "code",
   "execution_count": null,
   "metadata": {
    "ExecuteTime": {
     "end_time": "2018-11-14T15:28:04.836753Z",
     "start_time": "2018-11-14T15:27:16.305792Z"
    }
   },
   "outputs": [],
   "source": [
    "prect_pic_seas_data = prect_pic_data[time_seas_indices,:,:]\n",
    "prect_pic_seas_data_rolling30 = prect_pic_data_rolling30[time_seas_indices,:,:]"
   ]
  },
  {
   "cell_type": "code",
   "execution_count": null,
   "metadata": {
    "ExecuteTime": {
     "end_time": "2018-11-14T15:01:41.608706Z",
     "start_time": "2018-11-14T15:01:41.521288Z"
    }
   },
   "outputs": [],
   "source": [
    "time_datetime_seas = time_datetime[time_seas_indices]\n",
    "nyears = time_datetime_seas[-1].year-time_datetime_seas[0].year+1"
   ]
  },
  {
   "cell_type": "code",
   "execution_count": null,
   "metadata": {},
   "outputs": [],
   "source": []
  },
  {
   "cell_type": "code",
   "execution_count": null,
   "metadata": {
    "ExecuteTime": {
     "end_time": "2018-11-13T19:50:14.658723Z",
     "start_time": "2018-11-13T19:50:14.515057Z"
    }
   },
   "outputs": [],
   "source": [
    "nlat = lat.size\n",
    "nlon = lon.size"
   ]
  },
  {
   "cell_type": "code",
   "execution_count": null,
   "metadata": {
    "ExecuteTime": {
     "end_time": "2018-11-13T20:31:40.470652Z",
     "start_time": "2018-11-13T20:31:40.466207Z"
    }
   },
   "outputs": [],
   "source": [
    "return_period = 200 # in years\n",
    "#events_per_year = 151/40\n",
    "events_per_year = 151\n",
    "\n",
    "#return_period = 100\n",
    "#events_per_year = 1\n",
    "\n",
    "return_val_perc = 100*(1-1/(return_period*events_per_year))\n",
    "print(return_val_perc)"
   ]
  },
  {
   "cell_type": "code",
   "execution_count": null,
   "metadata": {
    "ExecuteTime": {
     "end_time": "2018-11-13T20:35:17.326906Z",
     "start_time": "2018-11-13T20:31:42.167105Z"
    }
   },
   "outputs": [],
   "source": [
    "percentile_values = numpy.zeros((nlat,nlon))\n",
    "for j in range(nlat):\n",
    "    for k in range(nlon):\n",
    "        # get rid of nans\n",
    "        tmp_distro = prect_pic_seas_data[:,j,k]\n",
    "        #prect_djf[:,j,k][~numpy.isnan(prect_djf[:,j,k])]\n",
    "        percentile_values[j,k] = numpy.nanpercentile(tmp_distro, return_val_perc)"
   ]
  },
  {
   "cell_type": "code",
   "execution_count": null,
   "metadata": {
    "ExecuteTime": {
     "end_time": "2018-11-13T20:35:17.336313Z",
     "start_time": "2018-11-13T20:35:17.329073Z"
    }
   },
   "outputs": [],
   "source": [
    "# saveas info\n",
    "file_prefix = 'LL_pic_daily_200yr_wet'\n",
    "numpy.save('../intermediate-files/file_prefix' + '.npy', percentile_values)"
   ]
  },
  {
   "cell_type": "code",
   "execution_count": null,
   "metadata": {},
   "outputs": [],
   "source": []
  },
  {
   "cell_type": "code",
   "execution_count": null,
   "metadata": {},
   "outputs": [],
   "source": []
  },
  {
   "cell_type": "code",
   "execution_count": null,
   "metadata": {},
   "outputs": [],
   "source": []
  },
  {
   "cell_type": "code",
   "execution_count": null,
   "metadata": {},
   "outputs": [],
   "source": []
  },
  {
   "cell_type": "code",
   "execution_count": null,
   "metadata": {},
   "outputs": [],
   "source": []
  },
  {
   "cell_type": "code",
   "execution_count": null,
   "metadata": {
    "ExecuteTime": {
     "end_time": "2018-11-13T19:55:58.329356Z",
     "start_time": "2018-11-13T19:55:51.631211Z"
    }
   },
   "outputs": [],
   "source": [
    "proj_map = cartopy.crs.PlateCarree()\n",
    "\n",
    "fig = mp.figure(figsize=(10,10))\n",
    "\n",
    "ax = fig.add_subplot(111, projection=proj_map)\n",
    "ax.coastlines(resolution='50m')\n",
    "plot = ax.contourf(lon, lat, percentile_values)\n",
    "mp.colorbar(plot)\n",
    "ax.set_global()\n",
    "#ax.set_extent([-130,-100,20,55])\n",
    "#ax.set_extent([-150,-80,10,70])"
   ]
  }
 ],
 "metadata": {
  "kernelspec": {
   "display_name": "Python 3",
   "language": "python",
   "name": "python3"
  },
  "language_info": {
   "codemirror_mode": {
    "name": "ipython",
    "version": 3
   },
   "file_extension": ".py",
   "mimetype": "text/x-python",
   "name": "python",
   "nbconvert_exporter": "python",
   "pygments_lexer": "ipython3",
   "version": "3.6.6"
  }
 },
 "nbformat": 4,
 "nbformat_minor": 2
}
