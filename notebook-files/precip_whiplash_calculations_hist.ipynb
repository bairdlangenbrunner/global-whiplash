{
 "cells": [
  {
   "cell_type": "code",
   "execution_count": 18,
   "metadata": {},
   "outputs": [],
   "source": [
    "import numpy\n",
    "import xarray\n",
    "import matplotlib.pyplot as mp\n",
    "import glob\n",
    "import pandas"
   ]
  },
  {
   "cell_type": "code",
   "execution_count": 2,
   "metadata": {},
   "outputs": [],
   "source": [
    "PRECT_root = '/data/ninad/NCAR_LENS/PRECT/'"
   ]
  },
  {
   "cell_type": "markdown",
   "metadata": {},
   "source": [
    "Open RCP 8.5 runs for each ensemble member as multi-file dataset"
   ]
  },
  {
   "cell_type": "code",
   "execution_count": 40,
   "metadata": {},
   "outputs": [],
   "source": [
    "members = ['{:03d}'.format(i) for i in list(range(1,36))+list(range(101,106))]"
   ]
  },
  {
   "cell_type": "code",
   "execution_count": 41,
   "metadata": {},
   "outputs": [],
   "source": [
    "# open both 2006-2080 and 2080-2100\n",
    "\n",
    "i=1\n",
    "prect_rcp_mfds = xarray.open_mfdataset(PRECT_root + 'b.e11.BRCP85C5CNBDRD.f09_g16.' + members[i] + '.cam.h1.PRECT.*.nc')"
   ]
  },
  {
   "cell_type": "code",
   "execution_count": 51,
   "metadata": {},
   "outputs": [],
   "source": [
    "prect_rcp = prect_rcp_mfds['PRECT']*86400.*1000.\n",
    "lon = prect_rcp_mfds['lon']\n",
    "lat = prect_rcp_mfds['lat']\n",
    "time = prect_rcp_mfds['time'].values"
   ]
  },
  {
   "cell_type": "markdown",
   "metadata": {},
   "source": [
    "Calculate rolling means and rolling sums on dask arrays"
   ]
  },
  {
   "cell_type": "code",
   "execution_count": 52,
   "metadata": {},
   "outputs": [],
   "source": [
    "time_datetime = pandas.to_datetime(time)"
   ]
  },
  {
   "cell_type": "markdown",
   "metadata": {},
   "source": [
    "Convert all values <0.1 to nan"
   ]
  },
  {
   "cell_type": "code",
   "execution_count": null,
   "metadata": {},
   "outputs": [],
   "source": []
  },
  {
   "cell_type": "code",
   "execution_count": 53,
   "metadata": {},
   "outputs": [],
   "source": [
    "prect_rcp = prect_rcp.where(prect_rcp<0.1, drop=True)"
   ]
  },
  {
   "cell_type": "code",
   "execution_count": 55,
   "metadata": {},
   "outputs": [
    {
     "data": {
      "text/plain": [
       "array([[[1.9685503e-03, 1.9685503e-03, 1.9685503e-03, ...,\n",
       "         1.9685503e-03, 1.9685503e-03, 1.9685503e-03],\n",
       "        [5.7021058e-08, 5.3661434e-08, 4.6249323e-08, ...,\n",
       "         6.4691235e-08, 6.1888983e-08, 5.9000499e-08],\n",
       "        [4.3482449e-09, 7.2324413e-09, 9.1068317e-09, ...,\n",
       "         1.6945068e-10, 4.4182497e-10, 1.7293088e-09],\n",
       "        ...,\n",
       "        [          nan,           nan,           nan, ...,\n",
       "                   nan,           nan,           nan],\n",
       "        [          nan,           nan,           nan, ...,\n",
       "                   nan,           nan,           nan],\n",
       "        [          nan,           nan,           nan, ...,\n",
       "                   nan,           nan,           nan]],\n",
       "\n",
       "       [[2.1577373e-04, 2.1577373e-04, 2.1577373e-04, ...,\n",
       "         2.1577373e-04, 2.1577373e-04, 2.1577373e-04],\n",
       "        [5.9778000e-09, 5.3232831e-09, 5.5740057e-09, ...,\n",
       "         6.5089085e-09, 5.9206129e-09, 6.0467729e-09],\n",
       "        [1.8130570e-06, 3.7517887e-06, 6.9902944e-06, ...,\n",
       "         4.0232248e-08, 2.5080061e-07, 7.5276984e-07],\n",
       "        ...,\n",
       "        [          nan,           nan,           nan, ...,\n",
       "                   nan,           nan,           nan],\n",
       "        [          nan,           nan,           nan, ...,\n",
       "                   nan,           nan,           nan],\n",
       "        [          nan,           nan,           nan, ...,\n",
       "                   nan,           nan,           nan]],\n",
       "\n",
       "       [[1.1276858e-06, 1.1276858e-06, 1.1276858e-06, ...,\n",
       "         1.1276858e-06, 1.1276858e-06, 1.1276858e-06],\n",
       "        [1.6167523e-05, 1.7629009e-05, 1.9257117e-05, ...,\n",
       "         1.2404174e-05, 1.3634303e-05, 1.4888590e-05],\n",
       "        [5.4596498e-05, 7.7299592e-05, 1.0680976e-04, ...,\n",
       "         1.7603428e-05, 2.6131969e-05, 3.8013830e-05],\n",
       "        ...,\n",
       "        [          nan,           nan,           nan, ...,\n",
       "                   nan,           nan,           nan],\n",
       "        [          nan,           nan,           nan, ...,\n",
       "                   nan,           nan,           nan],\n",
       "        [8.7790094e-02, 8.7790094e-02, 8.7790094e-02, ...,\n",
       "         8.7790094e-02, 8.7790094e-02, 8.7790094e-02]],\n",
       "\n",
       "       ...,\n",
       "\n",
       "       [[6.8388761e-09, 6.8388761e-09, 6.8388761e-09, ...,\n",
       "         6.8388761e-09, 6.8388761e-09, 6.8388761e-09],\n",
       "        [6.3816363e-10, 7.0764322e-10, 9.6956487e-10, ...,\n",
       "         1.7339685e-11, 1.6166798e-10, 6.1123906e-10],\n",
       "        [1.2134892e-07, 1.0929752e-07, 1.0599860e-07, ...,\n",
       "         1.1071059e-07, 1.2235898e-07, 1.2673279e-07],\n",
       "        ...,\n",
       "        [          nan,           nan,           nan, ...,\n",
       "                   nan,           nan,           nan],\n",
       "        [          nan,           nan,           nan, ...,\n",
       "                   nan,           nan,           nan],\n",
       "        [          nan,           nan,           nan, ...,\n",
       "                   nan,           nan,           nan]],\n",
       "\n",
       "       [[6.5168180e-03, 6.5168180e-03, 6.5168180e-03, ...,\n",
       "         6.5168180e-03, 6.5168180e-03, 6.5168180e-03],\n",
       "        [6.7820624e-03, 6.9223731e-03, 7.2625289e-03, ...,\n",
       "         9.3387058e-03, 8.3237719e-03, 7.4214241e-03],\n",
       "        [5.8627478e-03, 6.0489238e-03, 6.0887188e-03, ...,\n",
       "         2.2012505e-03, 3.9952192e-03, 5.0584530e-03],\n",
       "        ...,\n",
       "        [          nan,           nan,           nan, ...,\n",
       "                   nan,           nan,           nan],\n",
       "        [          nan,           nan,           nan, ...,\n",
       "                   nan,           nan,           nan],\n",
       "        [          nan,           nan,           nan, ...,\n",
       "                   nan,           nan,           nan]],\n",
       "\n",
       "       [[4.0546961e-02, 4.0546961e-02, 4.0546961e-02, ...,\n",
       "         4.0546961e-02, 4.0546961e-02, 4.0546961e-02],\n",
       "        [4.9472686e-02, 4.6751749e-02, 4.6854042e-02, ...,\n",
       "         5.1135257e-02, 5.1103737e-02, 4.9619704e-02],\n",
       "        [5.8036977e-03, 6.2930933e-03, 6.9223256e-03, ...,\n",
       "         5.7826233e-03, 5.9754164e-03, 5.7915305e-03],\n",
       "        ...,\n",
       "        [          nan,           nan,           nan, ...,\n",
       "                   nan,           nan,           nan],\n",
       "        [          nan,           nan,           nan, ...,\n",
       "                   nan,           nan,           nan],\n",
       "        [          nan,           nan,           nan, ...,\n",
       "                   nan,           nan,           nan]]], dtype=float32)"
      ]
     },
     "execution_count": 55,
     "metadata": {},
     "output_type": "execute_result"
    }
   ],
   "source": [
    "prect_rcp.values"
   ]
  },
  {
   "cell_type": "code",
   "execution_count": null,
   "metadata": {},
   "outputs": [],
   "source": []
  }
 ],
 "metadata": {
  "kernelspec": {
   "display_name": "Python 3",
   "language": "python",
   "name": "python3"
  },
  "language_info": {
   "codemirror_mode": {
    "name": "ipython",
    "version": 3
   },
   "file_extension": ".py",
   "mimetype": "text/x-python",
   "name": "python",
   "nbconvert_exporter": "python",
   "pygments_lexer": "ipython3",
   "version": "3.6.6"
  }
 },
 "nbformat": 4,
 "nbformat_minor": 2
}
